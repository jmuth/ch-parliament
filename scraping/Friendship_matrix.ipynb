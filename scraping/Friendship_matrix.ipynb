{
 "cells": [
  {
   "cell_type": "code",
   "execution_count": 103,
   "metadata": {
    "collapsed": false
   },
   "outputs": [
    {
     "name": "stdout",
     "output_type": "stream",
     "text": [
      "The autoreload extension is already loaded. To reload it, use:\n",
      "  %reload_ext autoreload\n"
     ]
    }
   ],
   "source": [
    "# Import some useful libraries\n",
    "%matplotlib inline\n",
    "import pandas as pd\n",
    "import urllib\n",
    "import xml.etree.ElementTree as ET\n",
    "from scraper import *\n",
    "import numpy as np\n",
    "import scipy.sparse as sp\n",
    "%load_ext autoreload\n",
    "%autoreload 2\n",
    "\n",
    "# display all pandas columns\n",
    "pd.set_option('display.max_columns', 100)"
   ]
  },
  {
   "cell_type": "markdown",
   "metadata": {},
   "source": [
    "# Friendship Matrix\n",
    "\n",
    "Scraping of initiative tables"
   ]
  },
  {
   "cell_type": "code",
   "execution_count": 4,
   "metadata": {
    "collapsed": false
   },
   "outputs": [
    {
     "name": "stderr",
     "output_type": "stream",
     "text": [
      "/Users/joachimmuth/anaconda3/lib/python3.5/site-packages/IPython/core/interactiveshell.py:2717: DtypeWarning: Columns (10,27) have mixed types. Specify dtype option on import or set low_memory=False.\n",
      "  interactivity=interactivity, compiler=compiler, result=result)\n"
     ]
    }
   ],
   "source": [
    "df_business = pd.read_csv('data/Business.csv')\n",
    "df_role = pd.read_csv('data/BusinessRole.csv')\n",
    "df_status = pd.read_csv('data/BusinessStatus.csv')\n",
    "df_type = pd.read_csv('data/BusinessType.csv')\n",
    "df_member = pd.read_csv('data/MemberCouncil.csv')"
   ]
  },
  {
   "cell_type": "markdown",
   "metadata": {},
   "source": [
    "## Explanation\n",
    "\n",
    "* **Business** is the table of initiatives\n",
    "* **BusinessRole** table of all the person who act for or against a business. IMPORTANT! **BusinessRole.MemberCouncilNumber** link to **MemberCouncil.PersonNumber**. **BusinessShortNumber** link businesses and roles.\n",
    "    * Auteur\n",
    "    * Cosignataire\n",
    "    * Porte-parole\n",
    "    * Opposant(e)\n",
    "    * Repreneur\n",
    "    \n",
    "* **BusinessType** contain all 18 types of businesses. As the type is reapeated in **Business.BusinessType** and **Business.BusinessTypeName**, it is not useful for us.\n",
    "* **BusinessStatus** give the current status of a business. Again, this information is given in **Business.BusinessStatusText**, so not useful\n"
   ]
  },
  {
   "cell_type": "code",
   "execution_count": 34,
   "metadata": {
    "collapsed": false,
    "scrolled": true
   },
   "outputs": [
    {
     "name": "stdout",
     "output_type": "stream",
     "text": [
      "(38802, 44)\n"
     ]
    },
    {
     "data": {
      "text/html": [
       "<div>\n",
       "<table border=\"1\" class=\"dataframe\">\n",
       "  <thead>\n",
       "    <tr style=\"text-align: right;\">\n",
       "      <th></th>\n",
       "      <th>Unnamed: 0</th>\n",
       "      <th>BusinessShortNumber</th>\n",
       "      <th>BusinessStatus</th>\n",
       "      <th>BusinessStatusDate</th>\n",
       "      <th>BusinessStatusText</th>\n",
       "      <th>BusinessType</th>\n",
       "      <th>BusinessTypeAbbreviation</th>\n",
       "      <th>BusinessTypeName</th>\n",
       "      <th>Category</th>\n",
       "      <th>Description</th>\n",
       "      <th>DocumentationText</th>\n",
       "      <th>DraftText</th>\n",
       "      <th>FederalCouncilProposal</th>\n",
       "      <th>FederalCouncilProposalDate</th>\n",
       "      <th>FederalCouncilProposalText</th>\n",
       "      <th>FederalCouncilResponseText</th>\n",
       "      <th>FirstCouncil1</th>\n",
       "      <th>FirstCouncil1Abbreviation</th>\n",
       "      <th>FirstCouncil1Name</th>\n",
       "      <th>FirstCouncil2</th>\n",
       "      <th>FirstCouncil2Abbreviation</th>\n",
       "      <th>FirstCouncil2Name</th>\n",
       "      <th>ID</th>\n",
       "      <th>InitialSituation</th>\n",
       "      <th>IsLeadingDepartment</th>\n",
       "      <th>Language</th>\n",
       "      <th>Modified</th>\n",
       "      <th>MotionText</th>\n",
       "      <th>Proceedings</th>\n",
       "      <th>ReasonText</th>\n",
       "      <th>ResponsibleDepartment</th>\n",
       "      <th>ResponsibleDepartmentAbbreviation</th>\n",
       "      <th>ResponsibleDepartmentName</th>\n",
       "      <th>SubmissionCouncil</th>\n",
       "      <th>SubmissionCouncilAbbreviation</th>\n",
       "      <th>SubmissionCouncilName</th>\n",
       "      <th>SubmissionDate</th>\n",
       "      <th>SubmissionLegislativePeriod</th>\n",
       "      <th>SubmissionSession</th>\n",
       "      <th>SubmittedBy</th>\n",
       "      <th>SubmittedText</th>\n",
       "      <th>TagNames</th>\n",
       "      <th>Tags</th>\n",
       "      <th>Title</th>\n",
       "    </tr>\n",
       "  </thead>\n",
       "  <tbody>\n",
       "    <tr>\n",
       "      <th>0</th>\n",
       "      <td>0</td>\n",
       "      <td>11.758</td>\n",
       "      <td>27</td>\n",
       "      <td>2000-09-26T00:00:00</td>\n",
       "      <td>Liquidé</td>\n",
       "      <td>3</td>\n",
       "      <td>Iv.ct.</td>\n",
       "      <td>Initiative cantonale</td>\n",
       "      <td>NaN</td>\n",
       "      <td>NaN</td>\n",
       "      <td>NaN</td>\n",
       "      <td>NaN</td>\n",
       "      <td>NaN</td>\n",
       "      <td>NaN</td>\n",
       "      <td>NaN</td>\n",
       "      <td>NaN</td>\n",
       "      <td>1.0</td>\n",
       "      <td>CN</td>\n",
       "      <td>Conseil national</td>\n",
       "      <td>NaN</td>\n",
       "      <td>NaN</td>\n",
       "      <td>NaN</td>\n",
       "      <td>19110758</td>\n",
       "      <td>NaN</td>\n",
       "      <td>True</td>\n",
       "      <td>FR</td>\n",
       "      <td>2010-12-26T13:31:48.703</td>\n",
       "      <td>NaN</td>\n",
       "      <td>NaN</td>\n",
       "      <td>NaN</td>\n",
       "      <td>4.0</td>\n",
       "      <td>DFI</td>\n",
       "      <td>Département de l'intérieur</td>\n",
       "      <td>NaN</td>\n",
       "      <td>NaN</td>\n",
       "      <td>NaN</td>\n",
       "      <td>1973-08-15T00:00:00</td>\n",
       "      <td>39.0</td>\n",
       "      <td>4311</td>\n",
       "      <td>Berne</td>\n",
       "      <td>&lt;text&gt;&lt;p&gt;La législation fédérale doit être dév...</td>\n",
       "      <td>NaN</td>\n",
       "      <td>NaN</td>\n",
       "      <td>Médicaments. Législation</td>\n",
       "    </tr>\n",
       "    <tr>\n",
       "      <th>1</th>\n",
       "      <td>1</td>\n",
       "      <td>78.222</td>\n",
       "      <td>27</td>\n",
       "      <td>1981-03-10T00:00:00</td>\n",
       "      <td>Liquidé</td>\n",
       "      <td>4</td>\n",
       "      <td>Iv.pa.</td>\n",
       "      <td>Initiative parlementaire</td>\n",
       "      <td>NaN</td>\n",
       "      <td>Rapport de la Commission du 27.08.1979</td>\n",
       "      <td>NaN</td>\n",
       "      <td>NaN</td>\n",
       "      <td>NaN</td>\n",
       "      <td>NaN</td>\n",
       "      <td>NaN</td>\n",
       "      <td>NaN</td>\n",
       "      <td>1.0</td>\n",
       "      <td>CN</td>\n",
       "      <td>Conseil national</td>\n",
       "      <td>NaN</td>\n",
       "      <td>NaN</td>\n",
       "      <td>NaN</td>\n",
       "      <td>19780222</td>\n",
       "      <td>NaN</td>\n",
       "      <td>NaN</td>\n",
       "      <td>FR</td>\n",
       "      <td>2010-12-26T13:31:48.703</td>\n",
       "      <td>NaN</td>\n",
       "      <td>NaN</td>\n",
       "      <td>NaN</td>\n",
       "      <td>NaN</td>\n",
       "      <td>NaN</td>\n",
       "      <td>NaN</td>\n",
       "      <td>1.0</td>\n",
       "      <td>CN</td>\n",
       "      <td>Conseil national</td>\n",
       "      <td>1978-06-05T00:00:00</td>\n",
       "      <td>40.0</td>\n",
       "      <td>4311</td>\n",
       "      <td>NaN</td>\n",
       "      <td>NaN</td>\n",
       "      <td>NaN</td>\n",
       "      <td>NaN</td>\n",
       "      <td>Code pénal. Interruption de la grossesse (Gira...</td>\n",
       "    </tr>\n",
       "  </tbody>\n",
       "</table>\n",
       "</div>"
      ],
      "text/plain": [
       "   Unnamed: 0  BusinessShortNumber  BusinessStatus   BusinessStatusDate  \\\n",
       "0           0               11.758              27  2000-09-26T00:00:00   \n",
       "1           1               78.222              27  1981-03-10T00:00:00   \n",
       "\n",
       "  BusinessStatusText  BusinessType BusinessTypeAbbreviation  \\\n",
       "0            Liquidé             3                   Iv.ct.   \n",
       "1            Liquidé             4                   Iv.pa.   \n",
       "\n",
       "           BusinessTypeName Category                             Description  \\\n",
       "0      Initiative cantonale      NaN                                     NaN   \n",
       "1  Initiative parlementaire      NaN  Rapport de la Commission du 27.08.1979   \n",
       "\n",
       "  DocumentationText  DraftText  FederalCouncilProposal  \\\n",
       "0               NaN        NaN                     NaN   \n",
       "1               NaN        NaN                     NaN   \n",
       "\n",
       "  FederalCouncilProposalDate FederalCouncilProposalText  \\\n",
       "0                        NaN                        NaN   \n",
       "1                        NaN                        NaN   \n",
       "\n",
       "  FederalCouncilResponseText  FirstCouncil1 FirstCouncil1Abbreviation  \\\n",
       "0                        NaN            1.0                        CN   \n",
       "1                        NaN            1.0                        CN   \n",
       "\n",
       "  FirstCouncil1Name  FirstCouncil2 FirstCouncil2Abbreviation  \\\n",
       "0  Conseil national            NaN                       NaN   \n",
       "1  Conseil national            NaN                       NaN   \n",
       "\n",
       "  FirstCouncil2Name        ID InitialSituation IsLeadingDepartment Language  \\\n",
       "0               NaN  19110758              NaN                True       FR   \n",
       "1               NaN  19780222              NaN                 NaN       FR   \n",
       "\n",
       "                  Modified MotionText Proceedings ReasonText  \\\n",
       "0  2010-12-26T13:31:48.703        NaN         NaN        NaN   \n",
       "1  2010-12-26T13:31:48.703        NaN         NaN        NaN   \n",
       "\n",
       "   ResponsibleDepartment ResponsibleDepartmentAbbreviation  \\\n",
       "0                    4.0                               DFI   \n",
       "1                    NaN                               NaN   \n",
       "\n",
       "    ResponsibleDepartmentName  SubmissionCouncil  \\\n",
       "0  Département de l'intérieur                NaN   \n",
       "1                         NaN                1.0   \n",
       "\n",
       "  SubmissionCouncilAbbreviation SubmissionCouncilName       SubmissionDate  \\\n",
       "0                           NaN                   NaN  1973-08-15T00:00:00   \n",
       "1                            CN      Conseil national  1978-06-05T00:00:00   \n",
       "\n",
       "   SubmissionLegislativePeriod  SubmissionSession SubmittedBy  \\\n",
       "0                         39.0               4311       Berne   \n",
       "1                         40.0               4311         NaN   \n",
       "\n",
       "                                       SubmittedText TagNames Tags  \\\n",
       "0  <text><p>La législation fédérale doit être dév...      NaN  NaN   \n",
       "1                                                NaN      NaN  NaN   \n",
       "\n",
       "                                               Title  \n",
       "0                           Médicaments. Législation  \n",
       "1  Code pénal. Interruption de la grossesse (Gira...  "
      ]
     },
     "execution_count": 34,
     "metadata": {},
     "output_type": "execute_result"
    }
   ],
   "source": [
    "print(df_business.shape)\n",
    "df_business.head(2)"
   ]
  },
  {
   "cell_type": "code",
   "execution_count": 46,
   "metadata": {
    "collapsed": false
   },
   "outputs": [
    {
     "name": "stdout",
     "output_type": "stream",
     "text": [
      "(356969, 19)\n"
     ]
    },
    {
     "data": {
      "text/html": [
       "<div>\n",
       "<table border=\"1\" class=\"dataframe\">\n",
       "  <thead>\n",
       "    <tr style=\"text-align: right;\">\n",
       "      <th></th>\n",
       "      <th>Unnamed: 0</th>\n",
       "      <th>BusinessNumber</th>\n",
       "      <th>BusinessShortNumber</th>\n",
       "      <th>BusinessSubmissionDate</th>\n",
       "      <th>BusinessTitle</th>\n",
       "      <th>BusinessType</th>\n",
       "      <th>BusinessTypeAbbreviation</th>\n",
       "      <th>BusinessTypeName</th>\n",
       "      <th>CantonNumber</th>\n",
       "      <th>CommitteeNumber</th>\n",
       "      <th>ID</th>\n",
       "      <th>IdExternal</th>\n",
       "      <th>Language</th>\n",
       "      <th>MemberCouncilNumber</th>\n",
       "      <th>Modified</th>\n",
       "      <th>ParlGroupNumber</th>\n",
       "      <th>ReturnType</th>\n",
       "      <th>Role</th>\n",
       "      <th>RoleName</th>\n",
       "    </tr>\n",
       "  </thead>\n",
       "  <tbody>\n",
       "    <tr>\n",
       "      <th>0</th>\n",
       "      <td>0</td>\n",
       "      <td>19110758</td>\n",
       "      <td>11.758</td>\n",
       "      <td>1973-08-15T00:00:00</td>\n",
       "      <td>Médicaments. Législation</td>\n",
       "      <td>3</td>\n",
       "      <td>Iv.ct.</td>\n",
       "      <td>Initiative cantonale</td>\n",
       "      <td>2.0</td>\n",
       "      <td>NaN</td>\n",
       "      <td>8cf23579-9fd7-4be3-a338-b654da878d8c</td>\n",
       "      <td>NaN</td>\n",
       "      <td>FR</td>\n",
       "      <td>NaN</td>\n",
       "      <td>2010-12-26T13:07:38.53</td>\n",
       "      <td>NaN</td>\n",
       "      <td>1</td>\n",
       "      <td>7</td>\n",
       "      <td>Auteur</td>\n",
       "    </tr>\n",
       "    <tr>\n",
       "      <th>1</th>\n",
       "      <td>1</td>\n",
       "      <td>19850227</td>\n",
       "      <td>85.227</td>\n",
       "      <td>1985-02-07T00:00:00</td>\n",
       "      <td>Droit des assurances sociales</td>\n",
       "      <td>4</td>\n",
       "      <td>Iv.pa.</td>\n",
       "      <td>Initiative parlementaire</td>\n",
       "      <td>NaN</td>\n",
       "      <td>NaN</td>\n",
       "      <td>f2ccb9d9-b2fd-4fda-abeb-43e61f020921</td>\n",
       "      <td>NaN</td>\n",
       "      <td>FR</td>\n",
       "      <td>148.0</td>\n",
       "      <td>2010-12-26T13:07:38.53</td>\n",
       "      <td>NaN</td>\n",
       "      <td>0</td>\n",
       "      <td>7</td>\n",
       "      <td>Auteur</td>\n",
       "    </tr>\n",
       "    <tr>\n",
       "      <th>2</th>\n",
       "      <td>2</td>\n",
       "      <td>19880208</td>\n",
       "      <td>88.208</td>\n",
       "      <td>1988-11-25T00:00:00</td>\n",
       "      <td>Abandon du projet de centrale nucléaire de Graben</td>\n",
       "      <td>3</td>\n",
       "      <td>Iv.ct.</td>\n",
       "      <td>Initiative cantonale</td>\n",
       "      <td>11.0</td>\n",
       "      <td>NaN</td>\n",
       "      <td>4c34e2a2-891e-4b28-8917-170c4c3d2313</td>\n",
       "      <td>NaN</td>\n",
       "      <td>FR</td>\n",
       "      <td>NaN</td>\n",
       "      <td>2010-12-26T13:07:38.53</td>\n",
       "      <td>NaN</td>\n",
       "      <td>1</td>\n",
       "      <td>7</td>\n",
       "      <td>Auteur</td>\n",
       "    </tr>\n",
       "    <tr>\n",
       "      <th>3</th>\n",
       "      <td>3</td>\n",
       "      <td>19890245</td>\n",
       "      <td>89.245</td>\n",
       "      <td>1989-11-27T00:00:00</td>\n",
       "      <td>Service civil</td>\n",
       "      <td>4</td>\n",
       "      <td>Iv.pa.</td>\n",
       "      <td>Initiative parlementaire</td>\n",
       "      <td>NaN</td>\n",
       "      <td>NaN</td>\n",
       "      <td>4156c078-6a3c-4279-95f7-4802374379a6</td>\n",
       "      <td>NaN</td>\n",
       "      <td>FR</td>\n",
       "      <td>114.0</td>\n",
       "      <td>2010-12-26T13:07:38.53</td>\n",
       "      <td>NaN</td>\n",
       "      <td>0</td>\n",
       "      <td>7</td>\n",
       "      <td>Auteur</td>\n",
       "    </tr>\n",
       "    <tr>\n",
       "      <th>4</th>\n",
       "      <td>4</td>\n",
       "      <td>19890255</td>\n",
       "      <td>89.255</td>\n",
       "      <td>1989-12-15T00:00:00</td>\n",
       "      <td>Réserves d'or de la Banque nationale</td>\n",
       "      <td>4</td>\n",
       "      <td>Iv.pa.</td>\n",
       "      <td>Initiative parlementaire</td>\n",
       "      <td>NaN</td>\n",
       "      <td>NaN</td>\n",
       "      <td>081932bd-7632-4ef4-8b51-a66ee174be98</td>\n",
       "      <td>NaN</td>\n",
       "      <td>FR</td>\n",
       "      <td>102.0</td>\n",
       "      <td>2010-12-26T13:07:38.53</td>\n",
       "      <td>NaN</td>\n",
       "      <td>0</td>\n",
       "      <td>7</td>\n",
       "      <td>Auteur</td>\n",
       "    </tr>\n",
       "  </tbody>\n",
       "</table>\n",
       "</div>"
      ],
      "text/plain": [
       "   Unnamed: 0  BusinessNumber  BusinessShortNumber BusinessSubmissionDate  \\\n",
       "0           0        19110758               11.758    1973-08-15T00:00:00   \n",
       "1           1        19850227               85.227    1985-02-07T00:00:00   \n",
       "2           2        19880208               88.208    1988-11-25T00:00:00   \n",
       "3           3        19890245               89.245    1989-11-27T00:00:00   \n",
       "4           4        19890255               89.255    1989-12-15T00:00:00   \n",
       "\n",
       "                                       BusinessTitle  BusinessType  \\\n",
       "0                           Médicaments. Législation             3   \n",
       "1                      Droit des assurances sociales             4   \n",
       "2  Abandon du projet de centrale nucléaire de Graben             3   \n",
       "3                                      Service civil             4   \n",
       "4               Réserves d'or de la Banque nationale             4   \n",
       "\n",
       "  BusinessTypeAbbreviation          BusinessTypeName  CantonNumber  \\\n",
       "0                   Iv.ct.      Initiative cantonale           2.0   \n",
       "1                   Iv.pa.  Initiative parlementaire           NaN   \n",
       "2                   Iv.ct.      Initiative cantonale          11.0   \n",
       "3                   Iv.pa.  Initiative parlementaire           NaN   \n",
       "4                   Iv.pa.  Initiative parlementaire           NaN   \n",
       "\n",
       "   CommitteeNumber                                    ID IdExternal Language  \\\n",
       "0              NaN  8cf23579-9fd7-4be3-a338-b654da878d8c        NaN       FR   \n",
       "1              NaN  f2ccb9d9-b2fd-4fda-abeb-43e61f020921        NaN       FR   \n",
       "2              NaN  4c34e2a2-891e-4b28-8917-170c4c3d2313        NaN       FR   \n",
       "3              NaN  4156c078-6a3c-4279-95f7-4802374379a6        NaN       FR   \n",
       "4              NaN  081932bd-7632-4ef4-8b51-a66ee174be98        NaN       FR   \n",
       "\n",
       "   MemberCouncilNumber                Modified  ParlGroupNumber  ReturnType  \\\n",
       "0                  NaN  2010-12-26T13:07:38.53              NaN           1   \n",
       "1                148.0  2010-12-26T13:07:38.53              NaN           0   \n",
       "2                  NaN  2010-12-26T13:07:38.53              NaN           1   \n",
       "3                114.0  2010-12-26T13:07:38.53              NaN           0   \n",
       "4                102.0  2010-12-26T13:07:38.53              NaN           0   \n",
       "\n",
       "   Role RoleName  \n",
       "0     7   Auteur  \n",
       "1     7   Auteur  \n",
       "2     7   Auteur  \n",
       "3     7   Auteur  \n",
       "4     7   Auteur  "
      ]
     },
     "execution_count": 46,
     "metadata": {},
     "output_type": "execute_result"
    }
   ],
   "source": [
    "print(df_role.shape)\n",
    "df_role.head()"
   ]
  },
  {
   "cell_type": "markdown",
   "metadata": {},
   "source": [
    "## Get number of initiative the guy are author"
   ]
  },
  {
   "cell_type": "code",
   "execution_count": 92,
   "metadata": {
    "collapsed": false,
    "scrolled": false
   },
   "outputs": [],
   "source": [
    "member_number_initiatives  = df_role.loc[(df_role.MemberCouncilNumber.notnull()) & (df_role.RoleName == 'Auteur')].groupby('MemberCouncilNumber').size()\n",
    "\n",
    "member_number_initiatives = member_number_initiatives.to_frame(name='Times_author').head()"
   ]
  },
  {
   "cell_type": "code",
   "execution_count": 96,
   "metadata": {
    "collapsed": false
   },
   "outputs": [
    {
     "data": {
      "text/html": [
       "<div>\n",
       "<table border=\"1\" class=\"dataframe\">\n",
       "  <thead>\n",
       "    <tr style=\"text-align: right;\">\n",
       "      <th></th>\n",
       "      <th>Times_author</th>\n",
       "    </tr>\n",
       "    <tr>\n",
       "      <th>MemberCouncilNumber</th>\n",
       "      <th></th>\n",
       "    </tr>\n",
       "  </thead>\n",
       "  <tbody>\n",
       "    <tr>\n",
       "      <th>1.0</th>\n",
       "      <td>42</td>\n",
       "    </tr>\n",
       "    <tr>\n",
       "      <th>2.0</th>\n",
       "      <td>6</td>\n",
       "    </tr>\n",
       "    <tr>\n",
       "      <th>6.0</th>\n",
       "      <td>1</td>\n",
       "    </tr>\n",
       "    <tr>\n",
       "      <th>7.0</th>\n",
       "      <td>10</td>\n",
       "    </tr>\n",
       "    <tr>\n",
       "      <th>8.0</th>\n",
       "      <td>5</td>\n",
       "    </tr>\n",
       "  </tbody>\n",
       "</table>\n",
       "</div>"
      ],
      "text/plain": [
       "                     Times_author\n",
       "MemberCouncilNumber              \n",
       "1.0                            42\n",
       "2.0                             6\n",
       "6.0                             1\n",
       "7.0                            10\n",
       "8.0                             5"
      ]
     },
     "execution_count": 96,
     "metadata": {},
     "output_type": "execute_result"
    }
   ],
   "source": [
    "member_number_initiatives.head()"
   ]
  },
  {
   "cell_type": "markdown",
   "metadata": {},
   "source": [
    "## SciPy sparse matrix\n",
    "\n",
    "Create a Scipy relation with attribute:\n",
    "* row: autor\n",
    "* column: co-signer\n",
    "* data: number he co-sign for him\n",
    "\n",
    "We can also do it with a pandas, and limite the number of person for juste the one still in function. Anyway..."
   ]
  },
  {
   "cell_type": "code",
   "execution_count": 217,
   "metadata": {
    "collapsed": false
   },
   "outputs": [
    {
     "name": "stdout",
     "output_type": "stream",
     "text": [
      "Cosignataires:  (316548, 2)\n",
      "Auteurs:  (31095, 2)\n"
     ]
    },
    {
     "data": {
      "text/html": [
       "<div>\n",
       "<table border=\"1\" class=\"dataframe\">\n",
       "  <thead>\n",
       "    <tr style=\"text-align: right;\">\n",
       "      <th></th>\n",
       "      <th>BusinessNumber</th>\n",
       "      <th>MemberCouncilNumber</th>\n",
       "    </tr>\n",
       "  </thead>\n",
       "  <tbody>\n",
       "    <tr>\n",
       "      <th>1</th>\n",
       "      <td>19850227</td>\n",
       "      <td>148</td>\n",
       "    </tr>\n",
       "    <tr>\n",
       "      <th>3</th>\n",
       "      <td>19890245</td>\n",
       "      <td>114</td>\n",
       "    </tr>\n",
       "  </tbody>\n",
       "</table>\n",
       "</div>"
      ],
      "text/plain": [
       "   BusinessNumber  MemberCouncilNumber\n",
       "1        19850227                  148\n",
       "3        19890245                  114"
      ]
     },
     "execution_count": 217,
     "metadata": {},
     "output_type": "execute_result"
    }
   ],
   "source": [
    "# create Autor and Co-signer table\n",
    "\n",
    "Cosignataire = df_role.loc[(df_role.MemberCouncilNumber.notnull()) & (df_role.RoleName == 'Cosignataire')]\n",
    "Cosignataire = Cosignataire[['BusinessNumber', 'MemberCouncilNumber']]\n",
    "Cosignataire = Cosignataire.astype(int)\n",
    "print(\"Cosignataires: \", Cosignataire.shape)\n",
    "\n",
    "Auteur = df_role.loc[(df_role.MemberCouncilNumber.notnull()) & (df_role.RoleName == 'Auteur')]\n",
    "Auteur = Auteur[['BusinessNumber', 'MemberCouncilNumber']]\n",
    "Auteur = Auteur.astype(int)\n",
    "print(\"Auteurs: \", Auteur.shape)\n",
    "Auteur.head(2)"
   ]
  },
  {
   "cell_type": "code",
   "execution_count": 218,
   "metadata": {
    "collapsed": false
   },
   "outputs": [
    {
     "data": {
      "text/plain": [
       "(array([   1,    1,    1, ..., 4209, 4209, 4209], dtype=int32),\n",
       " array([   1,    8,    9, ..., 4200, 4202, 4208], dtype=int32))"
      ]
     },
     "execution_count": 218,
     "metadata": {},
     "output_type": "execute_result"
    }
   ],
   "source": [
    "# Fill the sparse matrix\n",
    "\n",
    "max_id = df_member.PersonNumber.max()\n",
    "friends = sp.lil_matrix((max_id, max_id), dtype=np.int32)\n",
    "\n",
    "def add_to_friend(autor, coautors):\n",
    "    for coautor in coautors:\n",
    "        friends[autor, coautor] += 1\n",
    "        \n",
    "        \n",
    "def fill_matrix(Auteur, Cosignataire):\n",
    "    for (auteur_num, bus_num) in zip(Auteur.MemberCouncilNumber, Auteur.BusinessNumber):\n",
    "        coautors = Cosignataire.loc[Cosignataire.BusinessNumber == bus_num]['MemberCouncilNumber']\n",
    "        if coautors.size != 0:\n",
    "            add_to_friend(auteur_num, coautors)\n",
    "        \n",
    "fill_matrix(Auteur, Cosignataire)\n",
    "friends.nonzero()"
   ]
  },
  {
   "cell_type": "code",
   "execution_count": 252,
   "metadata": {
    "collapsed": false
   },
   "outputs": [
    {
     "data": {
      "text/html": [
       "<div>\n",
       "<table border=\"1\" class=\"dataframe\">\n",
       "  <thead>\n",
       "    <tr style=\"text-align: right;\">\n",
       "      <th></th>\n",
       "      <th>Person_num</th>\n",
       "      <th>times_cosigner</th>\n",
       "    </tr>\n",
       "  </thead>\n",
       "  <tbody>\n",
       "    <tr>\n",
       "      <th>0</th>\n",
       "      <td>246</td>\n",
       "      <td>32</td>\n",
       "    </tr>\n",
       "    <tr>\n",
       "      <th>1</th>\n",
       "      <td>56</td>\n",
       "      <td>30</td>\n",
       "    </tr>\n",
       "    <tr>\n",
       "      <th>2</th>\n",
       "      <td>183</td>\n",
       "      <td>29</td>\n",
       "    </tr>\n",
       "    <tr>\n",
       "      <th>3</th>\n",
       "      <td>25</td>\n",
       "      <td>28</td>\n",
       "    </tr>\n",
       "    <tr>\n",
       "      <th>4</th>\n",
       "      <td>39</td>\n",
       "      <td>27</td>\n",
       "    </tr>\n",
       "  </tbody>\n",
       "</table>\n",
       "</div>"
      ],
      "text/plain": [
       "   Person_num  times_cosigner\n",
       "0         246              32\n",
       "1          56              30\n",
       "2         183              29\n",
       "3          25              28\n",
       "4          39              27"
      ]
     },
     "execution_count": 252,
     "metadata": {},
     "output_type": "execute_result"
    }
   ],
   "source": [
    "# return a pandas.DataFrame with the friend of the person, ordered by times they cosign something\n",
    "\n",
    "def get_friends(friend_matrix, person_num):\n",
    "    x = friend_matrix[person_num,:].nonzero()[1]\n",
    "    y = friend_matrix[person_num,:].data[0]\n",
    "\n",
    "    df = pd.DataFrame({'Person_num':x, 'times_cosigner':y })\n",
    "    df = df.sort_values(by='times_cosigner', ascending=False)\n",
    "    df = df.reset_index(drop=True)\n",
    "    return df\n",
    "   \n",
    "get_friends(friends, 1).head()"
   ]
  },
  {
   "cell_type": "code",
   "execution_count": null,
   "metadata": {
    "collapsed": true
   },
   "outputs": [],
   "source": []
  },
  {
   "cell_type": "code",
   "execution_count": null,
   "metadata": {
    "collapsed": true
   },
   "outputs": [],
   "source": []
  }
 ],
 "metadata": {
  "anaconda-cloud": {},
  "kernelspec": {
   "display_name": "Python [conda root]",
   "language": "python",
   "name": "conda-root-py"
  },
  "language_info": {
   "codemirror_mode": {
    "name": "ipython",
    "version": 3
   },
   "file_extension": ".py",
   "mimetype": "text/x-python",
   "name": "python",
   "nbconvert_exporter": "python",
   "pygments_lexer": "ipython3",
   "version": "3.5.2"
  }
 },
 "nbformat": 4,
 "nbformat_minor": 1
}

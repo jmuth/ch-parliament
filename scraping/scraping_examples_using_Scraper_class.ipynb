{
 "cells": [
  {
   "cell_type": "markdown",
   "metadata": {},
   "source": [
    "# Scraping of http://www.parlament.ch\n",
    "\n",
    "First, we need to scrap some information from the website http://parlament.ch. In this notebook, we will scrap different information. These information will be stored in the folder *data*. If you just cloned the repo and you need some data, please run this python notebook to scrap all the data. \n",
    "\n",
    "For the scraping, we are using the library `requests`. The metadata of the website are provided and working with XOData. So, we get the urls using XOData, then we get the XML using `requests` and we transform the XML into JSON using the library `xmltodict`.\n",
    "\n",
    "URL of the metadata: https://ws.parlament.ch/odata.svc/$metadata"
   ]
  },
  {
   "cell_type": "code",
   "execution_count": 31,
   "metadata": {
    "collapsed": false
   },
   "outputs": [
    {
     "name": "stdout",
     "output_type": "stream",
     "text": [
      "The autoreload extension is already loaded. To reload it, use:\n",
      "  %reload_ext autoreload\n"
     ]
    }
   ],
   "source": [
    "# Import some useful libraries\n",
    "%matplotlib inline\n",
    "import pandas as pd\n",
    "import urllib\n",
    "import xml.etree.ElementTree as ET\n",
    "from scraper import *\n",
    "import numpy as np\n",
    "%load_ext autoreload\n",
    "%autoreload 2"
   ]
  },
  {
   "cell_type": "markdown",
   "metadata": {},
   "source": [
    "# Examples of how to use Scraper class"
   ]
  },
  {
   "cell_type": "markdown",
   "metadata": {},
   "source": [
    "## Scrap\n",
    "\n",
    "\n",
    "Tables: Party, Person, Council"
   ]
  },
  {
   "cell_type": "code",
   "execution_count": 33,
   "metadata": {
    "collapsed": false,
    "scrolled": true
   },
   "outputs": [
    {
     "name": "stdout",
     "output_type": "stream",
     "text": [
      "GET: https://ws.parlament.ch/odata.svc/Party?$filter=Language%20eq%20'FR'\n",
      "[OK] table Party correctly scraped, df.shape =  79 as expected\n",
      "GET: https://ws.parlament.ch/odata.svc/Person?$top=1000&$filter=Language%20eq%20'FR'&$skip=0\n",
      "GET: https://ws.parlament.ch/odata.svc/Person?$top=2000&$filter=Language%20eq%20'FR'&$skip=1000\n",
      "GET: https://ws.parlament.ch/odata.svc/Person?$top=3000&$filter=Language%20eq%20'FR'&$skip=2000\n",
      "GET: https://ws.parlament.ch/odata.svc/Person?$top=4000&$filter=Language%20eq%20'FR'&$skip=3000\n",
      "GET: https://ws.parlament.ch/odata.svc/Person?$top=5000&$filter=Language%20eq%20'FR'&$skip=4000\n",
      "[OK] table Person correctly scraped, df.shape =  3525 as expected\n",
      "GET: https://ws.parlament.ch/odata.svc/MemberCouncil?$top=1000&$filter=Language%20eq%20'FR'&$skip=0\n",
      "GET: https://ws.parlament.ch/odata.svc/MemberCouncil?$top=2000&$filter=Language%20eq%20'FR'&$skip=1000\n",
      "GET: https://ws.parlament.ch/odata.svc/MemberCouncil?$top=3000&$filter=Language%20eq%20'FR'&$skip=2000\n",
      "GET: https://ws.parlament.ch/odata.svc/MemberCouncil?$top=4000&$filter=Language%20eq%20'FR'&$skip=3000\n",
      "GET: https://ws.parlament.ch/odata.svc/MemberCouncil?$top=5000&$filter=Language%20eq%20'FR'&$skip=4000\n",
      "[OK] table MemberCouncil correctly scraped, df.shape =  3514 as expected\n"
     ]
    }
   ],
   "source": [
    "scrap = Scraper()\n",
    "df_party = scrap.get('Party') # get the table and write it into csv file\n",
    "df_person = scrap.get('Person')\n",
    "df_member_council = scrap.get('MemberCouncil')\n"
   ]
  },
  {
   "cell_type": "code",
   "execution_count": 23,
   "metadata": {
    "collapsed": false
   },
   "outputs": [
    {
     "data": {
      "text/html": [
       "<div>\n",
       "<table border=\"1\" class=\"dataframe\">\n",
       "  <thead>\n",
       "    <tr style=\"text-align: right;\">\n",
       "      <th></th>\n",
       "      <th>EndDate</th>\n",
       "      <th>ID</th>\n",
       "      <th>Language</th>\n",
       "      <th>Modified</th>\n",
       "      <th>PartyAbbreviation</th>\n",
       "      <th>PartyName</th>\n",
       "      <th>PartyNumber</th>\n",
       "      <th>StartDate</th>\n",
       "    </tr>\n",
       "  </thead>\n",
       "  <tbody>\n",
       "    <tr>\n",
       "      <th>0</th>\n",
       "      <td>None</td>\n",
       "      <td>12</td>\n",
       "      <td>FR</td>\n",
       "      <td>2010-12-26T13:05:26.43</td>\n",
       "      <td>PSS</td>\n",
       "      <td>Parti socialiste suisse</td>\n",
       "      <td>12</td>\n",
       "      <td>1888-01-01T00:00:00</td>\n",
       "    </tr>\n",
       "    <tr>\n",
       "      <th>1</th>\n",
       "      <td>None</td>\n",
       "      <td>13</td>\n",
       "      <td>FR</td>\n",
       "      <td>2010-12-26T13:05:26.43</td>\n",
       "      <td>UDC</td>\n",
       "      <td>Union Démocratique du Centre</td>\n",
       "      <td>13</td>\n",
       "      <td>1848-01-01T00:00:00</td>\n",
       "    </tr>\n",
       "    <tr>\n",
       "      <th>2</th>\n",
       "      <td>None</td>\n",
       "      <td>14</td>\n",
       "      <td>FR</td>\n",
       "      <td>2010-12-26T13:05:26.43</td>\n",
       "      <td>PDC</td>\n",
       "      <td>Parti démocrate-chrétien suisse</td>\n",
       "      <td>14</td>\n",
       "      <td>1848-01-01T00:00:00</td>\n",
       "    </tr>\n",
       "    <tr>\n",
       "      <th>3</th>\n",
       "      <td>None</td>\n",
       "      <td>15</td>\n",
       "      <td>FR</td>\n",
       "      <td>2010-12-26T13:05:26.43</td>\n",
       "      <td>PLR</td>\n",
       "      <td>PLR.Les Libéraux-Radicaux</td>\n",
       "      <td>15</td>\n",
       "      <td>1848-01-01T00:00:00</td>\n",
       "    </tr>\n",
       "    <tr>\n",
       "      <th>4</th>\n",
       "      <td>None</td>\n",
       "      <td>16</td>\n",
       "      <td>FR</td>\n",
       "      <td>2010-12-26T13:05:26.43</td>\n",
       "      <td>PLD</td>\n",
       "      <td>Parti libéral démocrate</td>\n",
       "      <td>16</td>\n",
       "      <td>1848-01-01T00:00:00</td>\n",
       "    </tr>\n",
       "  </tbody>\n",
       "</table>\n",
       "</div>"
      ],
      "text/plain": [
       "  EndDate  ID Language                Modified PartyAbbreviation  \\\n",
       "0    None  12       FR  2010-12-26T13:05:26.43               PSS   \n",
       "1    None  13       FR  2010-12-26T13:05:26.43               UDC   \n",
       "2    None  14       FR  2010-12-26T13:05:26.43               PDC   \n",
       "3    None  15       FR  2010-12-26T13:05:26.43               PLR   \n",
       "4    None  16       FR  2010-12-26T13:05:26.43               PLD   \n",
       "\n",
       "                         PartyName PartyNumber            StartDate  \n",
       "0          Parti socialiste suisse          12  1888-01-01T00:00:00  \n",
       "1     Union Démocratique du Centre          13  1848-01-01T00:00:00  \n",
       "2  Parti démocrate-chrétien suisse          14  1848-01-01T00:00:00  \n",
       "3        PLR.Les Libéraux-Radicaux          15  1848-01-01T00:00:00  \n",
       "4          Parti libéral démocrate          16  1848-01-01T00:00:00  "
      ]
     },
     "execution_count": 23,
     "metadata": {},
     "output_type": "execute_result"
    }
   ],
   "source": [
    "df_party.head()"
   ]
  },
  {
   "cell_type": "code",
   "execution_count": 25,
   "metadata": {
    "collapsed": false
   },
   "outputs": [
    {
     "data": {
      "text/plain": [
       "(79, 8)"
      ]
     },
     "execution_count": 25,
     "metadata": {},
     "output_type": "execute_result"
    }
   ],
   "source": [
    "df_party.shape"
   ]
  },
  {
   "cell_type": "markdown",
   "metadata": {},
   "source": [
    "Count how many occurencies exist in a table\n",
    "(Will be used after to control that we got "
   ]
  },
  {
   "cell_type": "code",
   "execution_count": 22,
   "metadata": {
    "collapsed": false,
    "scrolled": true
   },
   "outputs": [
    {
     "data": {
      "text/plain": [
       "79"
      ]
     },
     "execution_count": 22,
     "metadata": {},
     "output_type": "execute_result"
    }
   ],
   "source": [
    "n_parties = scrap.count('Party')\n",
    "n_parties"
   ]
  }
 ],
 "metadata": {
  "anaconda-cloud": {},
  "kernelspec": {
   "display_name": "Python [conda root]",
   "language": "python",
   "name": "conda-root-py"
  },
  "language_info": {
   "codemirror_mode": {
    "name": "ipython",
    "version": 3
   },
   "file_extension": ".py",
   "mimetype": "text/x-python",
   "name": "python",
   "nbconvert_exporter": "python",
   "pygments_lexer": "ipython3",
   "version": "3.5.2"
  }
 },
 "nbformat": 4,
 "nbformat_minor": 1
}

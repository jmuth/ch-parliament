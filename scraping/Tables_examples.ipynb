{
 "cells": [
  {
   "cell_type": "code",
   "execution_count": 5,
   "metadata": {
    "collapsed": false
   },
   "outputs": [
    {
     "name": "stdout",
     "output_type": "stream",
     "text": [
      "The autoreload extension is already loaded. To reload it, use:\n",
      "  %reload_ext autoreload\n"
     ]
    }
   ],
   "source": [
    "# Import some useful libraries\n",
    "%matplotlib inline\n",
    "import pandas as pd\n",
    "import urllib\n",
    "import xml.etree.ElementTree as ET\n",
    "from scraper import *\n",
    "import numpy as np\n",
    "import scipy.sparse as sp\n",
    "from tables import *\n",
    "%load_ext autoreload\n",
    "%autoreload 2\n",
    "\n",
    "# display all pandas columns\n",
    "\n",
    "pd.set_option('display.max_columns', 100)"
   ]
  },
  {
   "cell_type": "markdown",
   "metadata": {},
   "source": [
    "# Tables used for D3 visualisation \n",
    "Tables:\n",
    "* author\n",
    "* cosigner\n",
    "* interest"
   ]
  },
  {
   "cell_type": "code",
   "execution_count": 8,
   "metadata": {
    "collapsed": false
   },
   "outputs": [
    {
     "name": "stderr",
     "output_type": "stream",
     "text": [
      "/Users/joachimmuth/anaconda3/lib/python3.5/site-packages/IPython/core/interactiveshell.py:2717: DtypeWarning: Columns (10,27) have mixed types. Specify dtype option on import or set low_memory=False.\n",
      "  interactivity=interactivity, compiler=compiler, result=result)\n"
     ]
    }
   ],
   "source": [
    "df = pd.read_csv('data/Business.csv')"
   ]
  },
  {
   "cell_type": "code",
   "execution_count": 9,
   "metadata": {
    "collapsed": false
   },
   "outputs": [
    {
     "data": {
      "text/html": [
       "<div>\n",
       "<table border=\"1\" class=\"dataframe\">\n",
       "  <thead>\n",
       "    <tr style=\"text-align: right;\">\n",
       "      <th></th>\n",
       "      <th>Unnamed: 0</th>\n",
       "      <th>BusinessShortNumber</th>\n",
       "      <th>BusinessStatus</th>\n",
       "      <th>BusinessStatusDate</th>\n",
       "      <th>BusinessStatusText</th>\n",
       "      <th>BusinessType</th>\n",
       "      <th>BusinessTypeAbbreviation</th>\n",
       "      <th>BusinessTypeName</th>\n",
       "      <th>Category</th>\n",
       "      <th>Description</th>\n",
       "      <th>DocumentationText</th>\n",
       "      <th>DraftText</th>\n",
       "      <th>FederalCouncilProposal</th>\n",
       "      <th>FederalCouncilProposalDate</th>\n",
       "      <th>FederalCouncilProposalText</th>\n",
       "      <th>FederalCouncilResponseText</th>\n",
       "      <th>FirstCouncil1</th>\n",
       "      <th>FirstCouncil1Abbreviation</th>\n",
       "      <th>FirstCouncil1Name</th>\n",
       "      <th>FirstCouncil2</th>\n",
       "      <th>FirstCouncil2Abbreviation</th>\n",
       "      <th>FirstCouncil2Name</th>\n",
       "      <th>ID</th>\n",
       "      <th>InitialSituation</th>\n",
       "      <th>IsLeadingDepartment</th>\n",
       "      <th>Language</th>\n",
       "      <th>Modified</th>\n",
       "      <th>MotionText</th>\n",
       "      <th>Proceedings</th>\n",
       "      <th>ReasonText</th>\n",
       "      <th>ResponsibleDepartment</th>\n",
       "      <th>ResponsibleDepartmentAbbreviation</th>\n",
       "      <th>ResponsibleDepartmentName</th>\n",
       "      <th>SubmissionCouncil</th>\n",
       "      <th>SubmissionCouncilAbbreviation</th>\n",
       "      <th>SubmissionCouncilName</th>\n",
       "      <th>SubmissionDate</th>\n",
       "      <th>SubmissionLegislativePeriod</th>\n",
       "      <th>SubmissionSession</th>\n",
       "      <th>SubmittedBy</th>\n",
       "      <th>SubmittedText</th>\n",
       "      <th>TagNames</th>\n",
       "      <th>Tags</th>\n",
       "      <th>Title</th>\n",
       "    </tr>\n",
       "  </thead>\n",
       "  <tbody>\n",
       "    <tr>\n",
       "      <th>0</th>\n",
       "      <td>0</td>\n",
       "      <td>11.758</td>\n",
       "      <td>27</td>\n",
       "      <td>2000-09-26T00:00:00</td>\n",
       "      <td>Liquidé</td>\n",
       "      <td>3</td>\n",
       "      <td>Iv.ct.</td>\n",
       "      <td>Initiative cantonale</td>\n",
       "      <td>NaN</td>\n",
       "      <td>NaN</td>\n",
       "      <td>NaN</td>\n",
       "      <td>NaN</td>\n",
       "      <td>NaN</td>\n",
       "      <td>NaN</td>\n",
       "      <td>NaN</td>\n",
       "      <td>NaN</td>\n",
       "      <td>1.0</td>\n",
       "      <td>CN</td>\n",
       "      <td>Conseil national</td>\n",
       "      <td>NaN</td>\n",
       "      <td>NaN</td>\n",
       "      <td>NaN</td>\n",
       "      <td>19110758</td>\n",
       "      <td>NaN</td>\n",
       "      <td>True</td>\n",
       "      <td>FR</td>\n",
       "      <td>2010-12-26T13:31:48.703</td>\n",
       "      <td>NaN</td>\n",
       "      <td>NaN</td>\n",
       "      <td>NaN</td>\n",
       "      <td>4.0</td>\n",
       "      <td>DFI</td>\n",
       "      <td>Département de l'intérieur</td>\n",
       "      <td>NaN</td>\n",
       "      <td>NaN</td>\n",
       "      <td>NaN</td>\n",
       "      <td>1973-08-15T00:00:00</td>\n",
       "      <td>39.0</td>\n",
       "      <td>4311</td>\n",
       "      <td>Berne</td>\n",
       "      <td>&lt;text&gt;&lt;p&gt;La législation fédérale doit être dév...</td>\n",
       "      <td>NaN</td>\n",
       "      <td>NaN</td>\n",
       "      <td>Médicaments. Législation</td>\n",
       "    </tr>\n",
       "    <tr>\n",
       "      <th>1</th>\n",
       "      <td>1</td>\n",
       "      <td>78.222</td>\n",
       "      <td>27</td>\n",
       "      <td>1981-03-10T00:00:00</td>\n",
       "      <td>Liquidé</td>\n",
       "      <td>4</td>\n",
       "      <td>Iv.pa.</td>\n",
       "      <td>Initiative parlementaire</td>\n",
       "      <td>NaN</td>\n",
       "      <td>Rapport de la Commission du 27.08.1979</td>\n",
       "      <td>NaN</td>\n",
       "      <td>NaN</td>\n",
       "      <td>NaN</td>\n",
       "      <td>NaN</td>\n",
       "      <td>NaN</td>\n",
       "      <td>NaN</td>\n",
       "      <td>1.0</td>\n",
       "      <td>CN</td>\n",
       "      <td>Conseil national</td>\n",
       "      <td>NaN</td>\n",
       "      <td>NaN</td>\n",
       "      <td>NaN</td>\n",
       "      <td>19780222</td>\n",
       "      <td>NaN</td>\n",
       "      <td>NaN</td>\n",
       "      <td>FR</td>\n",
       "      <td>2010-12-26T13:31:48.703</td>\n",
       "      <td>NaN</td>\n",
       "      <td>NaN</td>\n",
       "      <td>NaN</td>\n",
       "      <td>NaN</td>\n",
       "      <td>NaN</td>\n",
       "      <td>NaN</td>\n",
       "      <td>1.0</td>\n",
       "      <td>CN</td>\n",
       "      <td>Conseil national</td>\n",
       "      <td>1978-06-05T00:00:00</td>\n",
       "      <td>40.0</td>\n",
       "      <td>4311</td>\n",
       "      <td>NaN</td>\n",
       "      <td>NaN</td>\n",
       "      <td>NaN</td>\n",
       "      <td>NaN</td>\n",
       "      <td>Code pénal. Interruption de la grossesse (Gira...</td>\n",
       "    </tr>\n",
       "    <tr>\n",
       "      <th>2</th>\n",
       "      <td>2</td>\n",
       "      <td>80.226</td>\n",
       "      <td>27</td>\n",
       "      <td>1983-03-03T00:00:00</td>\n",
       "      <td>Liquidé</td>\n",
       "      <td>4</td>\n",
       "      <td>Iv.pa.</td>\n",
       "      <td>Initiative parlementaire</td>\n",
       "      <td>NaN</td>\n",
       "      <td>NaN</td>\n",
       "      <td>NaN</td>\n",
       "      <td>NaN</td>\n",
       "      <td>NaN</td>\n",
       "      <td>NaN</td>\n",
       "      <td>NaN</td>\n",
       "      <td>NaN</td>\n",
       "      <td>1.0</td>\n",
       "      <td>CN</td>\n",
       "      <td>Conseil national</td>\n",
       "      <td>NaN</td>\n",
       "      <td>NaN</td>\n",
       "      <td>NaN</td>\n",
       "      <td>19800226</td>\n",
       "      <td>NaN</td>\n",
       "      <td>True</td>\n",
       "      <td>FR</td>\n",
       "      <td>2010-12-26T13:31:48.703</td>\n",
       "      <td>NaN</td>\n",
       "      <td>NaN</td>\n",
       "      <td>NaN</td>\n",
       "      <td>1.0</td>\n",
       "      <td>Parl</td>\n",
       "      <td>Parlement</td>\n",
       "      <td>1.0</td>\n",
       "      <td>CN</td>\n",
       "      <td>Conseil national</td>\n",
       "      <td>1980-06-02T00:00:00</td>\n",
       "      <td>41.0</td>\n",
       "      <td>4311</td>\n",
       "      <td>NaN</td>\n",
       "      <td>NaN</td>\n",
       "      <td>NaN</td>\n",
       "      <td>NaN</td>\n",
       "      <td>Constitutiion fédérale. Droit de l'entreprise ...</td>\n",
       "    </tr>\n",
       "    <tr>\n",
       "      <th>3</th>\n",
       "      <td>3</td>\n",
       "      <td>85.019</td>\n",
       "      <td>27</td>\n",
       "      <td>2003-12-16T00:00:00</td>\n",
       "      <td>Liquidé</td>\n",
       "      <td>1</td>\n",
       "      <td>OCF</td>\n",
       "      <td>Objet du Conseil fédéral</td>\n",
       "      <td>V</td>\n",
       "      <td>Message et projet d'arrêté du 1er mai 1985 con...</td>\n",
       "      <td>NaN</td>\n",
       "      <td>NaN</td>\n",
       "      <td>NaN</td>\n",
       "      <td>NaN</td>\n",
       "      <td>NaN</td>\n",
       "      <td>NaN</td>\n",
       "      <td>1.0</td>\n",
       "      <td>CN</td>\n",
       "      <td>Conseil national</td>\n",
       "      <td>NaN</td>\n",
       "      <td>NaN</td>\n",
       "      <td>NaN</td>\n",
       "      <td>19850019</td>\n",
       "      <td>&lt;text&gt;&lt;p&gt;L'accord établit le cadre de droit in...</td>\n",
       "      <td>True</td>\n",
       "      <td>FR</td>\n",
       "      <td>2011-10-19T17:15:58.637</td>\n",
       "      <td>NaN</td>\n",
       "      <td>&lt;text&gt;&lt;p&gt;&lt;/p&gt;&lt;p&gt;Les deux conseils ont décidé s...</td>\n",
       "      <td>NaN</td>\n",
       "      <td>3.0</td>\n",
       "      <td>DFAE</td>\n",
       "      <td>Département des affaires étrangères</td>\n",
       "      <td>NaN</td>\n",
       "      <td>NaN</td>\n",
       "      <td>NaN</td>\n",
       "      <td>1985-05-01T00:00:00</td>\n",
       "      <td>42.0</td>\n",
       "      <td>4311</td>\n",
       "      <td>NaN</td>\n",
       "      <td>NaN</td>\n",
       "      <td>NaN</td>\n",
       "      <td>NaN</td>\n",
       "      <td>Utilisation pacifique de l'énergie nucléaire. ...</td>\n",
       "    </tr>\n",
       "    <tr>\n",
       "      <th>4</th>\n",
       "      <td>4</td>\n",
       "      <td>85.227</td>\n",
       "      <td>27</td>\n",
       "      <td>2000-10-06T00:00:00</td>\n",
       "      <td>Liquidé</td>\n",
       "      <td>4</td>\n",
       "      <td>Iv.pa.</td>\n",
       "      <td>Initiative parlementaire</td>\n",
       "      <td>III</td>\n",
       "      <td>NaN</td>\n",
       "      <td>NaN</td>\n",
       "      <td>NaN</td>\n",
       "      <td>NaN</td>\n",
       "      <td>NaN</td>\n",
       "      <td>NaN</td>\n",
       "      <td>NaN</td>\n",
       "      <td>2.0</td>\n",
       "      <td>CE</td>\n",
       "      <td>Conseil des Etats</td>\n",
       "      <td>NaN</td>\n",
       "      <td>NaN</td>\n",
       "      <td>NaN</td>\n",
       "      <td>19850227</td>\n",
       "      <td>&lt;text&gt;&lt;p&gt;Le droit suisse des assurances social...</td>\n",
       "      <td>True</td>\n",
       "      <td>FR</td>\n",
       "      <td>2011-10-19T17:17:52.9</td>\n",
       "      <td>NaN</td>\n",
       "      <td>&lt;text&gt;&lt;p&gt;Le &lt;b&gt;Conseil des Etats&lt;/b&gt; a accepté...</td>\n",
       "      <td>NaN</td>\n",
       "      <td>1.0</td>\n",
       "      <td>Parl</td>\n",
       "      <td>Parlement</td>\n",
       "      <td>2.0</td>\n",
       "      <td>CE</td>\n",
       "      <td>Conseil des Etats</td>\n",
       "      <td>1985-02-07T00:00:00</td>\n",
       "      <td>42.0</td>\n",
       "      <td>4311</td>\n",
       "      <td>Meier Josi J.</td>\n",
       "      <td>&lt;text&gt;&lt;p&gt;A la suite de la motion visant une me...</td>\n",
       "      <td>NaN</td>\n",
       "      <td>NaN</td>\n",
       "      <td>Droit des assurances sociales</td>\n",
       "    </tr>\n",
       "  </tbody>\n",
       "</table>\n",
       "</div>"
      ],
      "text/plain": [
       "   Unnamed: 0  BusinessShortNumber  BusinessStatus   BusinessStatusDate  \\\n",
       "0           0               11.758              27  2000-09-26T00:00:00   \n",
       "1           1               78.222              27  1981-03-10T00:00:00   \n",
       "2           2               80.226              27  1983-03-03T00:00:00   \n",
       "3           3               85.019              27  2003-12-16T00:00:00   \n",
       "4           4               85.227              27  2000-10-06T00:00:00   \n",
       "\n",
       "  BusinessStatusText  BusinessType BusinessTypeAbbreviation  \\\n",
       "0            Liquidé             3                   Iv.ct.   \n",
       "1            Liquidé             4                   Iv.pa.   \n",
       "2            Liquidé             4                   Iv.pa.   \n",
       "3            Liquidé             1                      OCF   \n",
       "4            Liquidé             4                   Iv.pa.   \n",
       "\n",
       "           BusinessTypeName Category  \\\n",
       "0      Initiative cantonale      NaN   \n",
       "1  Initiative parlementaire      NaN   \n",
       "2  Initiative parlementaire      NaN   \n",
       "3  Objet du Conseil fédéral        V   \n",
       "4  Initiative parlementaire      III   \n",
       "\n",
       "                                         Description DocumentationText  \\\n",
       "0                                                NaN               NaN   \n",
       "1             Rapport de la Commission du 27.08.1979               NaN   \n",
       "2                                                NaN               NaN   \n",
       "3  Message et projet d'arrêté du 1er mai 1985 con...               NaN   \n",
       "4                                                NaN               NaN   \n",
       "\n",
       "   DraftText  FederalCouncilProposal FederalCouncilProposalDate  \\\n",
       "0        NaN                     NaN                        NaN   \n",
       "1        NaN                     NaN                        NaN   \n",
       "2        NaN                     NaN                        NaN   \n",
       "3        NaN                     NaN                        NaN   \n",
       "4        NaN                     NaN                        NaN   \n",
       "\n",
       "  FederalCouncilProposalText FederalCouncilResponseText  FirstCouncil1  \\\n",
       "0                        NaN                        NaN            1.0   \n",
       "1                        NaN                        NaN            1.0   \n",
       "2                        NaN                        NaN            1.0   \n",
       "3                        NaN                        NaN            1.0   \n",
       "4                        NaN                        NaN            2.0   \n",
       "\n",
       "  FirstCouncil1Abbreviation  FirstCouncil1Name  FirstCouncil2  \\\n",
       "0                        CN   Conseil national            NaN   \n",
       "1                        CN   Conseil national            NaN   \n",
       "2                        CN   Conseil national            NaN   \n",
       "3                        CN   Conseil national            NaN   \n",
       "4                        CE  Conseil des Etats            NaN   \n",
       "\n",
       "  FirstCouncil2Abbreviation FirstCouncil2Name        ID  \\\n",
       "0                       NaN               NaN  19110758   \n",
       "1                       NaN               NaN  19780222   \n",
       "2                       NaN               NaN  19800226   \n",
       "3                       NaN               NaN  19850019   \n",
       "4                       NaN               NaN  19850227   \n",
       "\n",
       "                                    InitialSituation IsLeadingDepartment  \\\n",
       "0                                                NaN                True   \n",
       "1                                                NaN                 NaN   \n",
       "2                                                NaN                True   \n",
       "3  <text><p>L'accord établit le cadre de droit in...                True   \n",
       "4  <text><p>Le droit suisse des assurances social...                True   \n",
       "\n",
       "  Language                 Modified MotionText  \\\n",
       "0       FR  2010-12-26T13:31:48.703        NaN   \n",
       "1       FR  2010-12-26T13:31:48.703        NaN   \n",
       "2       FR  2010-12-26T13:31:48.703        NaN   \n",
       "3       FR  2011-10-19T17:15:58.637        NaN   \n",
       "4       FR    2011-10-19T17:17:52.9        NaN   \n",
       "\n",
       "                                         Proceedings ReasonText  \\\n",
       "0                                                NaN        NaN   \n",
       "1                                                NaN        NaN   \n",
       "2                                                NaN        NaN   \n",
       "3  <text><p></p><p>Les deux conseils ont décidé s...        NaN   \n",
       "4  <text><p>Le <b>Conseil des Etats</b> a accepté...        NaN   \n",
       "\n",
       "   ResponsibleDepartment ResponsibleDepartmentAbbreviation  \\\n",
       "0                    4.0                               DFI   \n",
       "1                    NaN                               NaN   \n",
       "2                    1.0                              Parl   \n",
       "3                    3.0                              DFAE   \n",
       "4                    1.0                              Parl   \n",
       "\n",
       "             ResponsibleDepartmentName  SubmissionCouncil  \\\n",
       "0           Département de l'intérieur                NaN   \n",
       "1                                  NaN                1.0   \n",
       "2                            Parlement                1.0   \n",
       "3  Département des affaires étrangères                NaN   \n",
       "4                            Parlement                2.0   \n",
       "\n",
       "  SubmissionCouncilAbbreviation SubmissionCouncilName       SubmissionDate  \\\n",
       "0                           NaN                   NaN  1973-08-15T00:00:00   \n",
       "1                            CN      Conseil national  1978-06-05T00:00:00   \n",
       "2                            CN      Conseil national  1980-06-02T00:00:00   \n",
       "3                           NaN                   NaN  1985-05-01T00:00:00   \n",
       "4                            CE     Conseil des Etats  1985-02-07T00:00:00   \n",
       "\n",
       "   SubmissionLegislativePeriod  SubmissionSession    SubmittedBy  \\\n",
       "0                         39.0               4311          Berne   \n",
       "1                         40.0               4311            NaN   \n",
       "2                         41.0               4311            NaN   \n",
       "3                         42.0               4311            NaN   \n",
       "4                         42.0               4311  Meier Josi J.   \n",
       "\n",
       "                                       SubmittedText TagNames Tags  \\\n",
       "0  <text><p>La législation fédérale doit être dév...      NaN  NaN   \n",
       "1                                                NaN      NaN  NaN   \n",
       "2                                                NaN      NaN  NaN   \n",
       "3                                                NaN      NaN  NaN   \n",
       "4  <text><p>A la suite de la motion visant une me...      NaN  NaN   \n",
       "\n",
       "                                               Title  \n",
       "0                           Médicaments. Législation  \n",
       "1  Code pénal. Interruption de la grossesse (Gira...  \n",
       "2  Constitutiion fédérale. Droit de l'entreprise ...  \n",
       "3  Utilisation pacifique de l'énergie nucléaire. ...  \n",
       "4                      Droit des assurances sociales  "
      ]
     },
     "execution_count": 9,
     "metadata": {},
     "output_type": "execute_result"
    }
   ],
   "source": [
    "df.head()"
   ]
  },
  {
   "cell_type": "code",
   "execution_count": 6,
   "metadata": {
    "collapsed": false,
    "scrolled": false
   },
   "outputs": [
    {
     "name": "stderr",
     "output_type": "stream",
     "text": [
      "/Users/joachimmuth/anaconda3/lib/python3.5/site-packages/IPython/core/interactiveshell.py:2821: DtypeWarning: Columns (10,27) have mixed types. Specify dtype option on import or set low_memory=False.\n",
      "  if self.run_code(code, result):\n"
     ]
    }
   ],
   "source": [
    "tables = Tables()"
   ]
  },
  {
   "cell_type": "code",
   "execution_count": 3,
   "metadata": {
    "collapsed": false,
    "scrolled": true
   },
   "outputs": [
    {
     "ename": "KeyError",
     "evalue": "2500",
     "output_type": "error",
     "traceback": [
      "\u001b[0;31m-------------------------------------------------------------------\u001b[0m",
      "\u001b[0;31mKeyError\u001b[0m                          Traceback (most recent call last)",
      "\u001b[0;32m/Users/joachimmuth/anaconda3/lib/python3.5/site-packages/pandas/indexes/base.py\u001b[0m in \u001b[0;36mget_loc\u001b[0;34m(self, key, method, tolerance)\u001b[0m\n\u001b[1;32m   1944\u001b[0m             \u001b[0;32mtry\u001b[0m\u001b[0;34m:\u001b[0m\u001b[0;34m\u001b[0m\u001b[0m\n\u001b[0;32m-> 1945\u001b[0;31m                 \u001b[0;32mreturn\u001b[0m \u001b[0mself\u001b[0m\u001b[0;34m.\u001b[0m\u001b[0m_engine\u001b[0m\u001b[0;34m.\u001b[0m\u001b[0mget_loc\u001b[0m\u001b[0;34m(\u001b[0m\u001b[0mkey\u001b[0m\u001b[0;34m)\u001b[0m\u001b[0;34m\u001b[0m\u001b[0m\n\u001b[0m\u001b[1;32m   1946\u001b[0m             \u001b[0;32mexcept\u001b[0m \u001b[0mKeyError\u001b[0m\u001b[0;34m:\u001b[0m\u001b[0;34m\u001b[0m\u001b[0m\n",
      "\u001b[0;32mpandas/index.pyx\u001b[0m in \u001b[0;36mpandas.index.IndexEngine.get_loc (pandas/index.c:4154)\u001b[0;34m()\u001b[0m\n",
      "\u001b[0;32mpandas/index.pyx\u001b[0m in \u001b[0;36mpandas.index.IndexEngine.get_loc (pandas/index.c:4018)\u001b[0;34m()\u001b[0m\n",
      "\u001b[0;32mpandas/hashtable.pyx\u001b[0m in \u001b[0;36mpandas.hashtable.Int64HashTable.get_item (pandas/hashtable.c:6610)\u001b[0;34m()\u001b[0m\n",
      "\u001b[0;32mpandas/hashtable.pyx\u001b[0m in \u001b[0;36mpandas.hashtable.Int64HashTable.get_item (pandas/hashtable.c:6554)\u001b[0;34m()\u001b[0m\n",
      "\u001b[0;31mKeyError\u001b[0m: 2500",
      "\nDuring handling of the above exception, another exception occurred:\n",
      "\u001b[0;31mKeyError\u001b[0m                          Traceback (most recent call last)",
      "\u001b[0;32m<ipython-input-3-2f6dc506243f>\u001b[0m in \u001b[0;36m<module>\u001b[0;34m()\u001b[0m\n\u001b[0;32m----> 1\u001b[0;31m \u001b[0minterest\u001b[0m \u001b[0;34m=\u001b[0m \u001b[0mtables\u001b[0m\u001b[0;34m.\u001b[0m\u001b[0minterest\u001b[0m\u001b[0;34m(\u001b[0m\u001b[0;34m)\u001b[0m\u001b[0;34m\u001b[0m\u001b[0m\n\u001b[0m\u001b[1;32m      2\u001b[0m \u001b[0minterest\u001b[0m\u001b[0;34m.\u001b[0m\u001b[0mhead\u001b[0m\u001b[0;34m(\u001b[0m\u001b[0;34m)\u001b[0m\u001b[0;34m\u001b[0m\u001b[0m\n",
      "\u001b[0;32m/Users/joachimmuth/Documents/EPFL/ADA/parliament-viz/scraping/tables.py\u001b[0m in \u001b[0;36minterest\u001b[0;34m(self, cosign, auth)\u001b[0m\n\u001b[1;32m    120\u001b[0m \u001b[0;34m\u001b[0m\u001b[0m\n\u001b[1;32m    121\u001b[0m         \u001b[0;32mfor\u001b[0m \u001b[0mi\u001b[0m\u001b[0;34m,\u001b[0m \u001b[0mtags\u001b[0m \u001b[0;32min\u001b[0m \u001b[0mzip\u001b[0m\u001b[0;34m(\u001b[0m\u001b[0mdf_business_tags\u001b[0m\u001b[0;34m.\u001b[0m\u001b[0mindex\u001b[0m\u001b[0;34m,\u001b[0m \u001b[0mdf_business_tags\u001b[0m\u001b[0;34m.\u001b[0m\u001b[0mTags\u001b[0m\u001b[0;34m)\u001b[0m\u001b[0;34m:\u001b[0m\u001b[0;34m\u001b[0m\u001b[0m\n\u001b[0;32m--> 122\u001b[0;31m             \u001b[0mfill_cell\u001b[0m\u001b[0;34m(\u001b[0m\u001b[0mi\u001b[0m\u001b[0;34m,\u001b[0m \u001b[0mtags\u001b[0m\u001b[0;34m)\u001b[0m\u001b[0;34m\u001b[0m\u001b[0m\n\u001b[0m\u001b[1;32m    123\u001b[0m \u001b[0;34m\u001b[0m\u001b[0m\n\u001b[1;32m    124\u001b[0m         \u001b[0;31m# ensure topics has type integer\u001b[0m\u001b[0;34m\u001b[0m\u001b[0;34m\u001b[0m\u001b[0m\n",
      "\u001b[0;32m/Users/joachimmuth/Documents/EPFL/ADA/parliament-viz/scraping/tables.py\u001b[0m in \u001b[0;36mfill_cell\u001b[0;34m(business_number, tags_array)\u001b[0m\n\u001b[1;32m    116\u001b[0m         \u001b[0;32mdef\u001b[0m \u001b[0mfill_cell\u001b[0m\u001b[0;34m(\u001b[0m\u001b[0mbusiness_number\u001b[0m\u001b[0;34m,\u001b[0m \u001b[0mtags_array\u001b[0m\u001b[0;34m)\u001b[0m\u001b[0;34m:\u001b[0m\u001b[0;34m\u001b[0m\u001b[0m\n\u001b[1;32m    117\u001b[0m             \u001b[0;32mfor\u001b[0m \u001b[0mtag\u001b[0m \u001b[0;32min\u001b[0m \u001b[0mtags_array\u001b[0m\u001b[0;34m:\u001b[0m\u001b[0;34m\u001b[0m\u001b[0m\n\u001b[0;32m--> 118\u001b[0;31m                 \u001b[0mprevious_val\u001b[0m \u001b[0;34m=\u001b[0m \u001b[0mtopics\u001b[0m\u001b[0;34m.\u001b[0m\u001b[0mget_value\u001b[0m\u001b[0;34m(\u001b[0m\u001b[0mint\u001b[0m\u001b[0;34m(\u001b[0m\u001b[0mbusiness_number\u001b[0m\u001b[0;34m)\u001b[0m\u001b[0;34m,\u001b[0m \u001b[0mint\u001b[0m\u001b[0;34m(\u001b[0m\u001b[0mtag\u001b[0m\u001b[0;34m)\u001b[0m\u001b[0;34m)\u001b[0m\u001b[0;34m\u001b[0m\u001b[0m\n\u001b[0m\u001b[1;32m    119\u001b[0m                 \u001b[0mtopics\u001b[0m\u001b[0;34m.\u001b[0m\u001b[0mset_value\u001b[0m\u001b[0;34m(\u001b[0m\u001b[0mint\u001b[0m\u001b[0;34m(\u001b[0m\u001b[0mbusiness_number\u001b[0m\u001b[0;34m)\u001b[0m\u001b[0;34m,\u001b[0m \u001b[0mint\u001b[0m\u001b[0;34m(\u001b[0m\u001b[0mtag\u001b[0m\u001b[0;34m)\u001b[0m\u001b[0;34m,\u001b[0m \u001b[0mint\u001b[0m\u001b[0;34m(\u001b[0m\u001b[0mprevious_val\u001b[0m \u001b[0;34m+\u001b[0m \u001b[0;36m1\u001b[0m\u001b[0;34m)\u001b[0m\u001b[0;34m)\u001b[0m\u001b[0;34m\u001b[0m\u001b[0m\n\u001b[1;32m    120\u001b[0m \u001b[0;34m\u001b[0m\u001b[0m\n",
      "\u001b[0;32m/Users/joachimmuth/anaconda3/lib/python3.5/site-packages/pandas/core/frame.py\u001b[0m in \u001b[0;36mget_value\u001b[0;34m(self, index, col, takeable)\u001b[0m\n\u001b[1;32m   1834\u001b[0m             \u001b[0;32mreturn\u001b[0m \u001b[0m_maybe_box_datetimelike\u001b[0m\u001b[0;34m(\u001b[0m\u001b[0mseries\u001b[0m\u001b[0;34m.\u001b[0m\u001b[0m_values\u001b[0m\u001b[0;34m[\u001b[0m\u001b[0mindex\u001b[0m\u001b[0;34m]\u001b[0m\u001b[0;34m)\u001b[0m\u001b[0;34m\u001b[0m\u001b[0m\n\u001b[1;32m   1835\u001b[0m \u001b[0;34m\u001b[0m\u001b[0m\n\u001b[0;32m-> 1836\u001b[0;31m         \u001b[0mseries\u001b[0m \u001b[0;34m=\u001b[0m \u001b[0mself\u001b[0m\u001b[0;34m.\u001b[0m\u001b[0m_get_item_cache\u001b[0m\u001b[0;34m(\u001b[0m\u001b[0mcol\u001b[0m\u001b[0;34m)\u001b[0m\u001b[0;34m\u001b[0m\u001b[0m\n\u001b[0m\u001b[1;32m   1837\u001b[0m         \u001b[0mengine\u001b[0m \u001b[0;34m=\u001b[0m \u001b[0mself\u001b[0m\u001b[0;34m.\u001b[0m\u001b[0mindex\u001b[0m\u001b[0;34m.\u001b[0m\u001b[0m_engine\u001b[0m\u001b[0;34m\u001b[0m\u001b[0m\n\u001b[1;32m   1838\u001b[0m         \u001b[0;32mreturn\u001b[0m \u001b[0mengine\u001b[0m\u001b[0;34m.\u001b[0m\u001b[0mget_value\u001b[0m\u001b[0;34m(\u001b[0m\u001b[0mseries\u001b[0m\u001b[0;34m.\u001b[0m\u001b[0mget_values\u001b[0m\u001b[0;34m(\u001b[0m\u001b[0;34m)\u001b[0m\u001b[0;34m,\u001b[0m \u001b[0mindex\u001b[0m\u001b[0;34m)\u001b[0m\u001b[0;34m\u001b[0m\u001b[0m\n",
      "\u001b[0;32m/Users/joachimmuth/anaconda3/lib/python3.5/site-packages/pandas/core/generic.py\u001b[0m in \u001b[0;36m_get_item_cache\u001b[0;34m(self, item)\u001b[0m\n\u001b[1;32m   1348\u001b[0m         \u001b[0mres\u001b[0m \u001b[0;34m=\u001b[0m \u001b[0mcache\u001b[0m\u001b[0;34m.\u001b[0m\u001b[0mget\u001b[0m\u001b[0;34m(\u001b[0m\u001b[0mitem\u001b[0m\u001b[0;34m)\u001b[0m\u001b[0;34m\u001b[0m\u001b[0m\n\u001b[1;32m   1349\u001b[0m         \u001b[0;32mif\u001b[0m \u001b[0mres\u001b[0m \u001b[0;32mis\u001b[0m \u001b[0;32mNone\u001b[0m\u001b[0;34m:\u001b[0m\u001b[0;34m\u001b[0m\u001b[0m\n\u001b[0;32m-> 1350\u001b[0;31m             \u001b[0mvalues\u001b[0m \u001b[0;34m=\u001b[0m \u001b[0mself\u001b[0m\u001b[0;34m.\u001b[0m\u001b[0m_data\u001b[0m\u001b[0;34m.\u001b[0m\u001b[0mget\u001b[0m\u001b[0;34m(\u001b[0m\u001b[0mitem\u001b[0m\u001b[0;34m)\u001b[0m\u001b[0;34m\u001b[0m\u001b[0m\n\u001b[0m\u001b[1;32m   1351\u001b[0m             \u001b[0mres\u001b[0m \u001b[0;34m=\u001b[0m \u001b[0mself\u001b[0m\u001b[0;34m.\u001b[0m\u001b[0m_box_item_values\u001b[0m\u001b[0;34m(\u001b[0m\u001b[0mitem\u001b[0m\u001b[0;34m,\u001b[0m \u001b[0mvalues\u001b[0m\u001b[0;34m)\u001b[0m\u001b[0;34m\u001b[0m\u001b[0m\n\u001b[1;32m   1352\u001b[0m             \u001b[0mcache\u001b[0m\u001b[0;34m[\u001b[0m\u001b[0mitem\u001b[0m\u001b[0;34m]\u001b[0m \u001b[0;34m=\u001b[0m \u001b[0mres\u001b[0m\u001b[0;34m\u001b[0m\u001b[0m\n",
      "\u001b[0;32m/Users/joachimmuth/anaconda3/lib/python3.5/site-packages/pandas/core/internals.py\u001b[0m in \u001b[0;36mget\u001b[0;34m(self, item, fastpath)\u001b[0m\n\u001b[1;32m   3288\u001b[0m \u001b[0;34m\u001b[0m\u001b[0m\n\u001b[1;32m   3289\u001b[0m             \u001b[0;32mif\u001b[0m \u001b[0;32mnot\u001b[0m \u001b[0misnull\u001b[0m\u001b[0;34m(\u001b[0m\u001b[0mitem\u001b[0m\u001b[0;34m)\u001b[0m\u001b[0;34m:\u001b[0m\u001b[0;34m\u001b[0m\u001b[0m\n\u001b[0;32m-> 3290\u001b[0;31m                 \u001b[0mloc\u001b[0m \u001b[0;34m=\u001b[0m \u001b[0mself\u001b[0m\u001b[0;34m.\u001b[0m\u001b[0mitems\u001b[0m\u001b[0;34m.\u001b[0m\u001b[0mget_loc\u001b[0m\u001b[0;34m(\u001b[0m\u001b[0mitem\u001b[0m\u001b[0;34m)\u001b[0m\u001b[0;34m\u001b[0m\u001b[0m\n\u001b[0m\u001b[1;32m   3291\u001b[0m             \u001b[0;32melse\u001b[0m\u001b[0;34m:\u001b[0m\u001b[0;34m\u001b[0m\u001b[0m\n\u001b[1;32m   3292\u001b[0m                 \u001b[0mindexer\u001b[0m \u001b[0;34m=\u001b[0m \u001b[0mnp\u001b[0m\u001b[0;34m.\u001b[0m\u001b[0marange\u001b[0m\u001b[0;34m(\u001b[0m\u001b[0mlen\u001b[0m\u001b[0;34m(\u001b[0m\u001b[0mself\u001b[0m\u001b[0;34m.\u001b[0m\u001b[0mitems\u001b[0m\u001b[0;34m)\u001b[0m\u001b[0;34m)\u001b[0m\u001b[0;34m[\u001b[0m\u001b[0misnull\u001b[0m\u001b[0;34m(\u001b[0m\u001b[0mself\u001b[0m\u001b[0;34m.\u001b[0m\u001b[0mitems\u001b[0m\u001b[0;34m)\u001b[0m\u001b[0;34m]\u001b[0m\u001b[0;34m\u001b[0m\u001b[0m\n",
      "\u001b[0;32m/Users/joachimmuth/anaconda3/lib/python3.5/site-packages/pandas/indexes/base.py\u001b[0m in \u001b[0;36mget_loc\u001b[0;34m(self, key, method, tolerance)\u001b[0m\n\u001b[1;32m   1945\u001b[0m                 \u001b[0;32mreturn\u001b[0m \u001b[0mself\u001b[0m\u001b[0;34m.\u001b[0m\u001b[0m_engine\u001b[0m\u001b[0;34m.\u001b[0m\u001b[0mget_loc\u001b[0m\u001b[0;34m(\u001b[0m\u001b[0mkey\u001b[0m\u001b[0;34m)\u001b[0m\u001b[0;34m\u001b[0m\u001b[0m\n\u001b[1;32m   1946\u001b[0m             \u001b[0;32mexcept\u001b[0m \u001b[0mKeyError\u001b[0m\u001b[0;34m:\u001b[0m\u001b[0;34m\u001b[0m\u001b[0m\n\u001b[0;32m-> 1947\u001b[0;31m                 \u001b[0;32mreturn\u001b[0m \u001b[0mself\u001b[0m\u001b[0;34m.\u001b[0m\u001b[0m_engine\u001b[0m\u001b[0;34m.\u001b[0m\u001b[0mget_loc\u001b[0m\u001b[0;34m(\u001b[0m\u001b[0mself\u001b[0m\u001b[0;34m.\u001b[0m\u001b[0m_maybe_cast_indexer\u001b[0m\u001b[0;34m(\u001b[0m\u001b[0mkey\u001b[0m\u001b[0;34m)\u001b[0m\u001b[0;34m)\u001b[0m\u001b[0;34m\u001b[0m\u001b[0m\n\u001b[0m\u001b[1;32m   1948\u001b[0m \u001b[0;34m\u001b[0m\u001b[0m\n\u001b[1;32m   1949\u001b[0m         \u001b[0mindexer\u001b[0m \u001b[0;34m=\u001b[0m \u001b[0mself\u001b[0m\u001b[0;34m.\u001b[0m\u001b[0mget_indexer\u001b[0m\u001b[0;34m(\u001b[0m\u001b[0;34m[\u001b[0m\u001b[0mkey\u001b[0m\u001b[0;34m]\u001b[0m\u001b[0;34m,\u001b[0m \u001b[0mmethod\u001b[0m\u001b[0;34m=\u001b[0m\u001b[0mmethod\u001b[0m\u001b[0;34m,\u001b[0m \u001b[0mtolerance\u001b[0m\u001b[0;34m=\u001b[0m\u001b[0mtolerance\u001b[0m\u001b[0;34m)\u001b[0m\u001b[0;34m\u001b[0m\u001b[0m\n",
      "\u001b[0;32mpandas/index.pyx\u001b[0m in \u001b[0;36mpandas.index.IndexEngine.get_loc (pandas/index.c:4154)\u001b[0;34m()\u001b[0m\n",
      "\u001b[0;32mpandas/index.pyx\u001b[0m in \u001b[0;36mpandas.index.IndexEngine.get_loc (pandas/index.c:4018)\u001b[0;34m()\u001b[0m\n",
      "\u001b[0;32mpandas/hashtable.pyx\u001b[0m in \u001b[0;36mpandas.hashtable.Int64HashTable.get_item (pandas/hashtable.c:6610)\u001b[0;34m()\u001b[0m\n",
      "\u001b[0;32mpandas/hashtable.pyx\u001b[0m in \u001b[0;36mpandas.hashtable.Int64HashTable.get_item (pandas/hashtable.c:6554)\u001b[0;34m()\u001b[0m\n",
      "\u001b[0;31mKeyError\u001b[0m: 2500"
     ]
    }
   ],
   "source": [
    "interest = tables.interest()\n",
    "interest.head()"
   ]
  },
  {
   "cell_type": "code",
   "execution_count": 4,
   "metadata": {
    "collapsed": false
   },
   "outputs": [
    {
     "data": {
      "text/html": [
       "<div>\n",
       "<table border=\"1\" class=\"dataframe\">\n",
       "  <thead>\n",
       "    <tr style=\"text-align: right;\">\n",
       "      <th></th>\n",
       "      <th>MemberCouncilNumber</th>\n",
       "      <th>author</th>\n",
       "    </tr>\n",
       "  </thead>\n",
       "  <tbody>\n",
       "    <tr>\n",
       "      <th>0</th>\n",
       "      <td>1</td>\n",
       "      <td>42</td>\n",
       "    </tr>\n",
       "    <tr>\n",
       "      <th>1</th>\n",
       "      <td>2</td>\n",
       "      <td>6</td>\n",
       "    </tr>\n",
       "    <tr>\n",
       "      <th>2</th>\n",
       "      <td>6</td>\n",
       "      <td>1</td>\n",
       "    </tr>\n",
       "    <tr>\n",
       "      <th>3</th>\n",
       "      <td>7</td>\n",
       "      <td>10</td>\n",
       "    </tr>\n",
       "    <tr>\n",
       "      <th>4</th>\n",
       "      <td>8</td>\n",
       "      <td>5</td>\n",
       "    </tr>\n",
       "  </tbody>\n",
       "</table>\n",
       "</div>"
      ],
      "text/plain": [
       "   MemberCouncilNumber  author\n",
       "0                    1      42\n",
       "1                    2       6\n",
       "2                    6       1\n",
       "3                    7      10\n",
       "4                    8       5"
      ]
     },
     "execution_count": 4,
     "metadata": {},
     "output_type": "execute_result"
    }
   ],
   "source": [
    "authors = tables.author()\n",
    "authors.head()"
   ]
  },
  {
   "cell_type": "code",
   "execution_count": 7,
   "metadata": {
    "collapsed": false
   },
   "outputs": [
    {
     "name": "stdout",
     "output_type": "stream",
     "text": [
      "Cosigners table shape:  (316548, 2)\n",
      "Authors table shape:  (31095, 2)\n",
      "Matrix created of size  (array([   1,    1,    1, ..., 4209, 4209, 4209], dtype=int32), array([   1,    8,    9, ..., 4200, 4202, 4208], dtype=int32))\n"
     ]
    },
    {
     "data": {
      "text/plain": [
       "<4210x4210 sparse matrix of type '<class 'numpy.int32'>'\n",
       "\twith 100529 stored elements in LInked List format>"
      ]
     },
     "execution_count": 7,
     "metadata": {},
     "output_type": "execute_result"
    }
   ],
   "source": [
    "cosigners = tables.cosigner()\n",
    "cosigners"
   ]
  },
  {
   "cell_type": "markdown",
   "metadata": {},
   "source": [
    "## Explanation of the Table\n",
    "\n",
    "* **Business** is the table of initiatives\n",
    "* **BusinessRole** table of all the person who act for or against a business. IMPORTANT! **BusinessRole.MemberCouncilNumber** link to **MemberCouncil.PersonNumber**. **BusinessShortNumber** link businesses and roles.\n",
    "    * Auteur\n",
    "    * Cosignataire\n",
    "    * Porte-parole\n",
    "    * Opposant(e)\n",
    "    * Repreneur\n",
    "    \n",
    "* **BusinessType** contain all 18 types of businesses. As the type is reapeated in **Business.BusinessType** and **Business.BusinessTypeName**, it is not useful for us.\n",
    "* **BusinessStatus** give the current status of a business. Again, this information is given in **Business.BusinessStatusText**, so not useful\n",
    "\n",
    "\n",
    "* Tag are stored in \"TagNames\" Array\n",
    "* **Tags** are easier (as it is integer) "
   ]
  },
  {
   "cell_type": "markdown",
   "metadata": {},
   "source": [
    "# Compiling the _Cosignataire_ info into an adjacency matrix for d3"
   ]
  },
  {
   "cell_type": "code",
   "execution_count": null,
   "metadata": {
    "collapsed": false
   },
   "outputs": [],
   "source": [
    "adj = pd.read_csv('data/adj.csv')"
   ]
  },
  {
   "cell_type": "code",
   "execution_count": null,
   "metadata": {
    "collapsed": false
   },
   "outputs": [],
   "source": [
    "adj.rename(columns={'PersonNumber': 'PersonIdCode'}, inplace=True)"
   ]
  },
  {
   "cell_type": "code",
   "execution_count": null,
   "metadata": {
    "collapsed": false
   },
   "outputs": [],
   "source": [
    "adj.set_index('PersonIdCode', inplace=True)"
   ]
  },
  {
   "cell_type": "code",
   "execution_count": null,
   "metadata": {
    "collapsed": false
   },
   "outputs": [],
   "source": [
    "adj.head(2)"
   ]
  },
  {
   "cell_type": "code",
   "execution_count": null,
   "metadata": {
    "collapsed": false
   },
   "outputs": [],
   "source": [
    "people = pd.read_csv('data/people_jonas.csv').set_index('PersonIdCode')"
   ]
  },
  {
   "cell_type": "code",
   "execution_count": null,
   "metadata": {
    "collapsed": false
   },
   "outputs": [],
   "source": [
    "people.loc[2023].PersonNumber"
   ]
  },
  {
   "cell_type": "code",
   "execution_count": null,
   "metadata": {
    "collapsed": true
   },
   "outputs": [],
   "source": [
    "def fill_adj(adj, people):\n",
    "    # getting a list of active members (we're only interested in them)\n",
    "    active = people.PersonNumber.tolist()\n",
    "    # going through an empty adj matrix with PersonIdCodes as rows and columns\n",
    "    for row in adj.iterrows():\n",
    "        person_id = row[0]\n",
    "        # converting from PersonIdCode to PersonNumber for friends search\n",
    "        person_number = people.loc[person_id].PersonNumber\n",
    "        # searching co-sign friends w/ the function defined above\n",
    "        friends_matrix = get_friends(friends, person_number)\n",
    "        # looping through friends to fill the matrix\n",
    "        for friend in friends_matrix.iterrows():\n",
    "            # checking if active\n",
    "            if friend[1].Person_num in active:\n",
    "                # converting from PersonNumber to PersonIdCode\n",
    "                friend_id = people.loc[people.PersonNumber == friend[1].Person_num].index.tolist()[0]\n",
    "                # Updating matrix\n",
    "                adj.loc[person_id, str(friend_id)] = friend[1].times_cosigner"
   ]
  },
  {
   "cell_type": "code",
   "execution_count": null,
   "metadata": {
    "collapsed": false
   },
   "outputs": [],
   "source": [
    "fill_adj(adj, people)"
   ]
  },
  {
   "cell_type": "markdown",
   "metadata": {},
   "source": [
    "## WARNING: the adjacency matrix is **NOT** symmetric"
   ]
  },
  {
   "cell_type": "markdown",
   "metadata": {},
   "source": [
    "For now, I'll be only considering rows in the viz, but might make sense to consider columns, dunno."
   ]
  },
  {
   "cell_type": "code",
   "execution_count": null,
   "metadata": {
    "collapsed": false,
    "scrolled": true
   },
   "outputs": [],
   "source": [
    "adj.head(2)"
   ]
  },
  {
   "cell_type": "code",
   "execution_count": null,
   "metadata": {
    "collapsed": true
   },
   "outputs": [],
   "source": [
    "adj.to_csv('data/adj_cosign.csv')"
   ]
  },
  {
   "cell_type": "code",
   "execution_count": null,
   "metadata": {
    "collapsed": true
   },
   "outputs": [],
   "source": [
    "adj.to_json('data/adj_cosign.json', orient='index')"
   ]
  }
 ],
 "metadata": {
  "anaconda-cloud": {},
  "kernelspec": {
   "display_name": "Python [conda root]",
   "language": "python",
   "name": "conda-root-py"
  },
  "language_info": {
   "codemirror_mode": {
    "name": "ipython",
    "version": 3
   },
   "file_extension": ".py",
   "mimetype": "text/x-python",
   "name": "python",
   "nbconvert_exporter": "python",
   "pygments_lexer": "ipython3",
   "version": "3.5.2"
  }
 },
 "nbformat": 4,
 "nbformat_minor": 1
}

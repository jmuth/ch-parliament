{
 "cells": [
  {
   "cell_type": "code",
   "execution_count": 1,
   "metadata": {
    "collapsed": false
   },
   "outputs": [],
   "source": [
    "# Import some useful libraries\n",
    "%matplotlib inline\n",
    "import pandas as pd\n",
    "import urllib\n",
    "import xml.etree.ElementTree as ET\n",
    "from scraper import *\n",
    "import numpy as np\n",
    "import scipy.sparse as sp\n",
    "from tables import *\n",
    "%load_ext autoreload\n",
    "%autoreload 2\n",
    "\n",
    "# display all pandas columns\n",
    "\n",
    "pd.set_option('display.max_columns', 100)"
   ]
  },
  {
   "cell_type": "markdown",
   "metadata": {},
   "source": [
    "# Tables used for D3 visualisation \n",
    "Tables:\n",
    "* author\n",
    "* cosigner\n",
    "* interest"
   ]
  },
  {
   "cell_type": "code",
   "execution_count": 2,
   "metadata": {
    "collapsed": false,
    "scrolled": true
   },
   "outputs": [
    {
     "name": "stderr",
     "output_type": "stream",
     "text": [
      "/Users/joachimmuth/anaconda3/lib/python3.5/site-packages/IPython/core/interactiveshell.py:2821: DtypeWarning: Columns (10,27) have mixed types. Specify dtype option on import or set low_memory=False.\n",
      "  if self.run_code(code, result):\n"
     ]
    }
   ],
   "source": [
    "tables = Tables()"
   ]
  },
  {
   "cell_type": "code",
   "execution_count": 3,
   "metadata": {
    "collapsed": false,
    "scrolled": true
   },
   "outputs": [
    {
     "data": {
      "text/html": [
       "<div>\n",
       "<table border=\"1\" class=\"dataframe\">\n",
       "  <thead>\n",
       "    <tr style=\"text-align: right;\">\n",
       "      <th>TagName</th>\n",
       "      <th>MemberCouncilNumber</th>\n",
       "      <th>Politique d‘Etat</th>\n",
       "      <th>Politique internationale</th>\n",
       "      <th>Politique de sécurité</th>\n",
       "      <th>Politique européenne</th>\n",
       "      <th>Droit</th>\n",
       "      <th>Économie</th>\n",
       "      <th>Finances</th>\n",
       "      <th>Questions sociales</th>\n",
       "      <th>Éducation</th>\n",
       "      <th>Médias et communication</th>\n",
       "      <th>Science et recherche</th>\n",
       "      <th>Emploi et travail</th>\n",
       "      <th>Transports</th>\n",
       "      <th>Environnement</th>\n",
       "      <th>Agriculture</th>\n",
       "      <th>Énergie</th>\n",
       "      <th>Parlement</th>\n",
       "      <th>Droit civil</th>\n",
       "      <th>Droit pénal</th>\n",
       "      <th>Justice</th>\n",
       "      <th>Droit international</th>\n",
       "      <th>Droits de l'homme</th>\n",
       "      <th>Fiscalité</th>\n",
       "      <th>Politique migratoire</th>\n",
       "      <th>Culture</th>\n",
       "      <th>Protection sociale</th>\n",
       "      <th>Santé</th>\n",
       "      <th>Aménagement du territoire et logement</th>\n",
       "    </tr>\n",
       "  </thead>\n",
       "  <tbody>\n",
       "    <tr>\n",
       "      <th>0</th>\n",
       "      <td>1</td>\n",
       "      <td>0</td>\n",
       "      <td>0</td>\n",
       "      <td>0</td>\n",
       "      <td>0</td>\n",
       "      <td>0</td>\n",
       "      <td>0</td>\n",
       "      <td>0</td>\n",
       "      <td>0</td>\n",
       "      <td>1</td>\n",
       "      <td>0</td>\n",
       "      <td>0</td>\n",
       "      <td>0</td>\n",
       "      <td>0</td>\n",
       "      <td>0</td>\n",
       "      <td>0</td>\n",
       "      <td>0</td>\n",
       "      <td>0</td>\n",
       "      <td>0</td>\n",
       "      <td>0</td>\n",
       "      <td>0</td>\n",
       "      <td>0</td>\n",
       "      <td>0</td>\n",
       "      <td>0</td>\n",
       "      <td>0</td>\n",
       "      <td>0</td>\n",
       "      <td>0</td>\n",
       "      <td>0</td>\n",
       "      <td>0</td>\n",
       "    </tr>\n",
       "    <tr>\n",
       "      <th>1</th>\n",
       "      <td>9</td>\n",
       "      <td>17</td>\n",
       "      <td>25</td>\n",
       "      <td>14</td>\n",
       "      <td>4</td>\n",
       "      <td>16</td>\n",
       "      <td>22</td>\n",
       "      <td>7</td>\n",
       "      <td>20</td>\n",
       "      <td>5</td>\n",
       "      <td>6</td>\n",
       "      <td>2</td>\n",
       "      <td>0</td>\n",
       "      <td>19</td>\n",
       "      <td>24</td>\n",
       "      <td>9</td>\n",
       "      <td>11</td>\n",
       "      <td>7</td>\n",
       "      <td>0</td>\n",
       "      <td>0</td>\n",
       "      <td>0</td>\n",
       "      <td>0</td>\n",
       "      <td>0</td>\n",
       "      <td>0</td>\n",
       "      <td>12</td>\n",
       "      <td>6</td>\n",
       "      <td>0</td>\n",
       "      <td>16</td>\n",
       "      <td>4</td>\n",
       "    </tr>\n",
       "    <tr>\n",
       "      <th>2</th>\n",
       "      <td>11</td>\n",
       "      <td>0</td>\n",
       "      <td>0</td>\n",
       "      <td>0</td>\n",
       "      <td>0</td>\n",
       "      <td>0</td>\n",
       "      <td>0</td>\n",
       "      <td>0</td>\n",
       "      <td>0</td>\n",
       "      <td>1</td>\n",
       "      <td>0</td>\n",
       "      <td>0</td>\n",
       "      <td>0</td>\n",
       "      <td>0</td>\n",
       "      <td>0</td>\n",
       "      <td>0</td>\n",
       "      <td>0</td>\n",
       "      <td>0</td>\n",
       "      <td>0</td>\n",
       "      <td>0</td>\n",
       "      <td>0</td>\n",
       "      <td>0</td>\n",
       "      <td>0</td>\n",
       "      <td>0</td>\n",
       "      <td>0</td>\n",
       "      <td>0</td>\n",
       "      <td>0</td>\n",
       "      <td>0</td>\n",
       "      <td>0</td>\n",
       "    </tr>\n",
       "    <tr>\n",
       "      <th>3</th>\n",
       "      <td>12</td>\n",
       "      <td>5</td>\n",
       "      <td>3</td>\n",
       "      <td>2</td>\n",
       "      <td>3</td>\n",
       "      <td>3</td>\n",
       "      <td>10</td>\n",
       "      <td>10</td>\n",
       "      <td>4</td>\n",
       "      <td>5</td>\n",
       "      <td>3</td>\n",
       "      <td>4</td>\n",
       "      <td>0</td>\n",
       "      <td>8</td>\n",
       "      <td>4</td>\n",
       "      <td>3</td>\n",
       "      <td>1</td>\n",
       "      <td>1</td>\n",
       "      <td>0</td>\n",
       "      <td>0</td>\n",
       "      <td>0</td>\n",
       "      <td>0</td>\n",
       "      <td>0</td>\n",
       "      <td>0</td>\n",
       "      <td>3</td>\n",
       "      <td>1</td>\n",
       "      <td>0</td>\n",
       "      <td>7</td>\n",
       "      <td>3</td>\n",
       "    </tr>\n",
       "    <tr>\n",
       "      <th>4</th>\n",
       "      <td>14</td>\n",
       "      <td>20</td>\n",
       "      <td>12</td>\n",
       "      <td>21</td>\n",
       "      <td>5</td>\n",
       "      <td>18</td>\n",
       "      <td>53</td>\n",
       "      <td>34</td>\n",
       "      <td>23</td>\n",
       "      <td>18</td>\n",
       "      <td>18</td>\n",
       "      <td>10</td>\n",
       "      <td>0</td>\n",
       "      <td>82</td>\n",
       "      <td>29</td>\n",
       "      <td>23</td>\n",
       "      <td>9</td>\n",
       "      <td>4</td>\n",
       "      <td>0</td>\n",
       "      <td>0</td>\n",
       "      <td>0</td>\n",
       "      <td>0</td>\n",
       "      <td>0</td>\n",
       "      <td>0</td>\n",
       "      <td>10</td>\n",
       "      <td>10</td>\n",
       "      <td>0</td>\n",
       "      <td>26</td>\n",
       "      <td>8</td>\n",
       "    </tr>\n",
       "  </tbody>\n",
       "</table>\n",
       "</div>"
      ],
      "text/plain": [
       "TagName  MemberCouncilNumber  Politique d‘Etat  Politique internationale  \\\n",
       "0                          1                 0                         0   \n",
       "1                          9                17                        25   \n",
       "2                         11                 0                         0   \n",
       "3                         12                 5                         3   \n",
       "4                         14                20                        12   \n",
       "\n",
       "TagName  Politique de sécurité  Politique européenne  Droit  Économie  \\\n",
       "0                            0                     0      0         0   \n",
       "1                           14                     4     16        22   \n",
       "2                            0                     0      0         0   \n",
       "3                            2                     3      3        10   \n",
       "4                           21                     5     18        53   \n",
       "\n",
       "TagName  Finances  Questions sociales  Éducation  Médias et communication  \\\n",
       "0               0                   0          1                        0   \n",
       "1               7                  20          5                        6   \n",
       "2               0                   0          1                        0   \n",
       "3              10                   4          5                        3   \n",
       "4              34                  23         18                       18   \n",
       "\n",
       "TagName  Science et recherche  Emploi et travail  Transports  Environnement  \\\n",
       "0                           0                  0           0              0   \n",
       "1                           2                  0          19             24   \n",
       "2                           0                  0           0              0   \n",
       "3                           4                  0           8              4   \n",
       "4                          10                  0          82             29   \n",
       "\n",
       "TagName  Agriculture  Énergie  Parlement  Droit civil  Droit pénal  Justice  \\\n",
       "0                  0        0          0            0            0        0   \n",
       "1                  9       11          7            0            0        0   \n",
       "2                  0        0          0            0            0        0   \n",
       "3                  3        1          1            0            0        0   \n",
       "4                 23        9          4            0            0        0   \n",
       "\n",
       "TagName  Droit international  Droits de l'homme  Fiscalité  \\\n",
       "0                          0                  0          0   \n",
       "1                          0                  0          0   \n",
       "2                          0                  0          0   \n",
       "3                          0                  0          0   \n",
       "4                          0                  0          0   \n",
       "\n",
       "TagName  Politique migratoire  Culture  Protection sociale  Santé  \\\n",
       "0                           0        0                   0      0   \n",
       "1                          12        6                   0     16   \n",
       "2                           0        0                   0      0   \n",
       "3                           3        1                   0      7   \n",
       "4                          10       10                   0     26   \n",
       "\n",
       "TagName  Aménagement du territoire et logement  \n",
       "0                                            0  \n",
       "1                                            4  \n",
       "2                                            0  \n",
       "3                                            3  \n",
       "4                                            8  "
      ]
     },
     "execution_count": 3,
     "metadata": {},
     "output_type": "execute_result"
    }
   ],
   "source": [
    "interest = tables.interest()\n",
    "interest.head()"
   ]
  },
  {
   "cell_type": "code",
   "execution_count": null,
   "metadata": {
    "collapsed": false
   },
   "outputs": [],
   "source": [
    "authors = tables.author()\n",
    "authors.head()"
   ]
  },
  {
   "cell_type": "code",
   "execution_count": null,
   "metadata": {
    "collapsed": false
   },
   "outputs": [],
   "source": [
    "cosigners = tables.cosigner()\n",
    "cosigners"
   ]
  },
  {
   "cell_type": "markdown",
   "metadata": {},
   "source": [
    "## Explanation of the Table\n",
    "\n",
    "* **Business** is the table of initiatives\n",
    "* **BusinessRole** table of all the person who act for or against a business. IMPORTANT! **BusinessRole.MemberCouncilNumber** link to **MemberCouncil.PersonNumber**. **BusinessShortNumber** link businesses and roles.\n",
    "    * Auteur\n",
    "    * Cosignataire\n",
    "    * Porte-parole\n",
    "    * Opposant(e)\n",
    "    * Repreneur\n",
    "    \n",
    "* **BusinessType** contain all 18 types of businesses. As the type is reapeated in **Business.BusinessType** and **Business.BusinessTypeName**, it is not useful for us.\n",
    "* **BusinessStatus** give the current status of a business. Again, this information is given in **Business.BusinessStatusText**, so not useful\n",
    "\n",
    "\n",
    "* Tag are stored in \"TagNames\" Array\n",
    "* **Tags** are easier (as it is integer) "
   ]
  },
  {
   "cell_type": "markdown",
   "metadata": {},
   "source": [
    "# Compiling the _Cosignataire_ info into an adjacency matrix for d3"
   ]
  },
  {
   "cell_type": "code",
   "execution_count": null,
   "metadata": {
    "collapsed": false
   },
   "outputs": [],
   "source": [
    "adj = pd.read_csv('data/adj.csv')"
   ]
  },
  {
   "cell_type": "code",
   "execution_count": null,
   "metadata": {
    "collapsed": false
   },
   "outputs": [],
   "source": [
    "adj.rename(columns={'PersonNumber': 'PersonIdCode'}, inplace=True)"
   ]
  },
  {
   "cell_type": "code",
   "execution_count": null,
   "metadata": {
    "collapsed": false
   },
   "outputs": [],
   "source": [
    "adj.set_index('PersonIdCode', inplace=True)"
   ]
  },
  {
   "cell_type": "code",
   "execution_count": null,
   "metadata": {
    "collapsed": false
   },
   "outputs": [],
   "source": [
    "adj.head(2)"
   ]
  },
  {
   "cell_type": "code",
   "execution_count": null,
   "metadata": {
    "collapsed": false
   },
   "outputs": [],
   "source": [
    "people = pd.read_csv('data/people_jonas.csv').set_index('PersonIdCode')"
   ]
  },
  {
   "cell_type": "code",
   "execution_count": null,
   "metadata": {
    "collapsed": false
   },
   "outputs": [],
   "source": [
    "people.loc[2023].PersonNumber"
   ]
  },
  {
   "cell_type": "code",
   "execution_count": null,
   "metadata": {
    "collapsed": true
   },
   "outputs": [],
   "source": [
    "def fill_adj(adj, people):\n",
    "    # getting a list of active members (we're only interested in them)\n",
    "    active = people.PersonNumber.tolist()\n",
    "    # going through an empty adj matrix with PersonIdCodes as rows and columns\n",
    "    for row in adj.iterrows():\n",
    "        person_id = row[0]\n",
    "        # converting from PersonIdCode to PersonNumber for friends search\n",
    "        person_number = people.loc[person_id].PersonNumber\n",
    "        # searching co-sign friends w/ the function defined above\n",
    "        friends_matrix = get_friends(friends, person_number)\n",
    "        # looping through friends to fill the matrix\n",
    "        for friend in friends_matrix.iterrows():\n",
    "            # checking if active\n",
    "            if friend[1].Person_num in active:\n",
    "                # converting from PersonNumber to PersonIdCode\n",
    "                friend_id = people.loc[people.PersonNumber == friend[1].Person_num].index.tolist()[0]\n",
    "                # Updating matrix\n",
    "                adj.loc[person_id, str(friend_id)] = friend[1].times_cosigner"
   ]
  },
  {
   "cell_type": "code",
   "execution_count": null,
   "metadata": {
    "collapsed": false
   },
   "outputs": [],
   "source": [
    "fill_adj(adj, people)"
   ]
  },
  {
   "cell_type": "markdown",
   "metadata": {},
   "source": [
    "## WARNING: the adjacency matrix is **NOT** symmetric"
   ]
  },
  {
   "cell_type": "markdown",
   "metadata": {},
   "source": [
    "For now, I'll be only considering rows in the viz, but might make sense to consider columns, dunno."
   ]
  },
  {
   "cell_type": "code",
   "execution_count": null,
   "metadata": {
    "collapsed": false,
    "scrolled": true
   },
   "outputs": [],
   "source": [
    "adj.head(2)"
   ]
  },
  {
   "cell_type": "code",
   "execution_count": null,
   "metadata": {
    "collapsed": true
   },
   "outputs": [],
   "source": [
    "adj.to_csv('data/adj_cosign.csv')"
   ]
  },
  {
   "cell_type": "code",
   "execution_count": null,
   "metadata": {
    "collapsed": true
   },
   "outputs": [],
   "source": [
    "adj.to_json('data/adj_cosign.json', orient='index')"
   ]
  }
 ],
 "metadata": {
  "anaconda-cloud": {},
  "kernelspec": {
   "display_name": "Python [conda root]",
   "language": "python",
   "name": "conda-root-py"
  },
  "language_info": {
   "codemirror_mode": {
    "name": "ipython",
    "version": 3
   },
   "file_extension": ".py",
   "mimetype": "text/x-python",
   "name": "python",
   "nbconvert_exporter": "python",
   "pygments_lexer": "ipython3",
   "version": "3.5.2"
  }
 },
 "nbformat": 4,
 "nbformat_minor": 1
}

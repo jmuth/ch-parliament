{
 "cells": [
  {
   "cell_type": "markdown",
   "metadata": {},
   "source": [
    "# Scraping of http://www.parlament.ch\n",
    "\n",
    "First, we need to scrap some information from the website http://parlament.ch. In this notebook, we will scrap different information. These information will be stored in the folder *data*. If you just cloned the repo and you need some data, please run this python notebook to scrap all the data. \n",
    "\n",
    "For the scraping, we are using the library `requests`. The metadata of the website are provided and working with XOData. So, we get the urls using XOData, then we get the XML using `requests` and we transform the XML into JSON using the library `xmltodict`."
   ]
  },
  {
   "cell_type": "code",
   "execution_count": 1,
   "metadata": {
    "collapsed": false
   },
   "outputs": [],
   "source": [
    "# Import some useful libraries\n",
    "import requests\n",
    "from bs4 import BeautifulSoup as BSoup\n",
    "import pandas as pd\n",
    "import xmltodict\n",
    "import json"
   ]
  },
  {
   "cell_type": "markdown",
   "metadata": {},
   "source": [
    "## Scrap the Parties\n",
    "\n",
    "First, we want to scrap all the parties. We will save them into a JSON file."
   ]
  },
  {
   "cell_type": "code",
   "execution_count": 2,
   "metadata": {
    "collapsed": false
   },
   "outputs": [],
   "source": [
    "# Url to get all the party\n",
    "url_party = \"https://ws.parlament.ch/odata.svc/Party?$top=10000&$filter=Language eq 'FR'&$select=PartyAbbreviation,PartyName,ID\"\n",
    "# Use requests to get the XML\n",
    "xml_party = requests.get(url_party)"
   ]
  },
  {
   "cell_type": "code",
   "execution_count": 3,
   "metadata": {
    "collapsed": false
   },
   "outputs": [],
   "source": [
    "# Transform the XML to JSON\n",
    "json_party = xmltodict.parse(xml_party.text)"
   ]
  },
  {
   "cell_type": "markdown",
   "metadata": {},
   "source": [
    "Now, we need to process this JSON in order to get a pretty JSON.\n",
    "We will take the following columns:\n",
    "- ID\n",
    "- PartyName\n",
    "- PartyAbbreviation"
   ]
  },
  {
   "cell_type": "code",
   "execution_count": 4,
   "metadata": {
    "collapsed": false
   },
   "outputs": [
    {
     "name": "stdout",
     "output_type": "stream",
     "text": [
      "{\n",
      "  \"id\": \"https://ws.parlament.ch/OData.svc/Party(ID=12,Language='FR')\",\n",
      "  \"category\": {\n",
      "    \"@term\": \"itsystems.Pd.DataServices.DataModel.Party\",\n",
      "    \"@scheme\": \"http://schemas.microsoft.com/ado/2007/08/dataservices/scheme\"\n",
      "  },\n",
      "  \"link\": {\n",
      "    \"@rel\": \"edit\",\n",
      "    \"@title\": \"Party\",\n",
      "    \"@href\": \"Party(ID=12,Language='FR')\"\n",
      "  },\n",
      "  \"title\": null,\n",
      "  \"updated\": \"2016-11-06T18:44:42Z\",\n",
      "  \"author\": {\n",
      "    \"name\": null\n",
      "  },\n",
      "  \"content\": {\n",
      "    \"@type\": \"application/xml\",\n",
      "    \"m:properties\": {\n",
      "      \"d:ID\": {\n",
      "        \"@m:type\": \"Edm.Int32\",\n",
      "        \"#text\": \"12\"\n",
      "      },\n",
      "      \"d:PartyName\": \"Parti socialiste suisse\",\n",
      "      \"d:PartyAbbreviation\": \"PSS\"\n",
      "    }\n",
      "  }\n",
      "}\n"
     ]
    }
   ],
   "source": [
    "json_party_clean = {'ID':[], 'PartyName':[], 'PartyAbbreviation':[]}\n",
    "\n",
    "entries = json_party['feed']['entry']\n",
    "\n",
    "# Print an entry to see where we need to take the party\n",
    "print(json.dumps(json_party[\"feed\"][\"entry\"][0], indent=2))\n",
    "\n",
    "for i in range(len(entries)):\n",
    "    # Get the content of the i-th entry\n",
    "    properties = entries[i]['content']['m:properties']\n",
    "    # Get the ID\n",
    "    json_party_clean['ID'].append(properties['d:ID']['#text'])\n",
    "    # Get the PartyName\n",
    "    json_party_clean['PartyName'].append(properties['d:PartyName'])\n",
    "    # Get the PartyAbbreviation\n",
    "    json_party_clean['PartyAbbreviation'].append(properties['d:PartyAbbreviation'])"
   ]
  },
  {
   "cell_type": "code",
   "execution_count": 5,
   "metadata": {
    "collapsed": false
   },
   "outputs": [],
   "source": [
    "# Save the JSON to data\n",
    "with open('data/party.json', 'w') as ff:\n",
    "    ff.write(json.dumps(json_party_clean, indent=2))"
   ]
  },
  {
   "cell_type": "markdown",
   "metadata": {},
   "source": [
    "## Scrap the people\n",
    "\n",
    "We scrap all the people that appear in the website and we will save them into a JSON."
   ]
  },
  {
   "cell_type": "code",
   "execution_count": 6,
   "metadata": {
    "collapsed": true
   },
   "outputs": [],
   "source": [
    "# Url to get all party's members\n",
    "url_members = \"https://ws.parlament.ch/odata.svc/MemberParty?$filter=Language eq 'FR'\"\n",
    "# Use requests to get the XML\n",
    "xml_members = requests.get(url_members)\n",
    "# Transform the XML to JSON\n",
    "json_members = xmltodict.parse(xml_members.text)"
   ]
  },
  {
   "cell_type": "markdown",
   "metadata": {},
   "source": [
    "Now, we need to process this JSON in order to get a pretty JSON.\n",
    "We will take the following columns:\n",
    "- ID\n",
    "- PersonIdCode (To get more info on this person)\n",
    "- PartyID (i.e. PartyNumber)\n",
    "- PartyAbbreviation\n",
    "- FirstName\n",
    "- LastName\n",
    "- Gender (i.e. GenderAsString)\n",
    "- PartyFunction"
   ]
  },
  {
   "cell_type": "code",
   "execution_count": 7,
   "metadata": {
    "collapsed": false
   },
   "outputs": [
    {
     "name": "stdout",
     "output_type": "stream",
     "text": [
      "{\n",
      "  \"d:ID\": {\n",
      "    \"@m:type\": \"Edm.Int32\",\n",
      "    \"#text\": \"1172\"\n",
      "  },\n",
      "  \"d:Language\": \"FR\",\n",
      "  \"d:PartyNumber\": {\n",
      "    \"@m:type\": \"Edm.Int32\",\n",
      "    \"#text\": \"14\"\n",
      "  },\n",
      "  \"d:PartyName\": \"Parti d\\u00e9mocrate-chr\\u00e9tien suisse\",\n",
      "  \"d:PersonNumber\": {\n",
      "    \"@m:type\": \"Edm.Int32\",\n",
      "    \"#text\": \"1172\"\n",
      "  },\n",
      "  \"d:PersonIdCode\": {\n",
      "    \"@m:type\": \"Edm.Int32\",\n",
      "    \"@m:null\": \"true\"\n",
      "  },\n",
      "  \"d:FirstName\": \"Max\",\n",
      "  \"d:LastName\": \"Aebischer\",\n",
      "  \"d:GenderAsString\": \"m\",\n",
      "  \"d:PartyFunction\": \"Mitglied\",\n",
      "  \"d:Modified\": {\n",
      "    \"@m:type\": \"Edm.DateTime\",\n",
      "    \"#text\": \"2013-04-29T15:49:41.223\"\n",
      "  },\n",
      "  \"d:PartyAbbreviation\": \"PDC\"\n",
      "}\n"
     ]
    }
   ],
   "source": [
    "json_members_clean = {'ID':[], 'PersonIdCode': [], \n",
    "                      'PartyID':[], 'PartyAbbreviation':[],\n",
    "                      'FirstName':[], 'LastName':[],\n",
    "                      'Gender': [], 'PartyFunction': []}\n",
    "\n",
    "entries = json_members['feed']['entry']\n",
    "\n",
    "# Print an entry to see where we need to take the party\n",
    "print(json.dumps(json_members[\"feed\"][\"entry\"][430]['content']['m:properties'], indent=2))\n",
    "\n",
    "for i in range(len(entries)):\n",
    "    # Get the content of the i-th entry\n",
    "    properties = entries[i]['content']['m:properties']\n",
    "    # Get the ID\n",
    "    json_members_clean['ID'].append(properties['d:ID']['#text'])\n",
    "    # Get the PersonIdCode\n",
    "    try:\n",
    "        json_members_clean['PersonIdCode'].append(properties['d:PersonIdCode']['#text'])\n",
    "    except:\n",
    "        json_members_clean['PersonIdCode'].append(None)\n",
    "    # Get the PartyID\n",
    "    json_members_clean['PartyID'].append(properties['d:PartyNumber']['#text'])\n",
    "    # Get the PartyAbbreviation\n",
    "    json_members_clean['PartyAbbreviation'].append(properties['d:PartyAbbreviation'])\n",
    "    # Get the FirstName\n",
    "    json_members_clean['FirstName'].append(properties['d:FirstName'])\n",
    "    # Get the LastName\n",
    "    json_members_clean['LastName'].append(properties['d:LastName'])\n",
    "    # Get the Gender\n",
    "    json_members_clean['Gender'].append(properties['d:GenderAsString'])\n",
    "    # Get the PartyFunction\n",
    "    json_members_clean['PartyFunction'].append(properties['d:PartyFunction'])"
   ]
  },
  {
   "cell_type": "code",
   "execution_count": 8,
   "metadata": {
    "collapsed": true
   },
   "outputs": [],
   "source": [
    "# Save the JSON to data\n",
    "with open('data/party_members.json', 'w') as ff:\n",
    "    ff.write(json.dumps(json_members_clean, indent=2))"
   ]
  },
  {
   "cell_type": "markdown",
   "metadata": {},
   "source": [
    "## Have fun with the Party members\n",
    "\n",
    "We just want to check that we can access some information using a pandas DataFrame."
   ]
  },
  {
   "cell_type": "code",
   "execution_count": 9,
   "metadata": {
    "collapsed": false
   },
   "outputs": [
    {
     "data": {
      "text/html": [
       "<div>\n",
       "<table border=\"1\" class=\"dataframe\">\n",
       "  <thead>\n",
       "    <tr style=\"text-align: right;\">\n",
       "      <th></th>\n",
       "      <th>FirstName</th>\n",
       "      <th>Gender</th>\n",
       "      <th>ID</th>\n",
       "      <th>LastName</th>\n",
       "      <th>PartyAbbreviation</th>\n",
       "      <th>PartyFunction</th>\n",
       "      <th>PartyID</th>\n",
       "      <th>PersonIdCode</th>\n",
       "    </tr>\n",
       "  </thead>\n",
       "  <tbody>\n",
       "    <tr>\n",
       "      <th>0</th>\n",
       "      <td>Pierre</td>\n",
       "      <td>m</td>\n",
       "      <td>1</td>\n",
       "      <td>Aguet</td>\n",
       "      <td>PSS</td>\n",
       "      <td>Mitglied</td>\n",
       "      <td>12</td>\n",
       "      <td>2200.0</td>\n",
       "    </tr>\n",
       "    <tr>\n",
       "      <th>1</th>\n",
       "      <td>Heinz</td>\n",
       "      <td>m</td>\n",
       "      <td>2</td>\n",
       "      <td>Allenspach</td>\n",
       "      <td>PLR</td>\n",
       "      <td>Mitglied</td>\n",
       "      <td>15</td>\n",
       "      <td>2002.0</td>\n",
       "    </tr>\n",
       "    <tr>\n",
       "      <th>2</th>\n",
       "      <td>Manfred</td>\n",
       "      <td>m</td>\n",
       "      <td>6</td>\n",
       "      <td>Aregger</td>\n",
       "      <td>PLR</td>\n",
       "      <td>Mitglied</td>\n",
       "      <td>15</td>\n",
       "      <td>2004.0</td>\n",
       "    </tr>\n",
       "    <tr>\n",
       "      <th>3</th>\n",
       "      <td>Peter</td>\n",
       "      <td>m</td>\n",
       "      <td>10</td>\n",
       "      <td>Baumberger</td>\n",
       "      <td>PDC</td>\n",
       "      <td>Mitglied</td>\n",
       "      <td>14</td>\n",
       "      <td>2269.0</td>\n",
       "    </tr>\n",
       "    <tr>\n",
       "      <th>4</th>\n",
       "      <td>Thierry</td>\n",
       "      <td>m</td>\n",
       "      <td>13</td>\n",
       "      <td>Béguin</td>\n",
       "      <td>PLR</td>\n",
       "      <td>Mitglied</td>\n",
       "      <td>15</td>\n",
       "      <td>2202.0</td>\n",
       "    </tr>\n",
       "  </tbody>\n",
       "</table>\n",
       "</div>"
      ],
      "text/plain": [
       "  FirstName Gender  ID    LastName PartyAbbreviation PartyFunction  PartyID  \\\n",
       "0    Pierre      m   1       Aguet               PSS      Mitglied       12   \n",
       "1     Heinz      m   2  Allenspach               PLR      Mitglied       15   \n",
       "2   Manfred      m   6     Aregger               PLR      Mitglied       15   \n",
       "3     Peter      m  10  Baumberger               PDC      Mitglied       14   \n",
       "4   Thierry      m  13      Béguin               PLR      Mitglied       15   \n",
       "\n",
       "   PersonIdCode  \n",
       "0        2200.0  \n",
       "1        2002.0  \n",
       "2        2004.0  \n",
       "3        2269.0  \n",
       "4        2202.0  "
      ]
     },
     "execution_count": 9,
     "metadata": {},
     "output_type": "execute_result"
    }
   ],
   "source": [
    "df_members = pd.read_json(json.dumps(json_members_clean, indent=2))\n",
    "df_members.head()"
   ]
  },
  {
   "cell_type": "code",
   "execution_count": 10,
   "metadata": {
    "collapsed": false
   },
   "outputs": [
    {
     "data": {
      "text/html": [
       "<div>\n",
       "<table border=\"1\" class=\"dataframe\">\n",
       "  <thead>\n",
       "    <tr style=\"text-align: right;\">\n",
       "      <th></th>\n",
       "      <th>FirstName</th>\n",
       "      <th>Gender</th>\n",
       "      <th>ID</th>\n",
       "      <th>LastName</th>\n",
       "      <th>PartyAbbreviation</th>\n",
       "      <th>PartyFunction</th>\n",
       "      <th>PartyID</th>\n",
       "      <th>PersonIdCode</th>\n",
       "    </tr>\n",
       "  </thead>\n",
       "  <tbody>\n",
       "    <tr>\n",
       "      <th>243</th>\n",
       "      <td>Johann N.</td>\n",
       "      <td>m</td>\n",
       "      <td>508</td>\n",
       "      <td>Schneider-Ammann</td>\n",
       "      <td>PLR</td>\n",
       "      <td>Mitglied</td>\n",
       "      <td>15</td>\n",
       "      <td>2530.0</td>\n",
       "    </tr>\n",
       "  </tbody>\n",
       "</table>\n",
       "</div>"
      ],
      "text/plain": [
       "     FirstName Gender   ID          LastName PartyAbbreviation PartyFunction  \\\n",
       "243  Johann N.      m  508  Schneider-Ammann               PLR      Mitglied   \n",
       "\n",
       "     PartyID  PersonIdCode  \n",
       "243       15        2530.0  "
      ]
     },
     "execution_count": 10,
     "metadata": {},
     "output_type": "execute_result"
    }
   ],
   "source": [
    "# Check if the conseiller fédéral are in here.\n",
    "df_members[df_members['LastName'] == 'Schneider-Ammann']"
   ]
  },
  {
   "cell_type": "markdown",
   "metadata": {},
   "source": [
    "## Get all the persons\n",
    "\n",
    "If we try to get the persons, it will give us more information about the party members. We will have more persons, but we can then extract different information"
   ]
  },
  {
   "cell_type": "code",
   "execution_count": 11,
   "metadata": {
    "collapsed": true
   },
   "outputs": [],
   "source": [
    "# Url to get all party's members\n",
    "url_persons = \"https://ws.parlament.ch/odata.svc/Person?$filter=Language eq 'FR'\"\n",
    "# Use requests to get the XML\n",
    "xml_persons = requests.get(url_persons)\n",
    "# Transform the XML to JSON\n",
    "json_persons = xmltodict.parse(xml_persons.text)"
   ]
  },
  {
   "cell_type": "markdown",
   "metadata": {},
   "source": [
    "Now, we need to process this JSON in order to get a pretty JSON.\n",
    "We will take the following columns:\n",
    "- ID\n",
    "- PersonIdCode (To get more info on this person)\n",
    "- FirstName\n",
    "- LastName\n",
    "- Gender (i.e. GenderAsString)\n",
    "- Profession (i.e. Title)\n",
    "- ProfessionText (i.e. TitleText)\n",
    "- DateOfBirth_at (The \"\\_at\" at the end is for pandas to parse the date)\n",
    "- DateOfDeath_at (The \"\\_at\" at the end is for pandas to parse the date)\n",
    "- MaritalStatus\n",
    "- MaritalStatusText\n",
    "- PlaceOfBirthCity\n",
    "- PlaceOfBirthCanton\n",
    "- MilitaryRank\n",
    "- MilitaryRankText\n",
    "- NativeLanguage\n",
    "- NumberOfChildren"
   ]
  },
  {
   "cell_type": "code",
   "execution_count": 12,
   "metadata": {
    "collapsed": false
   },
   "outputs": [
    {
     "name": "stdout",
     "output_type": "stream",
     "text": [
      "{\n",
      "  \"d:ID\": {\n",
      "    \"@m:type\": \"Edm.Int32\",\n",
      "    \"#text\": \"1359\"\n",
      "  },\n",
      "  \"d:Language\": \"FR\",\n",
      "  \"d:PersonNumber\": {\n",
      "    \"@m:type\": \"Edm.Int32\",\n",
      "    \"#text\": \"1359\"\n",
      "  },\n",
      "  \"d:PersonIdCode\": {\n",
      "    \"@m:type\": \"Edm.Int32\",\n",
      "    \"@m:null\": \"true\"\n",
      "  },\n",
      "  \"d:Title\": {\n",
      "    \"@m:type\": \"Edm.Int32\",\n",
      "    \"@m:null\": \"true\"\n",
      "  },\n",
      "  \"d:TitleText\": {\n",
      "    \"@m:null\": \"true\"\n",
      "  },\n",
      "  \"d:LastName\": \"Ackermann\",\n",
      "  \"d:GenderAsString\": \"m\",\n",
      "  \"d:DateOfBirth\": {\n",
      "    \"@m:type\": \"Edm.DateTime\",\n",
      "    \"#text\": \"1907-04-02T00:00:00\"\n",
      "  },\n",
      "  \"d:DateOfDeath\": {\n",
      "    \"@m:type\": \"Edm.DateTime\",\n",
      "    \"#text\": \"1997-12-12T00:00:00\"\n",
      "  },\n",
      "  \"d:MaritalStatus\": {\n",
      "    \"@m:type\": \"Edm.Int32\",\n",
      "    \"@m:null\": \"true\"\n",
      "  },\n",
      "  \"d:MaritalStatusText\": {\n",
      "    \"@m:null\": \"true\"\n",
      "  },\n",
      "  \"d:PlaceOfBirthCity\": {\n",
      "    \"@m:null\": \"true\"\n",
      "  },\n",
      "  \"d:PlaceOfBirthCanton\": {\n",
      "    \"@m:null\": \"true\"\n",
      "  },\n",
      "  \"d:Modified\": {\n",
      "    \"@m:type\": \"Edm.DateTime\",\n",
      "    \"#text\": \"2015-05-17T21:18:19.387\"\n",
      "  },\n",
      "  \"d:FirstName\": \"Alfred\",\n",
      "  \"d:OfficialName\": \"Ackermann Alfred\",\n",
      "  \"d:MilitaryRank\": {\n",
      "    \"@m:type\": \"Edm.Int32\",\n",
      "    \"@m:null\": \"true\"\n",
      "  },\n",
      "  \"d:MilitaryRankText\": {\n",
      "    \"@m:null\": \"true\"\n",
      "  },\n",
      "  \"d:NativeLanguage\": {\n",
      "    \"@m:null\": \"true\"\n",
      "  },\n",
      "  \"d:NumberOfChildren\": {\n",
      "    \"@m:type\": \"Edm.Int16\",\n",
      "    \"@m:null\": \"true\"\n",
      "  }\n",
      "}\n"
     ]
    }
   ],
   "source": [
    "json_persons_clean = {'ID':[], 'PersonIdCode': [], \n",
    "                      'FirstName':[], 'LastName':[],\n",
    "                      'Gender': [], 'Profession': [],\n",
    "                      'ProfessionText': [], 'DateOfBirth_at': [],\n",
    "                      'DateOfDeath_at': [], 'MaritalStatus': [],\n",
    "                      'MaritalStatusText': [], 'PlaceOfBirthCity': [],\n",
    "                      'PlaceOfBirthCanton': [], 'MilitaryRank': [],\n",
    "                      'MilitaryRankText': [], 'NativeLanguage': [],\n",
    "                      'NumberOfChildren': []}\n",
    "\n",
    "entries = json_persons['feed']['entry']\n",
    "\n",
    "# Print an entry to see where we need to take the party\n",
    "print(json.dumps(json_persons[\"feed\"][\"entry\"][905]['content']['m:properties'], indent=2))\n",
    "\n",
    "for i in range(len(entries)):\n",
    "    # Get the content of the i-th entry\n",
    "    properties = entries[i]['content']['m:properties']\n",
    "    # Get the ID\n",
    "    json_persons_clean['ID'].append(properties['d:ID']['#text'])\n",
    "    # Get the PersonIdCode\n",
    "    try:\n",
    "        json_persons_clean['PersonIdCode'].append(properties['d:PersonIdCode']['#text'])\n",
    "    except:\n",
    "        json_persons_clean['PersonIdCode'].append(None)\n",
    "    # Get the FirstName\n",
    "    json_persons_clean['FirstName'].append(properties['d:FirstName'])\n",
    "    # Get the LastName\n",
    "    json_persons_clean['LastName'].append(properties['d:LastName'])    \n",
    "    # Get the Gender\n",
    "    json_persons_clean['Gender'].append(properties['d:GenderAsString'])\n",
    "    try:\n",
    "        # Get the Profession\n",
    "        json_persons_clean['Profession'].append(properties['d:Title']['#text']) \n",
    "        # Get the ProfessionText\n",
    "        json_persons_clean['ProfessionText'].append(properties['d:TitleText']) \n",
    "    except:\n",
    "        json_persons_clean['Profession'].append(None)\n",
    "        json_persons_clean['ProfessionText'].append(None)\n",
    "    try:\n",
    "        # Get the DateOfBirth\n",
    "        json_persons_clean['DateOfBirth_at'].append(properties['d:DateOfBirth']['#text'])\n",
    "    except:\n",
    "        json_persons_clean['DateOfBirth_at'].append(None)\n",
    "    try:\n",
    "        # Get the DateOfDeath\n",
    "        json_persons_clean['DateOfDeath_at'].append(properties['d:DateOfDeath']['#text'])\n",
    "    except:\n",
    "        json_persons_clean['DateOfDeath_at'].append(None)   \n",
    "    try:\n",
    "        # Get the MaritalStatus\n",
    "        json_persons_clean['MaritalStatus'].append(properties['d:MaritalStatus']['#text']) \n",
    "        # Get the MaritalStatusText\n",
    "        json_persons_clean['MaritalStatusText'].append(properties['d:MaritalStatusText']) \n",
    "    except:\n",
    "        json_persons_clean['MaritalStatus'].append(None)\n",
    "        json_persons_clean['MaritalStatusText'].append(None)\n",
    "    try:\n",
    "        # Check if the PlaceOfBirthCanton is null\n",
    "        test = properties['d:PlaceOfBirthCanton']['@m:null']\n",
    "        # This mean that it's null\n",
    "        json_persons_clean['PlaceOfBirthCanton'].append(None)\n",
    "        json_persons_clean['PlaceOfBirthCity'].append(None)\n",
    "    except:\n",
    "        # If we can't get the null, then it's not null. =)\n",
    "        json_persons_clean['PlaceOfBirthCanton'].append(properties['d:PlaceOfBirthCanton'])\n",
    "        json_persons_clean['PlaceOfBirthCity'].append(properties['d:PlaceOfBirthCity'])\n",
    "    try:\n",
    "        # Get the MilitaryRank\n",
    "        json_persons_clean['MilitaryRank'].append(properties['d:MilitaryRank']['#text']) \n",
    "        # Get the MilitaryRankText\n",
    "        json_persons_clean['MilitaryRankText'].append(properties['d:MilitaryRankText']) \n",
    "    except:\n",
    "        json_persons_clean['MilitaryRank'].append(None)\n",
    "        json_persons_clean['MilitaryRankText'].append(None)    \n",
    "    try:\n",
    "        # Check if the NativeLanguage is null\n",
    "        test = properties['d:NativeLanguage']['@m:null']\n",
    "        # It's the case, so we put NaN\n",
    "        json_persons_clean['NativeLanguage'].append(None)\n",
    "    except:\n",
    "        # Get the Native Language\n",
    "        json_persons_clean['NativeLanguage'].append(properties['d:NativeLanguage'])\n",
    "    try:\n",
    "        # Check if the NumberOfChilder is null\n",
    "        test = properties['d:NumberOfChildren']['@m:null']\n",
    "        # It's the case, so we put NaN\n",
    "        json_persons_clean['NumberOfChildren'].append(None)\n",
    "    except:\n",
    "        # Get the Native Language\n",
    "        json_persons_clean['NumberOfChildren'].append(properties['d:NumberOfChildren']['#text'])        "
   ]
  },
  {
   "cell_type": "code",
   "execution_count": 13,
   "metadata": {
    "collapsed": true
   },
   "outputs": [],
   "source": [
    "# Save the JSON to data\n",
    "with open('data/persons.json', 'w') as ff:\n",
    "    ff.write(json.dumps(json_persons_clean, indent=2))"
   ]
  },
  {
   "cell_type": "markdown",
   "metadata": {},
   "source": [
    "## Have fun with the Persons\n",
    "\n",
    "We just want to check that we can access some information using a pandas DataFrame."
   ]
  },
  {
   "cell_type": "code",
   "execution_count": 14,
   "metadata": {
    "collapsed": false
   },
   "outputs": [
    {
     "data": {
      "text/html": [
       "<div>\n",
       "<table border=\"1\" class=\"dataframe\">\n",
       "  <thead>\n",
       "    <tr style=\"text-align: right;\">\n",
       "      <th></th>\n",
       "      <th>DateOfBirth_at</th>\n",
       "      <th>DateOfDeath_at</th>\n",
       "      <th>FirstName</th>\n",
       "      <th>Gender</th>\n",
       "      <th>ID</th>\n",
       "      <th>LastName</th>\n",
       "      <th>MaritalStatus</th>\n",
       "      <th>MaritalStatusText</th>\n",
       "      <th>MilitaryRank</th>\n",
       "      <th>MilitaryRankText</th>\n",
       "      <th>NativeLanguage</th>\n",
       "      <th>NumberOfChildren</th>\n",
       "      <th>PersonIdCode</th>\n",
       "      <th>PlaceOfBirthCanton</th>\n",
       "      <th>PlaceOfBirthCity</th>\n",
       "      <th>Profession</th>\n",
       "      <th>ProfessionText</th>\n",
       "    </tr>\n",
       "  </thead>\n",
       "  <tbody>\n",
       "    <tr>\n",
       "      <th>0</th>\n",
       "      <td>1938-03-02</td>\n",
       "      <td>NaT</td>\n",
       "      <td>Pierre</td>\n",
       "      <td>m</td>\n",
       "      <td>1</td>\n",
       "      <td>Aguet</td>\n",
       "      <td>2.0</td>\n",
       "      <td>marié(e)</td>\n",
       "      <td>5.0</td>\n",
       "      <td>Fourrier</td>\n",
       "      <td>F</td>\n",
       "      <td>NaN</td>\n",
       "      <td>2200.0</td>\n",
       "      <td>Vaud</td>\n",
       "      <td>Pompaples</td>\n",
       "      <td>NaN</td>\n",
       "      <td>None</td>\n",
       "    </tr>\n",
       "    <tr>\n",
       "      <th>1</th>\n",
       "      <td>1928-02-22</td>\n",
       "      <td>NaT</td>\n",
       "      <td>Heinz</td>\n",
       "      <td>m</td>\n",
       "      <td>2</td>\n",
       "      <td>Allenspach</td>\n",
       "      <td>NaN</td>\n",
       "      <td>None</td>\n",
       "      <td>NaN</td>\n",
       "      <td>None</td>\n",
       "      <td>D</td>\n",
       "      <td>NaN</td>\n",
       "      <td>2002.0</td>\n",
       "      <td>None</td>\n",
       "      <td>None</td>\n",
       "      <td>NaN</td>\n",
       "      <td>None</td>\n",
       "    </tr>\n",
       "    <tr>\n",
       "      <th>2</th>\n",
       "      <td>1931-01-27</td>\n",
       "      <td>NaT</td>\n",
       "      <td>Manfred</td>\n",
       "      <td>m</td>\n",
       "      <td>6</td>\n",
       "      <td>Aregger</td>\n",
       "      <td>2.0</td>\n",
       "      <td>marié(e)</td>\n",
       "      <td>7.0</td>\n",
       "      <td>Adjudant sous-officier</td>\n",
       "      <td>D</td>\n",
       "      <td>5.0</td>\n",
       "      <td>2004.0</td>\n",
       "      <td>Lucerne</td>\n",
       "      <td>Hasle</td>\n",
       "      <td>9.0</td>\n",
       "      <td>dipl. Bauing. HTL</td>\n",
       "    </tr>\n",
       "    <tr>\n",
       "      <th>3</th>\n",
       "      <td>1928-03-04</td>\n",
       "      <td>NaT</td>\n",
       "      <td>Geneviève</td>\n",
       "      <td>f</td>\n",
       "      <td>7</td>\n",
       "      <td>Aubry</td>\n",
       "      <td>NaN</td>\n",
       "      <td>None</td>\n",
       "      <td>NaN</td>\n",
       "      <td>None</td>\n",
       "      <td>F</td>\n",
       "      <td>NaN</td>\n",
       "      <td>2005.0</td>\n",
       "      <td>None</td>\n",
       "      <td>None</td>\n",
       "      <td>NaN</td>\n",
       "      <td>None</td>\n",
       "    </tr>\n",
       "    <tr>\n",
       "      <th>4</th>\n",
       "      <td>1947-12-01</td>\n",
       "      <td>NaT</td>\n",
       "      <td>Rosmarie</td>\n",
       "      <td>f</td>\n",
       "      <td>8</td>\n",
       "      <td>Bär</td>\n",
       "      <td>NaN</td>\n",
       "      <td>None</td>\n",
       "      <td>NaN</td>\n",
       "      <td>None</td>\n",
       "      <td>D</td>\n",
       "      <td>NaN</td>\n",
       "      <td>2008.0</td>\n",
       "      <td>None</td>\n",
       "      <td>None</td>\n",
       "      <td>NaN</td>\n",
       "      <td>None</td>\n",
       "    </tr>\n",
       "  </tbody>\n",
       "</table>\n",
       "</div>"
      ],
      "text/plain": [
       "  DateOfBirth_at DateOfDeath_at  FirstName Gender  ID    LastName  \\\n",
       "0     1938-03-02            NaT     Pierre      m   1       Aguet   \n",
       "1     1928-02-22            NaT      Heinz      m   2  Allenspach   \n",
       "2     1931-01-27            NaT    Manfred      m   6     Aregger   \n",
       "3     1928-03-04            NaT  Geneviève      f   7       Aubry   \n",
       "4     1947-12-01            NaT   Rosmarie      f   8         Bär   \n",
       "\n",
       "   MaritalStatus MaritalStatusText  MilitaryRank        MilitaryRankText  \\\n",
       "0            2.0          marié(e)           5.0                Fourrier   \n",
       "1            NaN              None           NaN                    None   \n",
       "2            2.0          marié(e)           7.0  Adjudant sous-officier   \n",
       "3            NaN              None           NaN                    None   \n",
       "4            NaN              None           NaN                    None   \n",
       "\n",
       "  NativeLanguage  NumberOfChildren  PersonIdCode PlaceOfBirthCanton  \\\n",
       "0              F               NaN        2200.0               Vaud   \n",
       "1              D               NaN        2002.0               None   \n",
       "2              D               5.0        2004.0            Lucerne   \n",
       "3              F               NaN        2005.0               None   \n",
       "4              D               NaN        2008.0               None   \n",
       "\n",
       "  PlaceOfBirthCity  Profession     ProfessionText  \n",
       "0        Pompaples         NaN               None  \n",
       "1             None         NaN               None  \n",
       "2            Hasle         9.0  dipl. Bauing. HTL  \n",
       "3             None         NaN               None  \n",
       "4             None         NaN               None  "
      ]
     },
     "execution_count": 14,
     "metadata": {},
     "output_type": "execute_result"
    }
   ],
   "source": [
    "df_persons = pd.read_json(json.dumps(json_persons_clean, indent=2), convert_dates=True)\n",
    "df_persons.head()"
   ]
  },
  {
   "cell_type": "code",
   "execution_count": 15,
   "metadata": {
    "collapsed": false
   },
   "outputs": [
    {
     "name": "stdout",
     "output_type": "stream",
     "text": [
      "False\n",
      "False\n",
      "False\n"
     ]
    }
   ],
   "source": [
    "# Print some tests to make sure we did everything correctly\n",
    "print(':' in df_persons)\n",
    "print('@' in df_persons)\n",
    "print('#' in df_persons)"
   ]
  },
  {
   "cell_type": "code",
   "execution_count": 16,
   "metadata": {
    "collapsed": false
   },
   "outputs": [
    {
     "data": {
      "text/html": [
       "<div>\n",
       "<table border=\"1\" class=\"dataframe\">\n",
       "  <thead>\n",
       "    <tr style=\"text-align: right;\">\n",
       "      <th></th>\n",
       "      <th>DateOfBirth_at</th>\n",
       "      <th>DateOfDeath_at</th>\n",
       "      <th>FirstName</th>\n",
       "      <th>Gender</th>\n",
       "      <th>ID</th>\n",
       "      <th>LastName</th>\n",
       "      <th>MaritalStatus</th>\n",
       "      <th>MaritalStatusText</th>\n",
       "      <th>MilitaryRank</th>\n",
       "      <th>MilitaryRankText</th>\n",
       "      <th>NativeLanguage</th>\n",
       "      <th>NumberOfChildren</th>\n",
       "      <th>PersonIdCode</th>\n",
       "      <th>PlaceOfBirthCanton</th>\n",
       "      <th>PlaceOfBirthCity</th>\n",
       "      <th>Profession</th>\n",
       "      <th>ProfessionText</th>\n",
       "    </tr>\n",
       "  </thead>\n",
       "  <tbody>\n",
       "    <tr>\n",
       "      <th>444</th>\n",
       "      <td>1952-02-18</td>\n",
       "      <td>NaT</td>\n",
       "      <td>Johann N.</td>\n",
       "      <td>m</td>\n",
       "      <td>508</td>\n",
       "      <td>Schneider-Ammann</td>\n",
       "      <td>2.0</td>\n",
       "      <td>marié(e)</td>\n",
       "      <td>14.0</td>\n",
       "      <td>Colonel</td>\n",
       "      <td>D</td>\n",
       "      <td>2.0</td>\n",
       "      <td>2530.0</td>\n",
       "      <td>Berne</td>\n",
       "      <td>Sumiswald</td>\n",
       "      <td>148.0</td>\n",
       "      <td>dipl. El. Ing. ETH / MBA INSEAD</td>\n",
       "    </tr>\n",
       "  </tbody>\n",
       "</table>\n",
       "</div>"
      ],
      "text/plain": [
       "    DateOfBirth_at DateOfDeath_at  FirstName Gender   ID          LastName  \\\n",
       "444     1952-02-18            NaT  Johann N.      m  508  Schneider-Ammann   \n",
       "\n",
       "     MaritalStatus MaritalStatusText  MilitaryRank MilitaryRankText  \\\n",
       "444            2.0          marié(e)          14.0          Colonel   \n",
       "\n",
       "    NativeLanguage  NumberOfChildren  PersonIdCode PlaceOfBirthCanton  \\\n",
       "444              D               2.0        2530.0              Berne   \n",
       "\n",
       "    PlaceOfBirthCity  Profession                   ProfessionText  \n",
       "444        Sumiswald       148.0  dipl. El. Ing. ETH / MBA INSEAD  "
      ]
     },
     "execution_count": 16,
     "metadata": {},
     "output_type": "execute_result"
    }
   ],
   "source": [
    "df_persons[df_persons['LastName'] == 'Schneider-Ammann'] "
   ]
  }
 ],
 "metadata": {
  "anaconda-cloud": {},
  "kernelspec": {
   "display_name": "Python [conda root]",
   "language": "python",
   "name": "conda-root-py"
  },
  "language_info": {
   "codemirror_mode": {
    "name": "ipython",
    "version": 3
   },
   "file_extension": ".py",
   "mimetype": "text/x-python",
   "name": "python",
   "nbconvert_exporter": "python",
   "pygments_lexer": "ipython3",
   "version": "3.5.2"
  }
 },
 "nbformat": 4,
 "nbformat_minor": 1
}

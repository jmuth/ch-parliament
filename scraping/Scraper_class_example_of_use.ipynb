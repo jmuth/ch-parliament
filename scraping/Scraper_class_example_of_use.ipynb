{
 "cells": [
  {
   "cell_type": "markdown",
   "metadata": {},
   "source": [
    "# Scraping of http://www.parlament.ch\n",
    "\n",
    "First, we need to scrap some information from the website http://parlament.ch. In this notebook, we will scrap different information. These information will be stored in the folder *data*. If you just cloned the repo and you need some data, please run this python notebook to scrap all the data. \n",
    "\n",
    "For the scraping, we are using the library `requests`. The metadata of the website are provided and working with XOData. So, we get the urls using XOData, then we get the XML using `requests` and we transform the XML into JSON using the library `xmltodict`.\n",
    "\n",
    "URL of the metadata: https://ws.parlament.ch/odata.svc/$metadata"
   ]
  },
  {
   "cell_type": "code",
   "execution_count": 1,
   "metadata": {
    "collapsed": false
   },
   "outputs": [],
   "source": [
    "# Import some useful libraries\n",
    "%matplotlib inline\n",
    "import pandas as pd\n",
    "import urllib\n",
    "import xml.etree.ElementTree as ET\n",
    "from scraper import *\n",
    "import numpy as np\n",
    "%load_ext autoreload\n",
    "%autoreload 2\n",
    "\n",
    "# display all pandas columns\n",
    "pd.set_option('display.max_columns', 100)"
   ]
  },
  {
   "cell_type": "markdown",
   "metadata": {},
   "source": [
    "# Examples of how to use Scraper class"
   ]
  },
  {
   "cell_type": "markdown",
   "metadata": {},
   "source": [
    "## Scrap\n",
    "\n",
    "\n",
    "Tables: Party, Person, Council"
   ]
  },
  {
   "cell_type": "code",
   "execution_count": 2,
   "metadata": {
    "collapsed": false,
    "scrolled": true
   },
   "outputs": [
    {
     "name": "stdout",
     "output_type": "stream",
     "text": [
      "GET: https://ws.parlament.ch/odata.svc/Party?$filter=Language%20eq%20'FR'\n",
      "[OK] table Party correctly scraped, df.shape =  79 as expected\n",
      "GET: https://ws.parlament.ch/odata.svc/Person?$top=1000&$filter=Language%20eq%20'FR'&$skip=0\n",
      "GET: https://ws.parlament.ch/odata.svc/Person?$top=1000&$filter=Language%20eq%20'FR'&$skip=1000\n",
      "GET: https://ws.parlament.ch/odata.svc/Person?$top=1000&$filter=Language%20eq%20'FR'&$skip=2000\n",
      "GET: https://ws.parlament.ch/odata.svc/Person?$top=1000&$filter=Language%20eq%20'FR'&$skip=3000\n",
      "GET: https://ws.parlament.ch/odata.svc/Person?$top=1000&$filter=Language%20eq%20'FR'&$skip=4000\n",
      "[OK] table Person correctly scraped, df.shape =  3525 as expected\n",
      "GET: https://ws.parlament.ch/odata.svc/MemberCouncil?$top=1000&$filter=Language%20eq%20'FR'&$skip=0\n",
      "GET: https://ws.parlament.ch/odata.svc/MemberCouncil?$top=1000&$filter=Language%20eq%20'FR'&$skip=1000\n",
      "GET: https://ws.parlament.ch/odata.svc/MemberCouncil?$top=1000&$filter=Language%20eq%20'FR'&$skip=2000\n",
      "GET: https://ws.parlament.ch/odata.svc/MemberCouncil?$top=1000&$filter=Language%20eq%20'FR'&$skip=3000\n",
      "GET: https://ws.parlament.ch/odata.svc/MemberCouncil?$top=1000&$filter=Language%20eq%20'FR'&$skip=4000\n",
      "[OK] table MemberCouncil correctly scraped, df.shape =  3514 as expected\n"
     ]
    }
   ],
   "source": [
    "scrap = Scraper()\n",
    "df_party = scrap.get('Party') # get the table and write it into csv file\n",
    "df_person = scrap.get('Person')\n",
    "df_member_council = scrap.get('MemberCouncil')\n"
   ]
  },
  {
   "cell_type": "code",
   "execution_count": null,
   "metadata": {
    "collapsed": false
   },
   "outputs": [],
   "source": [
    "df_party[df_party.index == 0]"
   ]
  },
  {
   "cell_type": "code",
   "execution_count": null,
   "metadata": {
    "collapsed": false
   },
   "outputs": [],
   "source": [
    "df_party.shape"
   ]
  },
  {
   "cell_type": "markdown",
   "metadata": {},
   "source": [
    "Count how many occurencies exist in a table\n",
    "(Will be used after to control that we got "
   ]
  },
  {
   "cell_type": "code",
   "execution_count": null,
   "metadata": {
    "collapsed": false,
    "scrolled": true
   },
   "outputs": [],
   "source": [
    "n_parties = scrap.count('Party')\n",
    "n_parties"
   ]
  },
  {
   "cell_type": "code",
   "execution_count": 3,
   "metadata": {
    "collapsed": false,
    "scrolled": false
   },
   "outputs": [
    {
     "name": "stdout",
     "output_type": "stream",
     "text": [
      "GET: https://ws.parlament.ch/odata.svc/Transcript?$filter=Language%20eq%20'FR'%20and%20ID%20ge%200%20and%20ID%20lt%201000\n",
      "GET: https://ws.parlament.ch/odata.svc/Transcript?$filter=Language%20eq%20'FR'%20and%20ID%20ge%201000%20and%20ID%20lt%202000\n",
      "GET: https://ws.parlament.ch/odata.svc/Transcript?$filter=Language%20eq%20'FR'%20and%20ID%20ge%202000%20and%20ID%20lt%203000\n",
      "GET: https://ws.parlament.ch/odata.svc/Transcript?$filter=Language%20eq%20'FR'%20and%20ID%20ge%203000%20and%20ID%20lt%204000\n",
      "GET: https://ws.parlament.ch/odata.svc/Transcript?$filter=Language%20eq%20'FR'%20and%20ID%20ge%204000%20and%20ID%20lt%205000\n",
      "GET: https://ws.parlament.ch/odata.svc/Transcript?$filter=Language%20eq%20'FR'%20and%20ID%20ge%205000%20and%20ID%20lt%206000\n",
      "GET: https://ws.parlament.ch/odata.svc/Transcript?$filter=Language%20eq%20'FR'%20and%20ID%20ge%206000%20and%20ID%20lt%207000\n",
      "GET: https://ws.parlament.ch/odata.svc/Transcript?$filter=Language%20eq%20'FR'%20and%20ID%20ge%207000%20and%20ID%20lt%208000\n",
      "GET: https://ws.parlament.ch/odata.svc/Transcript?$filter=Language%20eq%20'FR'%20and%20ID%20ge%208000%20and%20ID%20lt%209000\n",
      "GET: https://ws.parlament.ch/odata.svc/Transcript?$filter=Language%20eq%20'FR'%20and%20ID%20ge%209000%20and%20ID%20lt%2010000\n",
      "GET: https://ws.parlament.ch/odata.svc/Transcript?$filter=Language%20eq%20'FR'%20and%20ID%20ge%2010000%20and%20ID%20lt%2011000\n",
      "GET: https://ws.parlament.ch/odata.svc/Transcript?$filter=Language%20eq%20'FR'%20and%20ID%20ge%2011000%20and%20ID%20lt%2012000\n",
      "GET: https://ws.parlament.ch/odata.svc/Transcript?$filter=Language%20eq%20'FR'%20and%20ID%20ge%2012000%20and%20ID%20lt%2013000\n",
      "GET: https://ws.parlament.ch/odata.svc/Transcript?$filter=Language%20eq%20'FR'%20and%20ID%20ge%2013000%20and%20ID%20lt%2014000\n",
      "GET: https://ws.parlament.ch/odata.svc/Transcript?$filter=Language%20eq%20'FR'%20and%20ID%20ge%2014000%20and%20ID%20lt%2015000\n",
      "GET: https://ws.parlament.ch/odata.svc/Transcript?$filter=Language%20eq%20'FR'%20and%20ID%20ge%2015000%20and%20ID%20lt%2016000\n",
      "GET: https://ws.parlament.ch/odata.svc/Transcript?$filter=Language%20eq%20'FR'%20and%20ID%20ge%2016000%20and%20ID%20lt%2017000\n",
      "GET: https://ws.parlament.ch/odata.svc/Transcript?$filter=Language%20eq%20'FR'%20and%20ID%20ge%2017000%20and%20ID%20lt%2018000\n",
      "GET: https://ws.parlament.ch/odata.svc/Transcript?$filter=Language%20eq%20'FR'%20and%20ID%20ge%2018000%20and%20ID%20lt%2019000\n",
      "GET: https://ws.parlament.ch/odata.svc/Transcript?$filter=Language%20eq%20'FR'%20and%20ID%20ge%2019000%20and%20ID%20lt%2020000\n",
      "GET: https://ws.parlament.ch/odata.svc/Transcript?$filter=Language%20eq%20'FR'%20and%20ID%20ge%2020000%20and%20ID%20lt%2021000\n",
      "GET: https://ws.parlament.ch/odata.svc/Transcript?$filter=Language%20eq%20'FR'%20and%20ID%20ge%2021000%20and%20ID%20lt%2022000\n",
      "GET: https://ws.parlament.ch/odata.svc/Transcript?$filter=Language%20eq%20'FR'%20and%20ID%20ge%2022000%20and%20ID%20lt%2023000\n",
      "GET: https://ws.parlament.ch/odata.svc/Transcript?$filter=Language%20eq%20'FR'%20and%20ID%20ge%2023000%20and%20ID%20lt%2024000\n",
      "GET: https://ws.parlament.ch/odata.svc/Transcript?$filter=Language%20eq%20'FR'%20and%20ID%20ge%2024000%20and%20ID%20lt%2025000\n",
      "GET: https://ws.parlament.ch/odata.svc/Transcript?$filter=Language%20eq%20'FR'%20and%20ID%20ge%2025000%20and%20ID%20lt%2026000\n",
      "GET: https://ws.parlament.ch/odata.svc/Transcript?$filter=Language%20eq%20'FR'%20and%20ID%20ge%2026000%20and%20ID%20lt%2027000\n",
      "GET: https://ws.parlament.ch/odata.svc/Transcript?$filter=Language%20eq%20'FR'%20and%20ID%20ge%2027000%20and%20ID%20lt%2028000\n",
      "GET: https://ws.parlament.ch/odata.svc/Transcript?$filter=Language%20eq%20'FR'%20and%20ID%20ge%2028000%20and%20ID%20lt%2029000\n",
      "GET: https://ws.parlament.ch/odata.svc/Transcript?$filter=Language%20eq%20'FR'%20and%20ID%20ge%2029000%20and%20ID%20lt%2030000\n",
      "GET: https://ws.parlament.ch/odata.svc/Transcript?$filter=Language%20eq%20'FR'%20and%20ID%20ge%2030000%20and%20ID%20lt%2031000\n",
      "GET: https://ws.parlament.ch/odata.svc/Transcript?$filter=Language%20eq%20'FR'%20and%20ID%20ge%2031000%20and%20ID%20lt%2032000\n",
      "GET: https://ws.parlament.ch/odata.svc/Transcript?$filter=Language%20eq%20'FR'%20and%20ID%20ge%2032000%20and%20ID%20lt%2033000\n",
      "GET: https://ws.parlament.ch/odata.svc/Transcript?$filter=Language%20eq%20'FR'%20and%20ID%20ge%2033000%20and%20ID%20lt%2034000\n",
      "GET: https://ws.parlament.ch/odata.svc/Transcript?$filter=Language%20eq%20'FR'%20and%20ID%20ge%2034000%20and%20ID%20lt%2035000\n",
      "GET: https://ws.parlament.ch/odata.svc/Transcript?$filter=Language%20eq%20'FR'%20and%20ID%20ge%2035000%20and%20ID%20lt%2036000\n",
      "GET: https://ws.parlament.ch/odata.svc/Transcript?$filter=Language%20eq%20'FR'%20and%20ID%20ge%2036000%20and%20ID%20lt%2037000\n",
      "GET: https://ws.parlament.ch/odata.svc/Transcript?$filter=Language%20eq%20'FR'%20and%20ID%20ge%2037000%20and%20ID%20lt%2038000\n",
      "GET: https://ws.parlament.ch/odata.svc/Transcript?$filter=Language%20eq%20'FR'%20and%20ID%20ge%2038000%20and%20ID%20lt%2039000\n",
      "GET: https://ws.parlament.ch/odata.svc/Transcript?$filter=Language%20eq%20'FR'%20and%20ID%20ge%2039000%20and%20ID%20lt%2040000\n",
      "GET: https://ws.parlament.ch/odata.svc/Transcript?$filter=Language%20eq%20'FR'%20and%20ID%20ge%2040000%20and%20ID%20lt%2041000\n",
      "GET: https://ws.parlament.ch/odata.svc/Transcript?$filter=Language%20eq%20'FR'%20and%20ID%20ge%2041000%20and%20ID%20lt%2042000\n",
      "GET: https://ws.parlament.ch/odata.svc/Transcript?$filter=Language%20eq%20'FR'%20and%20ID%20ge%2042000%20and%20ID%20lt%2043000\n",
      "GET: https://ws.parlament.ch/odata.svc/Transcript?$filter=Language%20eq%20'FR'%20and%20ID%20ge%2043000%20and%20ID%20lt%2044000\n",
      "GET: https://ws.parlament.ch/odata.svc/Transcript?$filter=Language%20eq%20'FR'%20and%20ID%20ge%2044000%20and%20ID%20lt%2045000\n",
      "GET: https://ws.parlament.ch/odata.svc/Transcript?$filter=Language%20eq%20'FR'%20and%20ID%20ge%2045000%20and%20ID%20lt%2046000\n",
      "GET: https://ws.parlament.ch/odata.svc/Transcript?$filter=Language%20eq%20'FR'%20and%20ID%20ge%2046000%20and%20ID%20lt%2047000\n",
      "GET: https://ws.parlament.ch/odata.svc/Transcript?$filter=Language%20eq%20'FR'%20and%20ID%20ge%2047000%20and%20ID%20lt%2048000\n",
      "GET: https://ws.parlament.ch/odata.svc/Transcript?$filter=Language%20eq%20'FR'%20and%20ID%20ge%2048000%20and%20ID%20lt%2049000\n",
      "GET: https://ws.parlament.ch/odata.svc/Transcript?$filter=Language%20eq%20'FR'%20and%20ID%20ge%2049000%20and%20ID%20lt%2050000\n",
      "GET: https://ws.parlament.ch/odata.svc/Transcript?$filter=Language%20eq%20'FR'%20and%20ID%20ge%2050000%20and%20ID%20lt%2051000\n",
      "GET: https://ws.parlament.ch/odata.svc/Transcript?$filter=Language%20eq%20'FR'%20and%20ID%20ge%2051000%20and%20ID%20lt%2052000\n",
      "GET: https://ws.parlament.ch/odata.svc/Transcript?$filter=Language%20eq%20'FR'%20and%20ID%20ge%2052000%20and%20ID%20lt%2053000\n",
      "GET: https://ws.parlament.ch/odata.svc/Transcript?$filter=Language%20eq%20'FR'%20and%20ID%20ge%2053000%20and%20ID%20lt%2054000\n",
      "GET: https://ws.parlament.ch/odata.svc/Transcript?$filter=Language%20eq%20'FR'%20and%20ID%20ge%2054000%20and%20ID%20lt%2055000\n",
      "GET: https://ws.parlament.ch/odata.svc/Transcript?$filter=Language%20eq%20'FR'%20and%20ID%20ge%2055000%20and%20ID%20lt%2056000\n",
      "GET: https://ws.parlament.ch/odata.svc/Transcript?$filter=Language%20eq%20'FR'%20and%20ID%20ge%2056000%20and%20ID%20lt%2057000\n",
      "GET: https://ws.parlament.ch/odata.svc/Transcript?$filter=Language%20eq%20'FR'%20and%20ID%20ge%2057000%20and%20ID%20lt%2058000\n",
      "GET: https://ws.parlament.ch/odata.svc/Transcript?$filter=Language%20eq%20'FR'%20and%20ID%20ge%2058000%20and%20ID%20lt%2059000\n",
      "GET: https://ws.parlament.ch/odata.svc/Transcript?$filter=Language%20eq%20'FR'%20and%20ID%20ge%2059000%20and%20ID%20lt%2060000\n",
      "GET: https://ws.parlament.ch/odata.svc/Transcript?$filter=Language%20eq%20'FR'%20and%20ID%20ge%2060000%20and%20ID%20lt%2061000\n",
      "GET: https://ws.parlament.ch/odata.svc/Transcript?$filter=Language%20eq%20'FR'%20and%20ID%20ge%2061000%20and%20ID%20lt%2062000\n",
      "GET: https://ws.parlament.ch/odata.svc/Transcript?$filter=Language%20eq%20'FR'%20and%20ID%20ge%2062000%20and%20ID%20lt%2063000\n",
      "GET: https://ws.parlament.ch/odata.svc/Transcript?$filter=Language%20eq%20'FR'%20and%20ID%20ge%2063000%20and%20ID%20lt%2064000\n",
      "GET: https://ws.parlament.ch/odata.svc/Transcript?$filter=Language%20eq%20'FR'%20and%20ID%20ge%2064000%20and%20ID%20lt%2065000\n",
      "GET: https://ws.parlament.ch/odata.svc/Transcript?$filter=Language%20eq%20'FR'%20and%20ID%20ge%2065000%20and%20ID%20lt%2066000\n",
      "GET: https://ws.parlament.ch/odata.svc/Transcript?$filter=Language%20eq%20'FR'%20and%20ID%20ge%2066000%20and%20ID%20lt%2067000\n",
      "GET: https://ws.parlament.ch/odata.svc/Transcript?$filter=Language%20eq%20'FR'%20and%20ID%20ge%2067000%20and%20ID%20lt%2068000\n",
      "GET: https://ws.parlament.ch/odata.svc/Transcript?$filter=Language%20eq%20'FR'%20and%20ID%20ge%2068000%20and%20ID%20lt%2069000\n",
      "GET: https://ws.parlament.ch/odata.svc/Transcript?$filter=Language%20eq%20'FR'%20and%20ID%20ge%2069000%20and%20ID%20lt%2070000\n",
      "GET: https://ws.parlament.ch/odata.svc/Transcript?$filter=Language%20eq%20'FR'%20and%20ID%20ge%2070000%20and%20ID%20lt%2071000\n",
      "GET: https://ws.parlament.ch/odata.svc/Transcript?$filter=Language%20eq%20'FR'%20and%20ID%20ge%2071000%20and%20ID%20lt%2072000\n",
      "GET: https://ws.parlament.ch/odata.svc/Transcript?$filter=Language%20eq%20'FR'%20and%20ID%20ge%2072000%20and%20ID%20lt%2073000\n",
      "GET: https://ws.parlament.ch/odata.svc/Transcript?$filter=Language%20eq%20'FR'%20and%20ID%20ge%2073000%20and%20ID%20lt%2074000\n",
      "GET: https://ws.parlament.ch/odata.svc/Transcript?$filter=Language%20eq%20'FR'%20and%20ID%20ge%2074000%20and%20ID%20lt%2075000\n",
      "GET: https://ws.parlament.ch/odata.svc/Transcript?$filter=Language%20eq%20'FR'%20and%20ID%20ge%2075000%20and%20ID%20lt%2076000\n",
      "GET: https://ws.parlament.ch/odata.svc/Transcript?$filter=Language%20eq%20'FR'%20and%20ID%20ge%2076000%20and%20ID%20lt%2077000\n",
      "GET: https://ws.parlament.ch/odata.svc/Transcript?$filter=Language%20eq%20'FR'%20and%20ID%20ge%2077000%20and%20ID%20lt%2078000\n",
      "GET: https://ws.parlament.ch/odata.svc/Transcript?$filter=Language%20eq%20'FR'%20and%20ID%20ge%2078000%20and%20ID%20lt%2079000\n",
      "GET: https://ws.parlament.ch/odata.svc/Transcript?$filter=Language%20eq%20'FR'%20and%20ID%20ge%2079000%20and%20ID%20lt%2080000\n",
      "GET: https://ws.parlament.ch/odata.svc/Transcript?$filter=Language%20eq%20'FR'%20and%20ID%20ge%2080000%20and%20ID%20lt%2081000\n",
      "GET: https://ws.parlament.ch/odata.svc/Transcript?$filter=Language%20eq%20'FR'%20and%20ID%20ge%2081000%20and%20ID%20lt%2082000\n",
      "GET: https://ws.parlament.ch/odata.svc/Transcript?$filter=Language%20eq%20'FR'%20and%20ID%20ge%2082000%20and%20ID%20lt%2083000\n",
      "GET: https://ws.parlament.ch/odata.svc/Transcript?$filter=Language%20eq%20'FR'%20and%20ID%20ge%2083000%20and%20ID%20lt%2084000\n",
      "GET: https://ws.parlament.ch/odata.svc/Transcript?$filter=Language%20eq%20'FR'%20and%20ID%20ge%2084000%20and%20ID%20lt%2085000\n",
      "GET: https://ws.parlament.ch/odata.svc/Transcript?$filter=Language%20eq%20'FR'%20and%20ID%20ge%2085000%20and%20ID%20lt%2086000\n",
      "GET: https://ws.parlament.ch/odata.svc/Transcript?$filter=Language%20eq%20'FR'%20and%20ID%20ge%2086000%20and%20ID%20lt%2087000\n",
      "GET: https://ws.parlament.ch/odata.svc/Transcript?$filter=Language%20eq%20'FR'%20and%20ID%20ge%2087000%20and%20ID%20lt%2088000\n",
      "GET: https://ws.parlament.ch/odata.svc/Transcript?$filter=Language%20eq%20'FR'%20and%20ID%20ge%2088000%20and%20ID%20lt%2089000\n",
      "GET: https://ws.parlament.ch/odata.svc/Transcript?$filter=Language%20eq%20'FR'%20and%20ID%20ge%2089000%20and%20ID%20lt%2090000\n",
      "GET: https://ws.parlament.ch/odata.svc/Transcript?$filter=Language%20eq%20'FR'%20and%20ID%20ge%2090000%20and%20ID%20lt%2091000\n",
      "GET: https://ws.parlament.ch/odata.svc/Transcript?$filter=Language%20eq%20'FR'%20and%20ID%20ge%2091000%20and%20ID%20lt%2092000\n",
      "GET: https://ws.parlament.ch/odata.svc/Transcript?$filter=Language%20eq%20'FR'%20and%20ID%20ge%2092000%20and%20ID%20lt%2093000\n",
      "GET: https://ws.parlament.ch/odata.svc/Transcript?$filter=Language%20eq%20'FR'%20and%20ID%20ge%2093000%20and%20ID%20lt%2094000\n",
      "GET: https://ws.parlament.ch/odata.svc/Transcript?$filter=Language%20eq%20'FR'%20and%20ID%20ge%2094000%20and%20ID%20lt%2095000\n",
      "GET: https://ws.parlament.ch/odata.svc/Transcript?$filter=Language%20eq%20'FR'%20and%20ID%20ge%2095000%20and%20ID%20lt%2096000\n",
      "GET: https://ws.parlament.ch/odata.svc/Transcript?$filter=Language%20eq%20'FR'%20and%20ID%20ge%2096000%20and%20ID%20lt%2097000\n",
      "GET: https://ws.parlament.ch/odata.svc/Transcript?$filter=Language%20eq%20'FR'%20and%20ID%20ge%2097000%20and%20ID%20lt%2098000\n",
      "GET: https://ws.parlament.ch/odata.svc/Transcript?$filter=Language%20eq%20'FR'%20and%20ID%20ge%2098000%20and%20ID%20lt%2099000\n",
      "GET: https://ws.parlament.ch/odata.svc/Transcript?$filter=Language%20eq%20'FR'%20and%20ID%20ge%2099000%20and%20ID%20lt%20100000\n",
      "GET: https://ws.parlament.ch/odata.svc/Transcript?$filter=Language%20eq%20'FR'%20and%20ID%20ge%20100000%20and%20ID%20lt%20101000\n",
      "GET: https://ws.parlament.ch/odata.svc/Transcript?$filter=Language%20eq%20'FR'%20and%20ID%20ge%20101000%20and%20ID%20lt%20102000\n",
      "GET: https://ws.parlament.ch/odata.svc/Transcript?$filter=Language%20eq%20'FR'%20and%20ID%20ge%20102000%20and%20ID%20lt%20103000\n",
      "GET: https://ws.parlament.ch/odata.svc/Transcript?$filter=Language%20eq%20'FR'%20and%20ID%20ge%20103000%20and%20ID%20lt%20104000\n",
      "GET: https://ws.parlament.ch/odata.svc/Transcript?$filter=Language%20eq%20'FR'%20and%20ID%20ge%20104000%20and%20ID%20lt%20105000\n",
      "GET: https://ws.parlament.ch/odata.svc/Transcript?$filter=Language%20eq%20'FR'%20and%20ID%20ge%20105000%20and%20ID%20lt%20106000\n",
      "GET: https://ws.parlament.ch/odata.svc/Transcript?$filter=Language%20eq%20'FR'%20and%20ID%20ge%20106000%20and%20ID%20lt%20107000\n",
      "GET: https://ws.parlament.ch/odata.svc/Transcript?$filter=Language%20eq%20'FR'%20and%20ID%20ge%20107000%20and%20ID%20lt%20108000\n",
      "GET: https://ws.parlament.ch/odata.svc/Transcript?$filter=Language%20eq%20'FR'%20and%20ID%20ge%20108000%20and%20ID%20lt%20109000\n",
      "GET: https://ws.parlament.ch/odata.svc/Transcript?$filter=Language%20eq%20'FR'%20and%20ID%20ge%20109000%20and%20ID%20lt%20110000\n",
      "GET: https://ws.parlament.ch/odata.svc/Transcript?$filter=Language%20eq%20'FR'%20and%20ID%20ge%20110000%20and%20ID%20lt%20111000\n",
      "GET: https://ws.parlament.ch/odata.svc/Transcript?$filter=Language%20eq%20'FR'%20and%20ID%20ge%20111000%20and%20ID%20lt%20112000\n",
      "GET: https://ws.parlament.ch/odata.svc/Transcript?$filter=Language%20eq%20'FR'%20and%20ID%20ge%20112000%20and%20ID%20lt%20113000\n",
      "GET: https://ws.parlament.ch/odata.svc/Transcript?$filter=Language%20eq%20'FR'%20and%20ID%20ge%20113000%20and%20ID%20lt%20114000\n",
      "GET: https://ws.parlament.ch/odata.svc/Transcript?$filter=Language%20eq%20'FR'%20and%20ID%20ge%20114000%20and%20ID%20lt%20115000\n",
      "GET: https://ws.parlament.ch/odata.svc/Transcript?$filter=Language%20eq%20'FR'%20and%20ID%20ge%20115000%20and%20ID%20lt%20116000\n",
      "GET: https://ws.parlament.ch/odata.svc/Transcript?$filter=Language%20eq%20'FR'%20and%20ID%20ge%20116000%20and%20ID%20lt%20117000\n",
      "GET: https://ws.parlament.ch/odata.svc/Transcript?$filter=Language%20eq%20'FR'%20and%20ID%20ge%20117000%20and%20ID%20lt%20118000\n",
      "GET: https://ws.parlament.ch/odata.svc/Transcript?$filter=Language%20eq%20'FR'%20and%20ID%20ge%20118000%20and%20ID%20lt%20119000\n",
      "GET: https://ws.parlament.ch/odata.svc/Transcript?$filter=Language%20eq%20'FR'%20and%20ID%20ge%20119000%20and%20ID%20lt%20120000\n",
      "GET: https://ws.parlament.ch/odata.svc/Transcript?$filter=Language%20eq%20'FR'%20and%20ID%20ge%20120000%20and%20ID%20lt%20121000\n",
      "GET: https://ws.parlament.ch/odata.svc/Transcript?$filter=Language%20eq%20'FR'%20and%20ID%20ge%20121000%20and%20ID%20lt%20122000\n",
      "GET: https://ws.parlament.ch/odata.svc/Transcript?$filter=Language%20eq%20'FR'%20and%20ID%20ge%20122000%20and%20ID%20lt%20123000\n",
      "GET: https://ws.parlament.ch/odata.svc/Transcript?$filter=Language%20eq%20'FR'%20and%20ID%20ge%20123000%20and%20ID%20lt%20124000\n",
      "GET: https://ws.parlament.ch/odata.svc/Transcript?$filter=Language%20eq%20'FR'%20and%20ID%20ge%20124000%20and%20ID%20lt%20125000\n",
      "GET: https://ws.parlament.ch/odata.svc/Transcript?$filter=Language%20eq%20'FR'%20and%20ID%20ge%20125000%20and%20ID%20lt%20126000\n",
      "GET: https://ws.parlament.ch/odata.svc/Transcript?$filter=Language%20eq%20'FR'%20and%20ID%20ge%20126000%20and%20ID%20lt%20127000\n",
      "GET: https://ws.parlament.ch/odata.svc/Transcript?$filter=Language%20eq%20'FR'%20and%20ID%20ge%20127000%20and%20ID%20lt%20128000\n",
      "GET: https://ws.parlament.ch/odata.svc/Transcript?$filter=Language%20eq%20'FR'%20and%20ID%20ge%20128000%20and%20ID%20lt%20129000\n",
      "GET: https://ws.parlament.ch/odata.svc/Transcript?$filter=Language%20eq%20'FR'%20and%20ID%20ge%20129000%20and%20ID%20lt%20130000\n",
      "GET: https://ws.parlament.ch/odata.svc/Transcript?$filter=Language%20eq%20'FR'%20and%20ID%20ge%20130000%20and%20ID%20lt%20131000\n",
      "GET: https://ws.parlament.ch/odata.svc/Transcript?$filter=Language%20eq%20'FR'%20and%20ID%20ge%20131000%20and%20ID%20lt%20132000\n",
      "GET: https://ws.parlament.ch/odata.svc/Transcript?$filter=Language%20eq%20'FR'%20and%20ID%20ge%20132000%20and%20ID%20lt%20133000\n",
      "GET: https://ws.parlament.ch/odata.svc/Transcript?$filter=Language%20eq%20'FR'%20and%20ID%20ge%20133000%20and%20ID%20lt%20134000\n",
      "GET: https://ws.parlament.ch/odata.svc/Transcript?$filter=Language%20eq%20'FR'%20and%20ID%20ge%20134000%20and%20ID%20lt%20135000\n",
      "GET: https://ws.parlament.ch/odata.svc/Transcript?$filter=Language%20eq%20'FR'%20and%20ID%20ge%20135000%20and%20ID%20lt%20136000\n",
      "GET: https://ws.parlament.ch/odata.svc/Transcript?$filter=Language%20eq%20'FR'%20and%20ID%20ge%20136000%20and%20ID%20lt%20137000\n",
      "GET: https://ws.parlament.ch/odata.svc/Transcript?$filter=Language%20eq%20'FR'%20and%20ID%20ge%20137000%20and%20ID%20lt%20138000\n",
      "GET: https://ws.parlament.ch/odata.svc/Transcript?$filter=Language%20eq%20'FR'%20and%20ID%20ge%20138000%20and%20ID%20lt%20139000\n",
      "GET: https://ws.parlament.ch/odata.svc/Transcript?$filter=Language%20eq%20'FR'%20and%20ID%20ge%20139000%20and%20ID%20lt%20140000\n",
      "GET: https://ws.parlament.ch/odata.svc/Transcript?$filter=Language%20eq%20'FR'%20and%20ID%20ge%20140000%20and%20ID%20lt%20141000\n",
      "GET: https://ws.parlament.ch/odata.svc/Transcript?$filter=Language%20eq%20'FR'%20and%20ID%20ge%20141000%20and%20ID%20lt%20142000\n",
      "GET: https://ws.parlament.ch/odata.svc/Transcript?$filter=Language%20eq%20'FR'%20and%20ID%20ge%20142000%20and%20ID%20lt%20143000\n",
      "GET: https://ws.parlament.ch/odata.svc/Transcript?$filter=Language%20eq%20'FR'%20and%20ID%20ge%20143000%20and%20ID%20lt%20144000\n",
      "GET: https://ws.parlament.ch/odata.svc/Transcript?$filter=Language%20eq%20'FR'%20and%20ID%20ge%20144000%20and%20ID%20lt%20145000\n",
      "GET: https://ws.parlament.ch/odata.svc/Transcript?$filter=Language%20eq%20'FR'%20and%20ID%20ge%20145000%20and%20ID%20lt%20146000\n",
      "GET: https://ws.parlament.ch/odata.svc/Transcript?$filter=Language%20eq%20'FR'%20and%20ID%20ge%20146000%20and%20ID%20lt%20147000\n",
      "GET: https://ws.parlament.ch/odata.svc/Transcript?$filter=Language%20eq%20'FR'%20and%20ID%20ge%20147000%20and%20ID%20lt%20148000\n",
      "GET: https://ws.parlament.ch/odata.svc/Transcript?$filter=Language%20eq%20'FR'%20and%20ID%20ge%20148000%20and%20ID%20lt%20149000\n",
      "GET: https://ws.parlament.ch/odata.svc/Transcript?$filter=Language%20eq%20'FR'%20and%20ID%20ge%20149000%20and%20ID%20lt%20150000\n",
      "GET: https://ws.parlament.ch/odata.svc/Transcript?$filter=Language%20eq%20'FR'%20and%20ID%20ge%20150000%20and%20ID%20lt%20151000\n",
      "GET: https://ws.parlament.ch/odata.svc/Transcript?$filter=Language%20eq%20'FR'%20and%20ID%20ge%20151000%20and%20ID%20lt%20152000\n",
      "GET: https://ws.parlament.ch/odata.svc/Transcript?$filter=Language%20eq%20'FR'%20and%20ID%20ge%20152000%20and%20ID%20lt%20153000\n",
      "GET: https://ws.parlament.ch/odata.svc/Transcript?$filter=Language%20eq%20'FR'%20and%20ID%20ge%20153000%20and%20ID%20lt%20154000\n",
      "GET: https://ws.parlament.ch/odata.svc/Transcript?$filter=Language%20eq%20'FR'%20and%20ID%20ge%20154000%20and%20ID%20lt%20155000\n",
      "GET: https://ws.parlament.ch/odata.svc/Transcript?$filter=Language%20eq%20'FR'%20and%20ID%20ge%20155000%20and%20ID%20lt%20156000\n",
      "GET: https://ws.parlament.ch/odata.svc/Transcript?$filter=Language%20eq%20'FR'%20and%20ID%20ge%20156000%20and%20ID%20lt%20157000\n",
      "GET: https://ws.parlament.ch/odata.svc/Transcript?$filter=Language%20eq%20'FR'%20and%20ID%20ge%20157000%20and%20ID%20lt%20158000\n",
      "GET: https://ws.parlament.ch/odata.svc/Transcript?$filter=Language%20eq%20'FR'%20and%20ID%20ge%20158000%20and%20ID%20lt%20159000\n",
      "GET: https://ws.parlament.ch/odata.svc/Transcript?$filter=Language%20eq%20'FR'%20and%20ID%20ge%20159000%20and%20ID%20lt%20160000\n",
      "GET: https://ws.parlament.ch/odata.svc/Transcript?$filter=Language%20eq%20'FR'%20and%20ID%20ge%20160000%20and%20ID%20lt%20161000\n",
      "GET: https://ws.parlament.ch/odata.svc/Transcript?$filter=Language%20eq%20'FR'%20and%20ID%20ge%20161000%20and%20ID%20lt%20162000\n",
      "GET: https://ws.parlament.ch/odata.svc/Transcript?$filter=Language%20eq%20'FR'%20and%20ID%20ge%20162000%20and%20ID%20lt%20163000\n",
      "GET: https://ws.parlament.ch/odata.svc/Transcript?$filter=Language%20eq%20'FR'%20and%20ID%20ge%20163000%20and%20ID%20lt%20164000\n",
      "GET: https://ws.parlament.ch/odata.svc/Transcript?$filter=Language%20eq%20'FR'%20and%20ID%20ge%20164000%20and%20ID%20lt%20165000\n",
      "GET: https://ws.parlament.ch/odata.svc/Transcript?$filter=Language%20eq%20'FR'%20and%20ID%20ge%20165000%20and%20ID%20lt%20166000\n",
      "GET: https://ws.parlament.ch/odata.svc/Transcript?$filter=Language%20eq%20'FR'%20and%20ID%20ge%20166000%20and%20ID%20lt%20167000\n",
      "GET: https://ws.parlament.ch/odata.svc/Transcript?$filter=Language%20eq%20'FR'%20and%20ID%20ge%20167000%20and%20ID%20lt%20168000\n",
      "GET: https://ws.parlament.ch/odata.svc/Transcript?$filter=Language%20eq%20'FR'%20and%20ID%20ge%20168000%20and%20ID%20lt%20169000\n",
      "GET: https://ws.parlament.ch/odata.svc/Transcript?$filter=Language%20eq%20'FR'%20and%20ID%20ge%20169000%20and%20ID%20lt%20170000\n",
      "GET: https://ws.parlament.ch/odata.svc/Transcript?$filter=Language%20eq%20'FR'%20and%20ID%20ge%20170000%20and%20ID%20lt%20171000\n",
      "GET: https://ws.parlament.ch/odata.svc/Transcript?$filter=Language%20eq%20'FR'%20and%20ID%20ge%20171000%20and%20ID%20lt%20172000\n",
      "GET: https://ws.parlament.ch/odata.svc/Transcript?$filter=Language%20eq%20'FR'%20and%20ID%20ge%20172000%20and%20ID%20lt%20173000\n",
      "GET: https://ws.parlament.ch/odata.svc/Transcript?$filter=Language%20eq%20'FR'%20and%20ID%20ge%20173000%20and%20ID%20lt%20174000\n",
      "GET: https://ws.parlament.ch/odata.svc/Transcript?$filter=Language%20eq%20'FR'%20and%20ID%20ge%20174000%20and%20ID%20lt%20175000\n",
      "GET: https://ws.parlament.ch/odata.svc/Transcript?$filter=Language%20eq%20'FR'%20and%20ID%20ge%20175000%20and%20ID%20lt%20176000\n",
      "GET: https://ws.parlament.ch/odata.svc/Transcript?$filter=Language%20eq%20'FR'%20and%20ID%20ge%20176000%20and%20ID%20lt%20177000\n",
      "GET: https://ws.parlament.ch/odata.svc/Transcript?$filter=Language%20eq%20'FR'%20and%20ID%20ge%20177000%20and%20ID%20lt%20178000\n",
      "GET: https://ws.parlament.ch/odata.svc/Transcript?$filter=Language%20eq%20'FR'%20and%20ID%20ge%20178000%20and%20ID%20lt%20179000\n",
      "GET: https://ws.parlament.ch/odata.svc/Transcript?$filter=Language%20eq%20'FR'%20and%20ID%20ge%20179000%20and%20ID%20lt%20180000\n",
      "GET: https://ws.parlament.ch/odata.svc/Transcript?$filter=Language%20eq%20'FR'%20and%20ID%20ge%20180000%20and%20ID%20lt%20181000\n",
      "GET: https://ws.parlament.ch/odata.svc/Transcript?$filter=Language%20eq%20'FR'%20and%20ID%20ge%20181000%20and%20ID%20lt%20182000\n",
      "GET: https://ws.parlament.ch/odata.svc/Transcript?$filter=Language%20eq%20'FR'%20and%20ID%20ge%20182000%20and%20ID%20lt%20183000\n",
      "GET: https://ws.parlament.ch/odata.svc/Transcript?$filter=Language%20eq%20'FR'%20and%20ID%20ge%20183000%20and%20ID%20lt%20184000\n",
      "GET: https://ws.parlament.ch/odata.svc/Transcript?$filter=Language%20eq%20'FR'%20and%20ID%20ge%20184000%20and%20ID%20lt%20185000\n",
      "GET: https://ws.parlament.ch/odata.svc/Transcript?$filter=Language%20eq%20'FR'%20and%20ID%20ge%20185000%20and%20ID%20lt%20186000\n",
      "GET: https://ws.parlament.ch/odata.svc/Transcript?$filter=Language%20eq%20'FR'%20and%20ID%20ge%20186000%20and%20ID%20lt%20187000\n",
      "GET: https://ws.parlament.ch/odata.svc/Transcript?$filter=Language%20eq%20'FR'%20and%20ID%20ge%20187000%20and%20ID%20lt%20188000\n",
      "GET: https://ws.parlament.ch/odata.svc/Transcript?$filter=Language%20eq%20'FR'%20and%20ID%20ge%20188000%20and%20ID%20lt%20189000\n",
      "GET: https://ws.parlament.ch/odata.svc/Transcript?$filter=Language%20eq%20'FR'%20and%20ID%20ge%20189000%20and%20ID%20lt%20190000\n",
      "GET: https://ws.parlament.ch/odata.svc/Transcript?$filter=Language%20eq%20'FR'%20and%20ID%20ge%20190000%20and%20ID%20lt%20191000\n",
      "GET: https://ws.parlament.ch/odata.svc/Transcript?$filter=Language%20eq%20'FR'%20and%20ID%20ge%20191000%20and%20ID%20lt%20192000\n",
      "GET: https://ws.parlament.ch/odata.svc/Transcript?$filter=Language%20eq%20'FR'%20and%20ID%20ge%20192000%20and%20ID%20lt%20193000\n",
      "GET: https://ws.parlament.ch/odata.svc/Transcript?$filter=Language%20eq%20'FR'%20and%20ID%20ge%20193000%20and%20ID%20lt%20194000\n",
      "GET: https://ws.parlament.ch/odata.svc/Transcript?$filter=Language%20eq%20'FR'%20and%20ID%20ge%20194000%20and%20ID%20lt%20195000\n",
      "GET: https://ws.parlament.ch/odata.svc/Transcript?$filter=Language%20eq%20'FR'%20and%20ID%20ge%20195000%20and%20ID%20lt%20196000\n",
      "GET: https://ws.parlament.ch/odata.svc/Transcript?$filter=Language%20eq%20'FR'%20and%20ID%20ge%20196000%20and%20ID%20lt%20197000\n",
      "GET: https://ws.parlament.ch/odata.svc/Transcript?$filter=Language%20eq%20'FR'%20and%20ID%20ge%20197000%20and%20ID%20lt%20198000\n",
      "GET: https://ws.parlament.ch/odata.svc/Transcript?$filter=Language%20eq%20'FR'%20and%20ID%20ge%20198000%20and%20ID%20lt%20199000\n",
      "GET: https://ws.parlament.ch/odata.svc/Transcript?$filter=Language%20eq%20'FR'%20and%20ID%20ge%20199000%20and%20ID%20lt%20200000\n",
      "GET: https://ws.parlament.ch/odata.svc/Transcript?$filter=Language%20eq%20'FR'%20and%20ID%20ge%20200000%20and%20ID%20lt%20201000\n",
      "GET: https://ws.parlament.ch/odata.svc/Transcript?$filter=Language%20eq%20'FR'%20and%20ID%20ge%20201000%20and%20ID%20lt%20202000\n",
      "GET: https://ws.parlament.ch/odata.svc/Transcript?$filter=Language%20eq%20'FR'%20and%20ID%20ge%20202000%20and%20ID%20lt%20203000\n",
      "GET: https://ws.parlament.ch/odata.svc/Transcript?$filter=Language%20eq%20'FR'%20and%20ID%20ge%20203000%20and%20ID%20lt%20204000\n",
      "GET: https://ws.parlament.ch/odata.svc/Transcript?$filter=Language%20eq%20'FR'%20and%20ID%20ge%20204000%20and%20ID%20lt%20205000\n",
      "GET: https://ws.parlament.ch/odata.svc/Transcript?$filter=Language%20eq%20'FR'%20and%20ID%20ge%20205000%20and%20ID%20lt%20206000\n",
      "GET: https://ws.parlament.ch/odata.svc/Transcript?$filter=Language%20eq%20'FR'%20and%20ID%20ge%20206000%20and%20ID%20lt%20207000\n",
      "GET: https://ws.parlament.ch/odata.svc/Transcript?$filter=Language%20eq%20'FR'%20and%20ID%20ge%20207000%20and%20ID%20lt%20208000\n",
      "[OK] table Transcript correctly scraped, df.shape =  203557 as expected\n"
     ]
    }
   ],
   "source": [
    "# try to scrap transcript... will be hard -_-\n",
    "# stop after 24 iteration, 25'000 transcripts requested, or env. 50 mb (I don't know wich one is the limit)\n",
    "scrap = Scraper(time_out=300)\n",
    "df_transcript = scrap.get('Transcript')"
   ]
  },
  {
   "cell_type": "code",
   "execution_count": null,
   "metadata": {
    "collapsed": false
   },
   "outputs": [],
   "source": [
    "df_transcript = scrap.count('Transcript')\n",
    "df_transcript"
   ]
  },
  {
   "cell_type": "markdown",
   "metadata": {},
   "source": [
    "## Try to merge two tables"
   ]
  },
  {
   "cell_type": "code",
   "execution_count": null,
   "metadata": {
    "collapsed": false
   },
   "outputs": [],
   "source": [
    "df_person.head()"
   ]
  },
  {
   "cell_type": "code",
   "execution_count": null,
   "metadata": {
    "collapsed": false
   },
   "outputs": [],
   "source": [
    "df_member_council.head()"
   ]
  },
  {
   "cell_type": "code",
   "execution_count": null,
   "metadata": {
    "collapsed": true
   },
   "outputs": [],
   "source": []
  }
 ],
 "metadata": {
  "anaconda-cloud": {},
  "kernelspec": {
   "display_name": "Python [conda root]",
   "language": "python",
   "name": "conda-root-py"
  },
  "language_info": {
   "codemirror_mode": {
    "name": "ipython",
    "version": 3
   },
   "file_extension": ".py",
   "mimetype": "text/x-python",
   "name": "python",
   "nbconvert_exporter": "python",
   "pygments_lexer": "ipython3",
   "version": "3.5.2"
  }
 },
 "nbformat": 4,
 "nbformat_minor": 1
}

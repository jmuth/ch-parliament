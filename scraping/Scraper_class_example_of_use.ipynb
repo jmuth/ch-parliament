{
 "cells": [
  {
   "cell_type": "markdown",
   "metadata": {},
   "source": [
    "# Scraping of http://www.parlament.ch\n",
    "\n",
    "First, we need to scrap some information from the website http://parlament.ch. In this notebook, we will scrap different information. These information will be stored in the folder *data*. If you just cloned the repo and you need some data, please run this python notebook to scrap all the data. \n",
    "\n",
    "For the scraping, we are using the library `requests`. The metadata of the website are provided and working with XOData. So, we get the urls using XOData, then we get the XML using `requests` and we transform the XML into JSON using the library `xmltodict`.\n",
    "\n",
    "URL of the metadata: https://ws.parlament.ch/odata.svc/$metadata"
   ]
  },
  {
   "cell_type": "code",
   "execution_count": 2,
   "metadata": {
    "collapsed": false
   },
   "outputs": [],
   "source": [
    "# Import some useful libraries\n",
    "%matplotlib inline\n",
    "import pandas as pd\n",
    "import urllib\n",
    "import xml.etree.ElementTree as ET\n",
    "from scraper import *\n",
    "import numpy as np\n",
    "%load_ext autoreload\n",
    "%autoreload 2\n",
    "\n",
    "# display all pandas columns\n",
    "pd.set_option('display.max_columns', 100)"
   ]
  },
  {
   "cell_type": "markdown",
   "metadata": {},
   "source": [
    "# Examples of how to use Scraper class"
   ]
  },
  {
   "cell_type": "markdown",
   "metadata": {},
   "source": [
    "## Scrap\n",
    "\n",
    "\n",
    "Tables: Party, Person, Council"
   ]
  },
  {
   "cell_type": "code",
   "execution_count": 5,
   "metadata": {
    "collapsed": false,
    "scrolled": true
   },
   "outputs": [
    {
     "name": "stdout",
     "output_type": "stream",
     "text": [
      "GET: https://ws.parlament.ch/odata.svc/Party?$filter=Language%20eq%20'FR'\n",
      "[OK] table Party correctly scraped, df.shape =  79 as expected\n",
      "GET: https://ws.parlament.ch/odata.svc/Person?$top=1000&$filter=Language%20eq%20'FR'&$skip=0\n",
      "GET: https://ws.parlament.ch/odata.svc/Person?$top=1000&$filter=Language%20eq%20'FR'&$skip=1000\n",
      "GET: https://ws.parlament.ch/odata.svc/Person?$top=1000&$filter=Language%20eq%20'FR'&$skip=2000\n",
      "GET: https://ws.parlament.ch/odata.svc/Person?$top=1000&$filter=Language%20eq%20'FR'&$skip=3000\n",
      "GET: https://ws.parlament.ch/odata.svc/Person?$top=1000&$filter=Language%20eq%20'FR'&$skip=4000\n",
      "[OK] table Person correctly scraped, df.shape =  3525 as expected\n",
      "GET: https://ws.parlament.ch/odata.svc/MemberCouncil?$top=1000&$filter=Language%20eq%20'FR'&$skip=0\n",
      "GET: https://ws.parlament.ch/odata.svc/MemberCouncil?$top=1000&$filter=Language%20eq%20'FR'&$skip=1000\n",
      "GET: https://ws.parlament.ch/odata.svc/MemberCouncil?$top=1000&$filter=Language%20eq%20'FR'&$skip=2000\n",
      "GET: https://ws.parlament.ch/odata.svc/MemberCouncil?$top=1000&$filter=Language%20eq%20'FR'&$skip=3000\n",
      "GET: https://ws.parlament.ch/odata.svc/MemberCouncil?$top=1000&$filter=Language%20eq%20'FR'&$skip=4000\n",
      "[OK] table MemberCouncil correctly scraped, df.shape =  3514 as expected\n"
     ]
    }
   ],
   "source": [
    "scrap = Scraper()\n",
    "df_party = scrap.get('Party') # get the table and write it into csv file\n",
    "df_person = scrap.get('Person')\n",
    "df_member_council = scrap.get('MemberCouncil')\n"
   ]
  },
  {
   "cell_type": "code",
   "execution_count": 6,
   "metadata": {
    "collapsed": false
   },
   "outputs": [
    {
     "data": {
      "text/html": [
       "<div>\n",
       "<table border=\"1\" class=\"dataframe\">\n",
       "  <thead>\n",
       "    <tr style=\"text-align: right;\">\n",
       "      <th></th>\n",
       "      <th>EndDate</th>\n",
       "      <th>ID</th>\n",
       "      <th>Language</th>\n",
       "      <th>Modified</th>\n",
       "      <th>PartyAbbreviation</th>\n",
       "      <th>PartyName</th>\n",
       "      <th>PartyNumber</th>\n",
       "      <th>StartDate</th>\n",
       "    </tr>\n",
       "  </thead>\n",
       "  <tbody>\n",
       "    <tr>\n",
       "      <th>0</th>\n",
       "      <td>None</td>\n",
       "      <td>12</td>\n",
       "      <td>FR</td>\n",
       "      <td>2010-12-26T13:05:26.43</td>\n",
       "      <td>PSS</td>\n",
       "      <td>Parti socialiste suisse</td>\n",
       "      <td>12</td>\n",
       "      <td>1888-01-01T00:00:00</td>\n",
       "    </tr>\n",
       "  </tbody>\n",
       "</table>\n",
       "</div>"
      ],
      "text/plain": [
       "  EndDate  ID Language                Modified PartyAbbreviation  \\\n",
       "0    None  12       FR  2010-12-26T13:05:26.43               PSS   \n",
       "\n",
       "                 PartyName PartyNumber            StartDate  \n",
       "0  Parti socialiste suisse          12  1888-01-01T00:00:00  "
      ]
     },
     "execution_count": 6,
     "metadata": {},
     "output_type": "execute_result"
    }
   ],
   "source": [
    "df_party[df_party.index == 0]"
   ]
  },
  {
   "cell_type": "code",
   "execution_count": 7,
   "metadata": {
    "collapsed": false
   },
   "outputs": [
    {
     "data": {
      "text/plain": [
       "(79, 8)"
      ]
     },
     "execution_count": 7,
     "metadata": {},
     "output_type": "execute_result"
    }
   ],
   "source": [
    "df_party.shape"
   ]
  },
  {
   "cell_type": "markdown",
   "metadata": {},
   "source": [
    "Count how many occurencies exist in a table\n",
    "(Will be used after to control that we got "
   ]
  },
  {
   "cell_type": "code",
   "execution_count": 8,
   "metadata": {
    "collapsed": false,
    "scrolled": true
   },
   "outputs": [
    {
     "data": {
      "text/plain": [
       "79"
      ]
     },
     "execution_count": 8,
     "metadata": {},
     "output_type": "execute_result"
    }
   ],
   "source": [
    "n_parties = scrap.count('Party')\n",
    "n_parties"
   ]
  },
  {
   "cell_type": "code",
   "execution_count": 9,
   "metadata": {
    "collapsed": false,
    "scrolled": false
   },
   "outputs": [
    {
     "name": "stdout",
     "output_type": "stream",
     "text": [
      "GET: https://ws.parlament.ch/odata.svc/Transcript?$top=1000&$filter=Language%20eq%20'FR'&$skip=0\n",
      "GET: https://ws.parlament.ch/odata.svc/Transcript?$top=1000&$filter=Language%20eq%20'FR'&$skip=1000\n",
      "GET: https://ws.parlament.ch/odata.svc/Transcript?$top=1000&$filter=Language%20eq%20'FR'&$skip=2000\n",
      "GET: https://ws.parlament.ch/odata.svc/Transcript?$top=1000&$filter=Language%20eq%20'FR'&$skip=3000\n",
      "GET: https://ws.parlament.ch/odata.svc/Transcript?$top=1000&$filter=Language%20eq%20'FR'&$skip=4000\n",
      "GET: https://ws.parlament.ch/odata.svc/Transcript?$top=1000&$filter=Language%20eq%20'FR'&$skip=5000\n",
      "GET: https://ws.parlament.ch/odata.svc/Transcript?$top=1000&$filter=Language%20eq%20'FR'&$skip=6000\n",
      "GET: https://ws.parlament.ch/odata.svc/Transcript?$top=1000&$filter=Language%20eq%20'FR'&$skip=7000\n",
      "GET: https://ws.parlament.ch/odata.svc/Transcript?$top=1000&$filter=Language%20eq%20'FR'&$skip=8000\n",
      "GET: https://ws.parlament.ch/odata.svc/Transcript?$top=1000&$filter=Language%20eq%20'FR'&$skip=9000\n",
      "GET: https://ws.parlament.ch/odata.svc/Transcript?$top=1000&$filter=Language%20eq%20'FR'&$skip=10000\n",
      "GET: https://ws.parlament.ch/odata.svc/Transcript?$top=1000&$filter=Language%20eq%20'FR'&$skip=11000\n",
      "GET: https://ws.parlament.ch/odata.svc/Transcript?$top=1000&$filter=Language%20eq%20'FR'&$skip=12000\n",
      "GET: https://ws.parlament.ch/odata.svc/Transcript?$top=1000&$filter=Language%20eq%20'FR'&$skip=13000\n",
      "GET: https://ws.parlament.ch/odata.svc/Transcript?$top=1000&$filter=Language%20eq%20'FR'&$skip=14000\n",
      "GET: https://ws.parlament.ch/odata.svc/Transcript?$top=1000&$filter=Language%20eq%20'FR'&$skip=15000\n",
      "GET: https://ws.parlament.ch/odata.svc/Transcript?$top=1000&$filter=Language%20eq%20'FR'&$skip=16000\n",
      "GET: https://ws.parlament.ch/odata.svc/Transcript?$top=1000&$filter=Language%20eq%20'FR'&$skip=17000\n",
      "GET: https://ws.parlament.ch/odata.svc/Transcript?$top=1000&$filter=Language%20eq%20'FR'&$skip=18000\n",
      "GET: https://ws.parlament.ch/odata.svc/Transcript?$top=1000&$filter=Language%20eq%20'FR'&$skip=19000\n",
      "GET: https://ws.parlament.ch/odata.svc/Transcript?$top=1000&$filter=Language%20eq%20'FR'&$skip=20000\n",
      "GET: https://ws.parlament.ch/odata.svc/Transcript?$top=1000&$filter=Language%20eq%20'FR'&$skip=21000\n",
      "GET: https://ws.parlament.ch/odata.svc/Transcript?$top=1000&$filter=Language%20eq%20'FR'&$skip=22000\n",
      "GET: https://ws.parlament.ch/odata.svc/Transcript?$top=1000&$filter=Language%20eq%20'FR'&$skip=23000\n",
      "GET: https://ws.parlament.ch/odata.svc/Transcript?$top=1000&$filter=Language%20eq%20'FR'&$skip=24000\n",
      "GET: https://ws.parlament.ch/odata.svc/Transcript?$top=1000&$filter=Language%20eq%20'FR'&$skip=25000\n",
      "GET: https://ws.parlament.ch/odata.svc/Transcript?$top=1000&$filter=Language%20eq%20'FR'&$skip=26000\n",
      "GET: https://ws.parlament.ch/odata.svc/Transcript?$top=1000&$filter=Language%20eq%20'FR'&$skip=27000\n",
      "GET: https://ws.parlament.ch/odata.svc/Transcript?$top=1000&$filter=Language%20eq%20'FR'&$skip=28000\n",
      "GET: https://ws.parlament.ch/odata.svc/Transcript?$top=1000&$filter=Language%20eq%20'FR'&$skip=29000\n",
      "GET: https://ws.parlament.ch/odata.svc/Transcript?$top=1000&$filter=Language%20eq%20'FR'&$skip=30000\n"
     ]
    },
    {
     "ename": "ParseError",
     "evalue": "mismatched tag: line 1, column 177\nb'<html><head><title>Request Rejected</title></head><body>The requested URL was rejected. Please consult with your administrator.<br><br>Your support ID is: 10862505001035633232</body></html>'\n================================================================================================================================================================================^ (<string>)",
     "output_type": "error",
     "traceback": [
      "\u001b[0;36m  File \u001b[0;32m\"<string>\"\u001b[0;36m, line \u001b[0;32munknown\u001b[0m\n\u001b[0;31mParseError\u001b[0m\u001b[0;31m:\u001b[0m mismatched tag: line 1, column 177\nb'<html><head><title>Request Rejected</title></head><body>The requested URL was rejected. Please consult with your administrator.<br><br>Your support ID is: 10862505001035633232</body></html>'\n================================================================================================================================================================================^\n"
     ]
    }
   ],
   "source": [
    "# try to scrap transcript... will be hard -_-\n",
    "# stop after 24 iteration, 25'000 transcripts requested, or env. 50 mb (I don't know wich one is the limit)\n",
    "scrap = Scraper(time_out=300)\n",
    "df_transcript = scrap.get('Transcript')"
   ]
  },
  {
   "cell_type": "code",
   "execution_count": null,
   "metadata": {
    "collapsed": false
   },
   "outputs": [],
   "source": [
    "df_transcript = scrap.count('Transcript')\n",
    "df_transcript"
   ]
  },
  {
   "cell_type": "markdown",
   "metadata": {},
   "source": [
    "## Try to merge two tables"
   ]
  },
  {
   "cell_type": "code",
   "execution_count": null,
   "metadata": {
    "collapsed": false
   },
   "outputs": [],
   "source": [
    "df_person.head()"
   ]
  },
  {
   "cell_type": "code",
   "execution_count": null,
   "metadata": {
    "collapsed": false
   },
   "outputs": [],
   "source": [
    "df_member_council.head()"
   ]
  },
  {
   "cell_type": "code",
   "execution_count": null,
   "metadata": {
    "collapsed": true
   },
   "outputs": [],
   "source": []
  }
 ],
 "metadata": {
  "anaconda-cloud": {},
  "kernelspec": {
   "display_name": "Python [conda root]",
   "language": "python",
   "name": "conda-root-py"
  },
  "language_info": {
   "codemirror_mode": {
    "name": "ipython",
    "version": 3
   },
   "file_extension": ".py",
   "mimetype": "text/x-python",
   "name": "python",
   "nbconvert_exporter": "python",
   "pygments_lexer": "ipython3",
   "version": "3.5.2"
  }
 },
 "nbformat": 4,
 "nbformat_minor": 1
}

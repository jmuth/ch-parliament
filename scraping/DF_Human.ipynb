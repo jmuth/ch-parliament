{
 "cells": [
  {
   "cell_type": "code",
   "execution_count": 106,
   "metadata": {
    "collapsed": false
   },
   "outputs": [
    {
     "name": "stdout",
     "output_type": "stream",
     "text": [
      "The autoreload extension is already loaded. To reload it, use:\n",
      "  %reload_ext autoreload\n"
     ]
    }
   ],
   "source": [
    "# Import some useful libraries\n",
    "%matplotlib inline\n",
    "import pandas as pd\n",
    "import urllib\n",
    "import xml.etree.ElementTree as ET\n",
    "from scraper import *\n",
    "import numpy as np\n",
    "%load_ext autoreload\n",
    "%autoreload 2"
   ]
  },
  {
   "cell_type": "markdown",
   "metadata": {},
   "source": [
    "# Scraping\n",
    "\n",
    "First, we scrap the people and Member council tables."
   ]
  },
  {
   "cell_type": "code",
   "execution_count": 107,
   "metadata": {
    "collapsed": false
   },
   "outputs": [
    {
     "name": "stdout",
     "output_type": "stream",
     "text": [
      "GET: https://ws.parlament.ch/odata.svc/Person?$top=1000&$filter=Language%20eq%20'FR'&$skip=0\n",
      "GET: https://ws.parlament.ch/odata.svc/Person?$top=2000&$filter=Language%20eq%20'FR'&$skip=1000\n",
      "GET: https://ws.parlament.ch/odata.svc/Person?$top=3000&$filter=Language%20eq%20'FR'&$skip=2000\n",
      "GET: https://ws.parlament.ch/odata.svc/Person?$top=4000&$filter=Language%20eq%20'FR'&$skip=3000\n",
      "GET: https://ws.parlament.ch/odata.svc/Person?$top=5000&$filter=Language%20eq%20'FR'&$skip=4000\n",
      "[OK] table Person correctly scraped, df.shape =  3525 as expected\n",
      "GET: https://ws.parlament.ch/odata.svc/MemberCouncil?$top=1000&$filter=Language%20eq%20'FR'&$skip=0\n",
      "GET: https://ws.parlament.ch/odata.svc/MemberCouncil?$top=2000&$filter=Language%20eq%20'FR'&$skip=1000\n",
      "GET: https://ws.parlament.ch/odata.svc/MemberCouncil?$top=3000&$filter=Language%20eq%20'FR'&$skip=2000\n",
      "GET: https://ws.parlament.ch/odata.svc/MemberCouncil?$top=4000&$filter=Language%20eq%20'FR'&$skip=3000\n",
      "GET: https://ws.parlament.ch/odata.svc/MemberCouncil?$top=5000&$filter=Language%20eq%20'FR'&$skip=4000\n",
      "[OK] table MemberCouncil correctly scraped, df.shape =  3514 as expected\n"
     ]
    }
   ],
   "source": [
    "scrap = Scraper()\n",
    "df_person = scrap.get('Person')\n",
    "df_member_council = scrap.get('MemberCouncil')"
   ]
  },
  {
   "cell_type": "markdown",
   "metadata": {},
   "source": [
    "Now, we check the shape of both DF."
   ]
  },
  {
   "cell_type": "code",
   "execution_count": 109,
   "metadata": {
    "collapsed": false
   },
   "outputs": [
    {
     "name": "stdout",
     "output_type": "stream",
     "text": [
      "Length person:  (3525, 21)\n",
      "Length member council:  (3514, 43)\n"
     ]
    }
   ],
   "source": [
    "print(\"Length person: \", df_person.shape)\n",
    "print(\"Length member council: \", df_member_council.shape)"
   ]
  },
  {
   "cell_type": "markdown",
   "metadata": {},
   "source": [
    "As we can see, the DF personn is bigger than the DF Member Council. Therefore, we will get the IDs of the persons that are unique in Person."
   ]
  },
  {
   "cell_type": "code",
   "execution_count": 110,
   "metadata": {
    "collapsed": false
   },
   "outputs": [
    {
     "name": "stdout",
     "output_type": "stream",
     "text": [
      "['1309', '831', '4133', '4211', '4010', '832', '830', '4043', '3990', '4127', '3991']\n"
     ]
    },
    {
     "data": {
      "text/html": [
       "<div>\n",
       "<table border=\"1\" class=\"dataframe\">\n",
       "  <thead>\n",
       "    <tr style=\"text-align: right;\">\n",
       "      <th></th>\n",
       "      <th>DateOfBirth</th>\n",
       "      <th>DateOfDeath</th>\n",
       "      <th>FirstName</th>\n",
       "      <th>GenderAsString</th>\n",
       "      <th>ID</th>\n",
       "      <th>Language</th>\n",
       "      <th>LastName</th>\n",
       "      <th>MaritalStatus</th>\n",
       "      <th>MaritalStatusText</th>\n",
       "      <th>MilitaryRank</th>\n",
       "      <th>...</th>\n",
       "      <th>Modified</th>\n",
       "      <th>NativeLanguage</th>\n",
       "      <th>NumberOfChildren</th>\n",
       "      <th>OfficialName</th>\n",
       "      <th>PersonIdCode</th>\n",
       "      <th>PersonNumber</th>\n",
       "      <th>PlaceOfBirthCanton</th>\n",
       "      <th>PlaceOfBirthCity</th>\n",
       "      <th>Title</th>\n",
       "      <th>TitleText</th>\n",
       "    </tr>\n",
       "  </thead>\n",
       "  <tbody>\n",
       "    <tr>\n",
       "      <th>726</th>\n",
       "      <td>1948-03-25T00:00:00</td>\n",
       "      <td>None</td>\n",
       "      <td>Mariangela</td>\n",
       "      <td>f</td>\n",
       "      <td>830</td>\n",
       "      <td>FR</td>\n",
       "      <td>Wallimann-Bornatico</td>\n",
       "      <td>None</td>\n",
       "      <td>None</td>\n",
       "      <td>None</td>\n",
       "      <td>...</td>\n",
       "      <td>2015-05-17T21:18:19.387</td>\n",
       "      <td>I</td>\n",
       "      <td>None</td>\n",
       "      <td>Wallimann-Bornatico</td>\n",
       "      <td>None</td>\n",
       "      <td>830</td>\n",
       "      <td>Grisons</td>\n",
       "      <td>Roveredo</td>\n",
       "      <td>115</td>\n",
       "      <td>lic. iur.</td>\n",
       "    </tr>\n",
       "    <tr>\n",
       "      <th>727</th>\n",
       "      <td>1941-10-02T00:00:00</td>\n",
       "      <td>2016-07-17T00:00:00</td>\n",
       "      <td>Achille</td>\n",
       "      <td>m</td>\n",
       "      <td>831</td>\n",
       "      <td>FR</td>\n",
       "      <td>Casanova</td>\n",
       "      <td>None</td>\n",
       "      <td>None</td>\n",
       "      <td>None</td>\n",
       "      <td>...</td>\n",
       "      <td>2016-07-18T15:25:10.473</td>\n",
       "      <td>I</td>\n",
       "      <td>None</td>\n",
       "      <td>Casanova</td>\n",
       "      <td>2581</td>\n",
       "      <td>831</td>\n",
       "      <td>None</td>\n",
       "      <td>None</td>\n",
       "      <td>None</td>\n",
       "      <td>None</td>\n",
       "    </tr>\n",
       "    <tr>\n",
       "      <th>728</th>\n",
       "      <td>1947-11-16T00:00:00</td>\n",
       "      <td>None</td>\n",
       "      <td>Hanna</td>\n",
       "      <td>f</td>\n",
       "      <td>832</td>\n",
       "      <td>FR</td>\n",
       "      <td>Muralt Müller</td>\n",
       "      <td>None</td>\n",
       "      <td>None</td>\n",
       "      <td>None</td>\n",
       "      <td>...</td>\n",
       "      <td>2015-05-17T21:18:19.387</td>\n",
       "      <td>D</td>\n",
       "      <td>None</td>\n",
       "      <td>Muralt Müller</td>\n",
       "      <td>2582</td>\n",
       "      <td>832</td>\n",
       "      <td>None</td>\n",
       "      <td>None</td>\n",
       "      <td>None</td>\n",
       "      <td>None</td>\n",
       "    </tr>\n",
       "    <tr>\n",
       "      <th>886</th>\n",
       "      <td>1944-01-01T00:00:00</td>\n",
       "      <td>None</td>\n",
       "      <td>Oswald</td>\n",
       "      <td>m</td>\n",
       "      <td>1309</td>\n",
       "      <td>FR</td>\n",
       "      <td>Sigg</td>\n",
       "      <td>None</td>\n",
       "      <td>None</td>\n",
       "      <td>None</td>\n",
       "      <td>...</td>\n",
       "      <td>2015-05-17T21:18:19.387</td>\n",
       "      <td>D</td>\n",
       "      <td>None</td>\n",
       "      <td>Sigg</td>\n",
       "      <td>None</td>\n",
       "      <td>1309</td>\n",
       "      <td>Zurich</td>\n",
       "      <td>Zurich</td>\n",
       "      <td>None</td>\n",
       "      <td>None</td>\n",
       "    </tr>\n",
       "    <tr>\n",
       "      <th>3340</th>\n",
       "      <td>1948-06-05T00:00:00</td>\n",
       "      <td>None</td>\n",
       "      <td>Christoph</td>\n",
       "      <td>m</td>\n",
       "      <td>3990</td>\n",
       "      <td>FR</td>\n",
       "      <td>Lanz</td>\n",
       "      <td>2</td>\n",
       "      <td>marié(e)</td>\n",
       "      <td>None</td>\n",
       "      <td>...</td>\n",
       "      <td>2015-05-17T21:18:19.387</td>\n",
       "      <td>D</td>\n",
       "      <td>None</td>\n",
       "      <td>Lanz</td>\n",
       "      <td>None</td>\n",
       "      <td>3990</td>\n",
       "      <td>None</td>\n",
       "      <td>None</td>\n",
       "      <td>6</td>\n",
       "      <td>Dr. iur.</td>\n",
       "    </tr>\n",
       "    <tr>\n",
       "      <th>3341</th>\n",
       "      <td>1961-08-07T00:00:00</td>\n",
       "      <td>None</td>\n",
       "      <td>Thomas</td>\n",
       "      <td>m</td>\n",
       "      <td>3991</td>\n",
       "      <td>FR</td>\n",
       "      <td>Helbling</td>\n",
       "      <td>None</td>\n",
       "      <td>None</td>\n",
       "      <td>None</td>\n",
       "      <td>...</td>\n",
       "      <td>2016-05-24T13:59:16.603</td>\n",
       "      <td>D</td>\n",
       "      <td>None</td>\n",
       "      <td>Helbling</td>\n",
       "      <td>3111</td>\n",
       "      <td>3991</td>\n",
       "      <td>None</td>\n",
       "      <td>None</td>\n",
       "      <td>112</td>\n",
       "      <td>lic. iur. / LL. M.</td>\n",
       "    </tr>\n",
       "    <tr>\n",
       "      <th>3346</th>\n",
       "      <td>1968-11-17T00:00:00</td>\n",
       "      <td>None</td>\n",
       "      <td>André</td>\n",
       "      <td>m</td>\n",
       "      <td>4010</td>\n",
       "      <td>FR</td>\n",
       "      <td>Simonazzi</td>\n",
       "      <td>None</td>\n",
       "      <td>None</td>\n",
       "      <td>None</td>\n",
       "      <td>...</td>\n",
       "      <td>2015-05-17T21:18:19.387</td>\n",
       "      <td>F</td>\n",
       "      <td>None</td>\n",
       "      <td>Simonazzi</td>\n",
       "      <td>2736</td>\n",
       "      <td>4010</td>\n",
       "      <td>Valais</td>\n",
       "      <td>Monthey</td>\n",
       "      <td>None</td>\n",
       "      <td>None</td>\n",
       "    </tr>\n",
       "    <tr>\n",
       "      <th>3361</th>\n",
       "      <td>1927-06-06T00:00:00</td>\n",
       "      <td>2012-01-28T00:00:00</td>\n",
       "      <td>Jean-Marc</td>\n",
       "      <td>m</td>\n",
       "      <td>4043</td>\n",
       "      <td>FR</td>\n",
       "      <td>Sauvant</td>\n",
       "      <td>None</td>\n",
       "      <td>None</td>\n",
       "      <td>None</td>\n",
       "      <td>...</td>\n",
       "      <td>2015-05-17T21:18:19.387</td>\n",
       "      <td>F</td>\n",
       "      <td>None</td>\n",
       "      <td>Sauvant</td>\n",
       "      <td>None</td>\n",
       "      <td>4043</td>\n",
       "      <td>None</td>\n",
       "      <td>None</td>\n",
       "      <td>None</td>\n",
       "      <td>None</td>\n",
       "    </tr>\n",
       "    <tr>\n",
       "      <th>3443</th>\n",
       "      <td>1964-01-19T00:00:00</td>\n",
       "      <td>None</td>\n",
       "      <td>Philippe</td>\n",
       "      <td>m</td>\n",
       "      <td>4127</td>\n",
       "      <td>FR</td>\n",
       "      <td>Schwab</td>\n",
       "      <td>None</td>\n",
       "      <td>None</td>\n",
       "      <td>None</td>\n",
       "      <td>...</td>\n",
       "      <td>2015-05-17T21:18:19.387</td>\n",
       "      <td>F</td>\n",
       "      <td>None</td>\n",
       "      <td>Schwab</td>\n",
       "      <td>None</td>\n",
       "      <td>4127</td>\n",
       "      <td>Berne</td>\n",
       "      <td>Bienne</td>\n",
       "      <td>273</td>\n",
       "      <td>Master of Public Administration</td>\n",
       "    </tr>\n",
       "    <tr>\n",
       "      <th>3448</th>\n",
       "      <td>1964-10-05T00:00:00</td>\n",
       "      <td>None</td>\n",
       "      <td>Martina</td>\n",
       "      <td>f</td>\n",
       "      <td>4133</td>\n",
       "      <td>FR</td>\n",
       "      <td>Buol</td>\n",
       "      <td>None</td>\n",
       "      <td>None</td>\n",
       "      <td>None</td>\n",
       "      <td>...</td>\n",
       "      <td>2015-05-17T21:18:19.387</td>\n",
       "      <td>D</td>\n",
       "      <td>None</td>\n",
       "      <td>Buol</td>\n",
       "      <td>None</td>\n",
       "      <td>4133</td>\n",
       "      <td>Fribourg</td>\n",
       "      <td>Fribourg</td>\n",
       "      <td>6</td>\n",
       "      <td>Dr. iur.</td>\n",
       "    </tr>\n",
       "    <tr>\n",
       "      <th>3524</th>\n",
       "      <td>1973-09-13T00:00:00</td>\n",
       "      <td>None</td>\n",
       "      <td>Jörg</td>\n",
       "      <td>m</td>\n",
       "      <td>4211</td>\n",
       "      <td>FR</td>\n",
       "      <td>De Bernardi</td>\n",
       "      <td>None</td>\n",
       "      <td>None</td>\n",
       "      <td>None</td>\n",
       "      <td>...</td>\n",
       "      <td>2016-09-14T11:01:00.163</td>\n",
       "      <td>I</td>\n",
       "      <td>None</td>\n",
       "      <td>De Bernardi</td>\n",
       "      <td>3093</td>\n",
       "      <td>4211</td>\n",
       "      <td>None</td>\n",
       "      <td>None</td>\n",
       "      <td>None</td>\n",
       "      <td>None</td>\n",
       "    </tr>\n",
       "  </tbody>\n",
       "</table>\n",
       "<p>11 rows × 21 columns</p>\n",
       "</div>"
      ],
      "text/plain": [
       "              DateOfBirth          DateOfDeath   FirstName GenderAsString  \\\n",
       "726   1948-03-25T00:00:00                 None  Mariangela              f   \n",
       "727   1941-10-02T00:00:00  2016-07-17T00:00:00     Achille              m   \n",
       "728   1947-11-16T00:00:00                 None       Hanna              f   \n",
       "886   1944-01-01T00:00:00                 None      Oswald              m   \n",
       "3340  1948-06-05T00:00:00                 None   Christoph              m   \n",
       "3341  1961-08-07T00:00:00                 None      Thomas              m   \n",
       "3346  1968-11-17T00:00:00                 None       André              m   \n",
       "3361  1927-06-06T00:00:00  2012-01-28T00:00:00   Jean-Marc              m   \n",
       "3443  1964-01-19T00:00:00                 None    Philippe              m   \n",
       "3448  1964-10-05T00:00:00                 None     Martina              f   \n",
       "3524  1973-09-13T00:00:00                 None        Jörg              m   \n",
       "\n",
       "        ID Language             LastName MaritalStatus MaritalStatusText  \\\n",
       "726    830       FR  Wallimann-Bornatico          None              None   \n",
       "727    831       FR             Casanova          None              None   \n",
       "728    832       FR        Muralt Müller          None              None   \n",
       "886   1309       FR                 Sigg          None              None   \n",
       "3340  3990       FR                 Lanz             2          marié(e)   \n",
       "3341  3991       FR             Helbling          None              None   \n",
       "3346  4010       FR            Simonazzi          None              None   \n",
       "3361  4043       FR              Sauvant          None              None   \n",
       "3443  4127       FR               Schwab          None              None   \n",
       "3448  4133       FR                 Buol          None              None   \n",
       "3524  4211       FR          De Bernardi          None              None   \n",
       "\n",
       "     MilitaryRank               ...                                Modified  \\\n",
       "726          None               ...                 2015-05-17T21:18:19.387   \n",
       "727          None               ...                 2016-07-18T15:25:10.473   \n",
       "728          None               ...                 2015-05-17T21:18:19.387   \n",
       "886          None               ...                 2015-05-17T21:18:19.387   \n",
       "3340         None               ...                 2015-05-17T21:18:19.387   \n",
       "3341         None               ...                 2016-05-24T13:59:16.603   \n",
       "3346         None               ...                 2015-05-17T21:18:19.387   \n",
       "3361         None               ...                 2015-05-17T21:18:19.387   \n",
       "3443         None               ...                 2015-05-17T21:18:19.387   \n",
       "3448         None               ...                 2015-05-17T21:18:19.387   \n",
       "3524         None               ...                 2016-09-14T11:01:00.163   \n",
       "\n",
       "     NativeLanguage NumberOfChildren         OfficialName PersonIdCode  \\\n",
       "726               I             None  Wallimann-Bornatico         None   \n",
       "727               I             None             Casanova         2581   \n",
       "728               D             None        Muralt Müller         2582   \n",
       "886               D             None                 Sigg         None   \n",
       "3340              D             None                 Lanz         None   \n",
       "3341              D             None             Helbling         3111   \n",
       "3346              F             None            Simonazzi         2736   \n",
       "3361              F             None              Sauvant         None   \n",
       "3443              F             None               Schwab         None   \n",
       "3448              D             None                 Buol         None   \n",
       "3524              I             None          De Bernardi         3093   \n",
       "\n",
       "     PersonNumber PlaceOfBirthCanton PlaceOfBirthCity Title  \\\n",
       "726           830            Grisons         Roveredo   115   \n",
       "727           831               None             None  None   \n",
       "728           832               None             None  None   \n",
       "886          1309             Zurich           Zurich  None   \n",
       "3340         3990               None             None     6   \n",
       "3341         3991               None             None   112   \n",
       "3346         4010             Valais          Monthey  None   \n",
       "3361         4043               None             None  None   \n",
       "3443         4127              Berne           Bienne   273   \n",
       "3448         4133           Fribourg         Fribourg     6   \n",
       "3524         4211               None             None  None   \n",
       "\n",
       "                            TitleText  \n",
       "726                         lic. iur.  \n",
       "727                              None  \n",
       "728                              None  \n",
       "886                              None  \n",
       "3340                         Dr. iur.  \n",
       "3341               lic. iur. / LL. M.  \n",
       "3346                             None  \n",
       "3361                             None  \n",
       "3443  Master of Public Administration  \n",
       "3448                         Dr. iur.  \n",
       "3524                             None  \n",
       "\n",
       "[11 rows x 21 columns]"
      ]
     },
     "execution_count": 110,
     "metadata": {},
     "output_type": "execute_result"
    }
   ],
   "source": [
    "# IDS That are only in person\n",
    "id_unique_person = list(set(df_person['ID']) - set(df_member_council['ID']))\n",
    "print(id_unique_person)\n",
    "\n",
    "# Create DF of the unique persons\n",
    "df_unique_person = df_person.loc[df_person['ID'].isin(id_unique_person)]\n",
    "df_unique_person"
   ]
  },
  {
   "cell_type": "markdown",
   "metadata": {},
   "source": [
    "We checked on Wikipedia as well as on http://parlament.ch who are these persons:\n",
    "\n",
    "- Secretary General of the Federal Assembly:\n",
    " - Jean-Marc Sauvant: from 1981-1992\n",
    " - Mariangela Wallimann-Bornatico:  from 1999 to 2008\n",
    " - Christoph Lanz: from 2008 to 2013\n",
    " - Philippe Schwab: from 2013 to Now\n",
    " \n",
    " \n",
    "- Vice-Chancelor of Switzerland:\n",
    " - Achille Casanova: from 1981 to 2005\n",
    " - Oswald Sigg: from 2005 to 2009\n",
    " - Hanna Muralt Müller: before 2005\n",
    " - Thomas Helbling: from 2008 to 2016\n",
    " - André Simonazzi: from 2009 to Now\n",
    " - Jörg de Bernardi: from 2016 to Now\n",
    "\n",
    "\n",
    "- Deputy Secretary General and Secretary of the Council of States:\n",
    " - Martina Buol: Inbound\n",
    " \n",
    "These guys didn't have any vote. So, we can simply remove them. \n",
    "\n",
    "Now, let's check if other Vice-Chancelor are in the Member Council."
   ]
  },
  {
   "cell_type": "code",
   "execution_count": 111,
   "metadata": {
    "collapsed": false
   },
   "outputs": [
    {
     "data": {
      "text/plain": [
       "Index(['Active', 'AdditionalActivity', 'AdditionalMandate',\n",
       "       'BirthPlace_Canton', 'BirthPlace_City', 'Canton', 'CantonAbbreviation',\n",
       "       'CantonName', 'Citizenship', 'Council', 'CouncilAbbreviation',\n",
       "       'CouncilName', 'DateElection', 'DateJoining', 'DateLeaving', 'DateOath',\n",
       "       'DateOfBirth', 'DateOfDeath', 'DateResignation', 'FirstName',\n",
       "       'GenderAsString', 'ID', 'IdPredecessor', 'Language', 'LastName',\n",
       "       'Mandates', 'MaritalStatus', 'MaritalStatusText', 'MilitaryRank',\n",
       "       'MilitaryRankText', 'Modified', 'NumberOfChildren', 'OfficialName',\n",
       "       'ParlGroupAbbreviation', 'ParlGroupFunction', 'ParlGroupFunctionText',\n",
       "       'ParlGroupName', 'ParlGroupNumber', 'Party', 'PartyAbbreviation',\n",
       "       'PartyName', 'PersonIdCode', 'PersonNumber'],\n",
       "      dtype='object')"
      ]
     },
     "execution_count": 111,
     "metadata": {},
     "output_type": "execute_result"
    }
   ],
   "source": [
    "# Show the columns in member_council\n",
    "df_member_council.columns"
   ]
  },
  {
   "cell_type": "code",
   "execution_count": 112,
   "metadata": {
    "collapsed": false
   },
   "outputs": [
    {
     "data": {
      "text/html": [
       "<div>\n",
       "<table border=\"1\" class=\"dataframe\">\n",
       "  <thead>\n",
       "    <tr style=\"text-align: right;\">\n",
       "      <th></th>\n",
       "      <th>Active</th>\n",
       "      <th>AdditionalActivity</th>\n",
       "      <th>AdditionalMandate</th>\n",
       "      <th>BirthPlace_Canton</th>\n",
       "      <th>BirthPlace_City</th>\n",
       "      <th>Canton</th>\n",
       "      <th>CantonAbbreviation</th>\n",
       "      <th>CantonName</th>\n",
       "      <th>Citizenship</th>\n",
       "      <th>Council</th>\n",
       "      <th>...</th>\n",
       "      <th>ParlGroupAbbreviation</th>\n",
       "      <th>ParlGroupFunction</th>\n",
       "      <th>ParlGroupFunctionText</th>\n",
       "      <th>ParlGroupName</th>\n",
       "      <th>ParlGroupNumber</th>\n",
       "      <th>Party</th>\n",
       "      <th>PartyAbbreviation</th>\n",
       "      <th>PartyName</th>\n",
       "      <th>PersonIdCode</th>\n",
       "      <th>PersonNumber</th>\n",
       "    </tr>\n",
       "  </thead>\n",
       "  <tbody>\n",
       "    <tr>\n",
       "      <th>883</th>\n",
       "      <td>false</td>\n",
       "      <td>None</td>\n",
       "      <td>None</td>\n",
       "      <td>None</td>\n",
       "      <td>Ilanz</td>\n",
       "      <td>18</td>\n",
       "      <td>GR</td>\n",
       "      <td>Grisons</td>\n",
       "      <td>Ruschein (GR),Vrin (GR)</td>\n",
       "      <td>98</td>\n",
       "      <td>...</td>\n",
       "      <td>None</td>\n",
       "      <td>None</td>\n",
       "      <td>None</td>\n",
       "      <td>None</td>\n",
       "      <td>None</td>\n",
       "      <td>14</td>\n",
       "      <td>PDC</td>\n",
       "      <td>Parti démocrate-chrétien suisse</td>\n",
       "      <td>2731</td>\n",
       "      <td>1310</td>\n",
       "    </tr>\n",
       "  </tbody>\n",
       "</table>\n",
       "<p>1 rows × 43 columns</p>\n",
       "</div>"
      ],
      "text/plain": [
       "    Active AdditionalActivity AdditionalMandate BirthPlace_Canton  \\\n",
       "883  false               None              None              None   \n",
       "\n",
       "    BirthPlace_City Canton CantonAbbreviation CantonName  \\\n",
       "883           Ilanz     18                 GR    Grisons   \n",
       "\n",
       "                 Citizenship Council     ...      ParlGroupAbbreviation  \\\n",
       "883  Ruschein (GR),Vrin (GR)      98     ...                       None   \n",
       "\n",
       "    ParlGroupFunction ParlGroupFunctionText ParlGroupName ParlGroupNumber  \\\n",
       "883              None                  None          None            None   \n",
       "\n",
       "    Party PartyAbbreviation                        PartyName PersonIdCode  \\\n",
       "883    14               PDC  Parti démocrate-chrétien suisse         2731   \n",
       "\n",
       "    PersonNumber  \n",
       "883         1310  \n",
       "\n",
       "[1 rows x 43 columns]"
      ]
     },
     "execution_count": 112,
     "metadata": {},
     "output_type": "execute_result"
    }
   ],
   "source": [
    "# Take the example of Corina Casanova.\n",
    "df_member_council[df_member_council['LastName']=='Casanova']"
   ]
  },
  {
   "cell_type": "code",
   "execution_count": 113,
   "metadata": {
    "collapsed": false
   },
   "outputs": [
    {
     "data": {
      "text/plain": [
       "883    None\n",
       "Name: CouncilName, dtype: object"
      ]
     },
     "execution_count": 113,
     "metadata": {},
     "output_type": "execute_result"
    }
   ],
   "source": [
    "# Let's check her Value for Council Name\n",
    "df_member_council[df_member_council['LastName']=='Casanova']['CouncilName']"
   ]
  },
  {
   "cell_type": "markdown",
   "metadata": {},
   "source": [
    "We see here that she's in the member council table. But we also see that her function is \"None\". Therefore, let's check the unique values for `CouncilName`."
   ]
  },
  {
   "cell_type": "code",
   "execution_count": 114,
   "metadata": {
    "collapsed": false
   },
   "outputs": [
    {
     "data": {
      "text/plain": [
       "array(['Conseil national', 'Conseil des Etats', 'Conseil fédéral', None], dtype=object)"
      ]
     },
     "execution_count": 114,
     "metadata": {},
     "output_type": "execute_result"
    }
   ],
   "source": [
    "df_member_council['CouncilName'].unique()"
   ]
  },
  {
   "cell_type": "code",
   "execution_count": 115,
   "metadata": {
    "collapsed": false
   },
   "outputs": [
    {
     "data": {
      "text/html": [
       "<div>\n",
       "<table border=\"1\" class=\"dataframe\">\n",
       "  <thead>\n",
       "    <tr style=\"text-align: right;\">\n",
       "      <th></th>\n",
       "      <th>LastName</th>\n",
       "      <th>FirstName</th>\n",
       "    </tr>\n",
       "  </thead>\n",
       "  <tbody>\n",
       "    <tr>\n",
       "      <th>724</th>\n",
       "      <td>Huber-Hotz</td>\n",
       "      <td>Annemarie</td>\n",
       "    </tr>\n",
       "    <tr>\n",
       "      <th>873</th>\n",
       "      <td>Couchepin</td>\n",
       "      <td>François</td>\n",
       "    </tr>\n",
       "    <tr>\n",
       "      <th>883</th>\n",
       "      <td>Casanova</td>\n",
       "      <td>Corina</td>\n",
       "    </tr>\n",
       "    <tr>\n",
       "      <th>3354</th>\n",
       "      <td>Buser</td>\n",
       "      <td>Walter</td>\n",
       "    </tr>\n",
       "    <tr>\n",
       "      <th>3513</th>\n",
       "      <td>Thurnherr</td>\n",
       "      <td>Walter</td>\n",
       "    </tr>\n",
       "  </tbody>\n",
       "</table>\n",
       "</div>"
      ],
      "text/plain": [
       "        LastName  FirstName\n",
       "724   Huber-Hotz  Annemarie\n",
       "873    Couchepin   François\n",
       "883     Casanova     Corina\n",
       "3354       Buser     Walter\n",
       "3513   Thurnherr     Walter"
      ]
     },
     "execution_count": 115,
     "metadata": {},
     "output_type": "execute_result"
    }
   ],
   "source": [
    "# Extract the None for the CouncilName\n",
    "df_member_no_council = df_member_council[df_member_council['CouncilName'].isnull()]\n",
    "df_member_no_council[['LastName', 'FirstName']]"
   ]
  },
  {
   "cell_type": "markdown",
   "metadata": {},
   "source": [
    "So, these people are either Chancelor, Vice-Chancelor or from the Secretary General of Switzerland. Therefore, we can remove them from both the DF. "
   ]
  },
  {
   "cell_type": "code",
   "execution_count": 116,
   "metadata": {
    "collapsed": false,
    "scrolled": true
   },
   "outputs": [
    {
     "name": "stdout",
     "output_type": "stream",
     "text": [
      "Int64Index([724, 873, 883, 3354, 3513], dtype='int64')\n",
      "Int64Index([726, 727, 728, 886, 3340, 3341, 3346, 3361, 3443, 3448, 3524], dtype='int64')\n",
      "Int64Index([724, 876, 887, 3362, 3523], dtype='int64')\n",
      "Int64Index([ 724,  726,  727,  728,  876,  886,  887, 3340, 3341, 3346, 3361,\n",
      "            3362, 3443, 3448, 3523, 3524],\n",
      "           dtype='int64')\n"
     ]
    }
   ],
   "source": [
    "idx_remove_council = df_member_no_council.index\n",
    "print(idx_remove_council)\n",
    "\n",
    "idx_remove_person_1 = df_unique_person.index\n",
    "print(idx_remove_person_1)\n",
    "idx_remove_person_2 = df_person[df_person['ID'].isin(list(df_member_no_council['ID']))].index\n",
    "print(idx_remove_person_2)\n",
    "\n",
    "idx_remove_person = idx_remove_person_1.union(idx_remove_person_2)\n",
    "print(idx_remove_person)"
   ]
  },
  {
   "cell_type": "code",
   "execution_count": 118,
   "metadata": {
    "collapsed": false
   },
   "outputs": [
    {
     "name": "stdout",
     "output_type": "stream",
     "text": [
      "Size person:  (3509, 21)\n",
      "Size member council:  (3509, 43)\n"
     ]
    }
   ],
   "source": [
    "# No we remove them\n",
    "df_person_clean = df_person.drop(idx_remove_person)\n",
    "print('Size person: ', df_person_clean.shape)\n",
    "\n",
    "df_member_council_clean = df_member_council.drop(idx_remove_council)\n",
    "print('Size member council: ', df_member_council_clean.shape)"
   ]
  },
  {
   "cell_type": "code",
   "execution_count": 125,
   "metadata": {
    "collapsed": false
   },
   "outputs": [
    {
     "data": {
      "text/plain": [
       "1297    Carlin\n",
       "Name: LastName, dtype: object"
      ]
     },
     "execution_count": 125,
     "metadata": {},
     "output_type": "execute_result"
    }
   ],
   "source": [
    "idx = 1297\n",
    "df_person_clean[df_person_clean.index == idx]['LastName']"
   ]
  },
  {
   "cell_type": "code",
   "execution_count": 126,
   "metadata": {
    "collapsed": false
   },
   "outputs": [
    {
     "data": {
      "text/plain": [
       "1297    Carteret\n",
       "Name: LastName, dtype: object"
      ]
     },
     "execution_count": 126,
     "metadata": {},
     "output_type": "execute_result"
    }
   ],
   "source": [
    "df_member_council_clean[df_member_council_clean.index == idx]['LastName']"
   ]
  },
  {
   "cell_type": "code",
   "execution_count": null,
   "metadata": {
    "collapsed": true
   },
   "outputs": [],
   "source": []
  }
 ],
 "metadata": {
  "anaconda-cloud": {},
  "kernelspec": {
   "display_name": "Python [conda root]",
   "language": "python",
   "name": "conda-root-py"
  },
  "language_info": {
   "codemirror_mode": {
    "name": "ipython",
    "version": 3
   },
   "file_extension": ".py",
   "mimetype": "text/x-python",
   "name": "python",
   "nbconvert_exporter": "python",
   "pygments_lexer": "ipython3",
   "version": "3.5.2"
  }
 },
 "nbformat": 4,
 "nbformat_minor": 1
}

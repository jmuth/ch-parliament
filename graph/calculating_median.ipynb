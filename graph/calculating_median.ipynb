{
 "cells": [
  {
   "cell_type": "code",
   "execution_count": 1,
   "metadata": {
    "collapsed": true
   },
   "outputs": [],
   "source": [
    "import pandas as pd\n",
    "pd.options.display.max_columns = 100\n",
    "import numpy as np"
   ]
  },
  {
   "cell_type": "code",
   "execution_count": 101,
   "metadata": {
    "collapsed": true
   },
   "outputs": [],
   "source": [
    "n_int = pd.read_csv('data/n_int.csv').set_index('PersonIdCode')"
   ]
  },
  {
   "cell_type": "code",
   "execution_count": 102,
   "metadata": {
    "collapsed": true
   },
   "outputs": [],
   "source": [
    "ppl = pd.read_csv('data/people_jonas.csv').set_index('PersonIdCode')"
   ]
  },
  {
   "cell_type": "markdown",
   "metadata": {},
   "source": [
    "# Computing the median"
   ]
  },
  {
   "cell_type": "markdown",
   "metadata": {},
   "source": [
    "Works on things like #words, #interventions etc."
   ]
  },
  {
   "cell_type": "code",
   "execution_count": 103,
   "metadata": {
    "collapsed": true
   },
   "outputs": [],
   "source": [
    "def get_median(df, ppl, what):\n",
    "    cols = df.columns.tolist()\n",
    "    median_dict = {'what': what}\n",
    "    for col in cols:\n",
    "        sesh = df[col]\n",
    "        sesh = strip_sesh(col, sesh, ppl)\n",
    "        median = sesh.median()\n",
    "        median_dict[col] = median\n",
    "    return median_dict\n",
    "        \n",
    "def strip_sesh(col, sesh, ppl):\n",
    "    #print(sesh.shape)\n",
    "    for idcode, inter in sesh.iteritems():\n",
    "        first_sesh = ppl.loc[idcode, 'FirstSession']\n",
    "        if int(first_sesh) > int(col):\n",
    "            sesh.pop(idcode)\n",
    "    #print('-->'+str(sesh.shape))\n",
    "    return sesh"
   ]
  },
  {
   "cell_type": "code",
   "execution_count": 104,
   "metadata": {
    "collapsed": false
   },
   "outputs": [],
   "source": [
    "d_int = get_median(n_int, ppl, 'median_interventions')"
   ]
  },
  {
   "cell_type": "code",
   "execution_count": 105,
   "metadata": {
    "collapsed": false
   },
   "outputs": [
    {
     "data": {
      "text/plain": [
       "{'4601': 2.0,\n",
       " '4602': 3.0,\n",
       " '4603': 2.0,\n",
       " '4604': 2.0,\n",
       " '4605': 2.0,\n",
       " '4606': 1.0,\n",
       " '4607': 0.0,\n",
       " '4608': 2.0,\n",
       " '4609': 2.5,\n",
       " '4610': 0.0,\n",
       " '4611': 4.0,\n",
       " '4612': 4.0,\n",
       " '4613': 0.0,\n",
       " '4614': 3.5,\n",
       " '4615': 2.5,\n",
       " '4616': 2.0,\n",
       " '4617': 3.0,\n",
       " '4618': 0.0,\n",
       " '4619': 2.0,\n",
       " '4620': 3.0,\n",
       " '4701': 2.0,\n",
       " '4702': 3.0,\n",
       " '4703': 0.0,\n",
       " '4704': 3.0,\n",
       " '4705': 5.0,\n",
       " '4706': 3.0,\n",
       " '4707': 2.0,\n",
       " '4708': 3.0,\n",
       " '4709': 3.0,\n",
       " '4710': 4.0,\n",
       " '4711': 3.0,\n",
       " '4712': 1.0,\n",
       " '4713': 2.5,\n",
       " '4714': 3.0,\n",
       " '4715': 4.0,\n",
       " '4716': 5.0,\n",
       " '4717': 5.0,\n",
       " '4718': 6.0,\n",
       " '4801': 2.0,\n",
       " '4802': 4.0,\n",
       " '4803': 0.0,\n",
       " '4804': 4.0,\n",
       " '4805': 4.0,\n",
       " '4806': 2.5,\n",
       " '4807': 6.0,\n",
       " '4808': 0.0,\n",
       " '4809': 5.0,\n",
       " '4810': 0.0,\n",
       " '4811': 3.0,\n",
       " '4812': 4.0,\n",
       " '4813': 7.0,\n",
       " '4814': 5.0,\n",
       " '4815': 5.0,\n",
       " '4816': 4.0,\n",
       " '4817': 5.0,\n",
       " '4818': 1.0,\n",
       " '4819': 4.0,\n",
       " '4820': 5.0,\n",
       " '4901': 3.0,\n",
       " '4902': 4.0,\n",
       " '4903': 0.0,\n",
       " '4904': 5.0,\n",
       " '4905': 5.0,\n",
       " '4906': 4.0,\n",
       " '4907': 5.0,\n",
       " '4908': 0.5,\n",
       " '4909': 4.0,\n",
       " '4910': 5.0,\n",
       " '4911': 5.0,\n",
       " '4912': 6.0,\n",
       " '4913': 1.0,\n",
       " '4914': 4.0,\n",
       " '4915': 5.0,\n",
       " '4916': 4.0,\n",
       " '4917': 5.0,\n",
       " '4918': 1.0,\n",
       " '4919': 5.0,\n",
       " '4920': 6.0,\n",
       " '5001': 4.0,\n",
       " '5002': 6.0,\n",
       " '5003': 1.0,\n",
       " '5004': 5.0,\n",
       " '5005': 5.0,\n",
       " 'what': 'median_interventions'}"
      ]
     },
     "execution_count": 105,
     "metadata": {},
     "output_type": "execute_result"
    }
   ],
   "source": [
    "d_int"
   ]
  },
  {
   "cell_type": "code",
   "execution_count": 106,
   "metadata": {
    "collapsed": false,
    "scrolled": true
   },
   "outputs": [],
   "source": [
    "n_words = pd.read_csv('data/n_words_clean.csv').set_index('PersonIdCode')"
   ]
  },
  {
   "cell_type": "code",
   "execution_count": 107,
   "metadata": {
    "collapsed": false
   },
   "outputs": [],
   "source": [
    "d_words = get_median(n_words, ppl, 'median_words')"
   ]
  },
  {
   "cell_type": "code",
   "execution_count": 97,
   "metadata": {
    "collapsed": false
   },
   "outputs": [
    {
     "data": {
      "text/plain": [
       "True"
      ]
     },
     "execution_count": 97,
     "metadata": {},
     "output_type": "execute_result"
    }
   ],
   "source": [
    "d_words.keys() == d_int.keys()"
   ]
  },
  {
   "cell_type": "code",
   "execution_count": 130,
   "metadata": {
    "collapsed": false
   },
   "outputs": [],
   "source": [
    "cols = n_words.columns.tolist()"
   ]
  },
  {
   "cell_type": "code",
   "execution_count": 131,
   "metadata": {
    "collapsed": false
   },
   "outputs": [],
   "source": [
    "cols.extend(['what'])"
   ]
  },
  {
   "cell_type": "code",
   "execution_count": 132,
   "metadata": {
    "collapsed": true
   },
   "outputs": [],
   "source": [
    "medians = pd.DataFrame(columns=cols)"
   ]
  },
  {
   "cell_type": "code",
   "execution_count": 138,
   "metadata": {
    "collapsed": false
   },
   "outputs": [],
   "source": [
    "medians = medians.append(d_int, ignore_index=True).append(d_words, ignore_index=True)"
   ]
  },
  {
   "cell_type": "code",
   "execution_count": 140,
   "metadata": {
    "collapsed": false
   },
   "outputs": [],
   "source": [
    "medians = medians.set_index('what')"
   ]
  },
  {
   "cell_type": "code",
   "execution_count": 142,
   "metadata": {
    "collapsed": false
   },
   "outputs": [],
   "source": [
    "medians.to_csv('data/medians.csv')"
   ]
  },
  {
   "cell_type": "code",
   "execution_count": 395,
   "metadata": {
    "collapsed": false
   },
   "outputs": [
    {
     "data": {
      "text/plain": [
       "'de Buman'"
      ]
     },
     "execution_count": 395,
     "metadata": {},
     "output_type": "execute_result"
    }
   ],
   "source": [
    "ppl.loc[2593].LastName"
   ]
  },
  {
   "cell_type": "code",
   "execution_count": 397,
   "metadata": {
    "collapsed": false
   },
   "outputs": [
    {
     "data": {
      "text/html": [
       "<div>\n",
       "<table border=\"1\" class=\"dataframe\">\n",
       "  <thead>\n",
       "    <tr style=\"text-align: right;\">\n",
       "      <th></th>\n",
       "      <th>PersonNumber</th>\n",
       "      <th>FirstName</th>\n",
       "      <th>LastName</th>\n",
       "      <th>GenderAsString</th>\n",
       "      <th>DateOfBirth</th>\n",
       "      <th>Age</th>\n",
       "      <th>AgeCategory</th>\n",
       "      <th>AgeCategoryText</th>\n",
       "      <th>NativeLanguage</th>\n",
       "      <th>CantonAbbreviation</th>\n",
       "      <th>CantonName</th>\n",
       "      <th>CouncilAbbreviation</th>\n",
       "      <th>DateElection</th>\n",
       "      <th>DateJoining</th>\n",
       "      <th>ParlGroupAbbreviation</th>\n",
       "      <th>ParlGroupName</th>\n",
       "      <th>ParlGroupFunctionText</th>\n",
       "      <th>PartyAbbreviation</th>\n",
       "      <th>PartyName</th>\n",
       "      <th>FirstSession</th>\n",
       "      <th>FirstSessionDate</th>\n",
       "      <th>Seniority</th>\n",
       "      <th>TotalWords</th>\n",
       "      <th>NbrSessions</th>\n",
       "      <th>TotalInterventions</th>\n",
       "      <th>InterventionPerSession</th>\n",
       "    </tr>\n",
       "    <tr>\n",
       "      <th>PersonIdCode</th>\n",
       "      <th></th>\n",
       "      <th></th>\n",
       "      <th></th>\n",
       "      <th></th>\n",
       "      <th></th>\n",
       "      <th></th>\n",
       "      <th></th>\n",
       "      <th></th>\n",
       "      <th></th>\n",
       "      <th></th>\n",
       "      <th></th>\n",
       "      <th></th>\n",
       "      <th></th>\n",
       "      <th></th>\n",
       "      <th></th>\n",
       "      <th></th>\n",
       "      <th></th>\n",
       "      <th></th>\n",
       "      <th></th>\n",
       "      <th></th>\n",
       "      <th></th>\n",
       "      <th></th>\n",
       "      <th></th>\n",
       "      <th></th>\n",
       "      <th></th>\n",
       "      <th></th>\n",
       "    </tr>\n",
       "  </thead>\n",
       "  <tbody>\n",
       "    <tr>\n",
       "      <th>2666</th>\n",
       "      <td>3830</td>\n",
       "      <td>Marina</td>\n",
       "      <td>Carobbio Guscetti</td>\n",
       "      <td>f</td>\n",
       "      <td>12.06.1966</td>\n",
       "      <td>50</td>\n",
       "      <td>4</td>\n",
       "      <td>50-59</td>\n",
       "      <td>I</td>\n",
       "      <td>TI</td>\n",
       "      <td>Tessin</td>\n",
       "      <td>CN</td>\n",
       "      <td>2015-10-18T00:00:00</td>\n",
       "      <td>2015-11-30T00:00:00</td>\n",
       "      <td>S</td>\n",
       "      <td>Groupe socialiste</td>\n",
       "      <td>Membre</td>\n",
       "      <td>PSS</td>\n",
       "      <td>Parti socialiste suisse</td>\n",
       "      <td>4717</td>\n",
       "      <td>2007-06-04</td>\n",
       "      <td>3496</td>\n",
       "      <td>112343</td>\n",
       "      <td>47</td>\n",
       "      <td>265</td>\n",
       "      <td>5.638298</td>\n",
       "    </tr>\n",
       "  </tbody>\n",
       "</table>\n",
       "</div>"
      ],
      "text/plain": [
       "              PersonNumber FirstName           LastName GenderAsString  \\\n",
       "PersonIdCode                                                             \n",
       "2666                  3830    Marina  Carobbio Guscetti              f   \n",
       "\n",
       "             DateOfBirth  Age  AgeCategory AgeCategoryText NativeLanguage  \\\n",
       "PersonIdCode                                                                \n",
       "2666          12.06.1966   50            4           50-59              I   \n",
       "\n",
       "             CantonAbbreviation CantonName CouncilAbbreviation  \\\n",
       "PersonIdCode                                                     \n",
       "2666                         TI     Tessin                  CN   \n",
       "\n",
       "                     DateElection          DateJoining ParlGroupAbbreviation  \\\n",
       "PersonIdCode                                                                   \n",
       "2666          2015-10-18T00:00:00  2015-11-30T00:00:00                     S   \n",
       "\n",
       "                  ParlGroupName ParlGroupFunctionText PartyAbbreviation  \\\n",
       "PersonIdCode                                                              \n",
       "2666          Groupe socialiste                Membre               PSS   \n",
       "\n",
       "                            PartyName  FirstSession FirstSessionDate  \\\n",
       "PersonIdCode                                                           \n",
       "2666          Parti socialiste suisse          4717       2007-06-04   \n",
       "\n",
       "              Seniority  TotalWords  NbrSessions  TotalInterventions  \\\n",
       "PersonIdCode                                                           \n",
       "2666               3496      112343           47                 265   \n",
       "\n",
       "              InterventionPerSession  \n",
       "PersonIdCode                          \n",
       "2666                        5.638298  "
      ]
     },
     "execution_count": 397,
     "metadata": {},
     "output_type": "execute_result"
    }
   ],
   "source": [
    "ppl.loc[ppl.LastName == 'Carobbio Guscetti']"
   ]
  },
  {
   "cell_type": "code",
   "execution_count": 27,
   "metadata": {
    "collapsed": false
   },
   "outputs": [
    {
     "name": "stdout",
     "output_type": "stream",
     "text": [
      "2061 0\n",
      "2129 2\n",
      "2143 3\n",
      "2147 9\n",
      "2287 3\n",
      "bitch\n",
      "2292 2\n",
      "2310 0\n",
      "2323 2\n",
      "2328 2\n",
      "2370 2\n",
      "2372 0\n",
      "2385 6\n",
      "2405 1\n",
      "2417 0\n",
      "2501 0\n",
      "2510 0\n",
      "2525 0\n",
      "2530 0\n",
      "2534 1\n",
      "2536 0\n",
      "2541 0\n",
      "2546 0\n",
      "2561 0\n",
      "2565 0\n",
      "2569 0\n",
      "2573 0\n",
      "2575 0\n",
      "2580 0\n",
      "2583 0\n",
      "2584 0\n",
      "2585 0\n",
      "2588 0\n",
      "2589 0\n",
      "2593 0\n",
      "2594 0\n",
      "2597 0\n",
      "2600 0\n",
      "2601 0\n",
      "2608 0\n",
      "2613 0\n",
      "2614 0\n",
      "2616 0\n",
      "2617 0\n",
      "2618 0\n",
      "2619 0\n",
      "2621 0\n",
      "2623 0\n",
      "2627 0\n",
      "2629 0\n",
      "2630 0\n",
      "2631 0\n",
      "2632 0\n",
      "2638 0\n",
      "2641 0\n",
      "2642 0\n",
      "2646 0\n",
      "2647 0\n",
      "2648 0\n",
      "2652 0\n",
      "2654 0\n",
      "2657 0\n",
      "2660 0\n",
      "2661 0\n",
      "2664 0\n",
      "2666 0\n",
      "2667 0\n",
      "2669 0\n",
      "2670 0\n",
      "2674 0\n",
      "2675 0\n",
      "2678 0\n",
      "2679 0\n",
      "2680 0\n",
      "2681 0\n",
      "2682 0\n",
      "2683 0\n",
      "2685 0\n",
      "2686 0\n",
      "2688 0\n",
      "2689 0\n",
      "2690 0\n",
      "2691 0\n",
      "2693 0\n",
      "2694 0\n",
      "2698 0\n",
      "2700 0\n",
      "2701 0\n",
      "2702 0\n",
      "2704 0\n",
      "2705 0\n",
      "2707 0\n",
      "2708 0\n",
      "2710 0\n",
      "2713 0\n",
      "2715 0\n",
      "2717 0\n",
      "2718 0\n",
      "2719 0\n",
      "2721 0\n",
      "2723 0\n",
      "2724 0\n",
      "2726 0\n",
      "2728 0\n",
      "2735 0\n",
      "2738 0\n",
      "2740 0\n",
      "2741 0\n",
      "2743 0\n",
      "2744 0\n",
      "2745 0\n",
      "2747 0\n",
      "2748 0\n",
      "2750 0\n",
      "2751 0\n",
      "2752 0\n",
      "2754 0\n",
      "2757 0\n",
      "2758 0\n",
      "2759 0\n",
      "2760 0\n",
      "2761 0\n",
      "2762 0\n",
      "2763 0\n",
      "2764 0\n",
      "2765 0\n",
      "2766 0\n",
      "2767 0\n",
      "2768 0\n",
      "2769 0\n",
      "2770 0\n",
      "2771 0\n",
      "2772 0\n",
      "2773 0\n",
      "2774 0\n",
      "2775 0\n",
      "2776 0\n",
      "2777 0\n",
      "2778 0\n",
      "2779 0\n",
      "2780 0\n",
      "2781 0\n",
      "2783 0\n",
      "2784 0\n",
      "2785 0\n",
      "2786 0\n",
      "2787 0\n",
      "2788 0\n",
      "2789 0\n",
      "2790 0\n",
      "2792 0\n",
      "2793 0\n",
      "2795 0\n",
      "2796 0\n",
      "2798 0\n",
      "2799 0\n",
      "3000 0\n",
      "3001 0\n",
      "3002 0\n",
      "3003 0\n",
      "3005 0\n",
      "3007 0\n",
      "3009 0\n",
      "3010 0\n",
      "3012 0\n",
      "3013 0\n",
      "3014 0\n",
      "3016 0\n",
      "3017 0\n",
      "3018 0\n",
      "3019 0\n",
      "3020 0\n",
      "3021 0\n",
      "3023 0\n",
      "3024 0\n",
      "3025 0\n",
      "3026 0\n",
      "3029 0\n",
      "3030 0\n",
      "3033 0\n",
      "3034 0\n",
      "3035 0\n",
      "3036 0\n",
      "3037 0\n",
      "3039 0\n",
      "3040 0\n",
      "3041 0\n",
      "3042 0\n",
      "3043 0\n",
      "3044 0\n",
      "3045 0\n",
      "3046 0\n",
      "3047 0\n",
      "3051 0\n",
      "3052 0\n",
      "3053 0\n",
      "3054 0\n",
      "3055 0\n",
      "3056 0\n",
      "3057 0\n",
      "3058 0\n",
      "3059 0\n",
      "3060 0\n",
      "3061 0\n",
      "3062 0\n",
      "3063 0\n",
      "3064 0\n",
      "3065 0\n",
      "3066 0\n",
      "3067 0\n",
      "3068 0\n",
      "3069 0\n",
      "3070 0\n",
      "3071 0\n",
      "3072 0\n",
      "3073 0\n",
      "3074 0\n",
      "3075 0\n",
      "3076 0\n",
      "3077 0\n",
      "3078 0\n",
      "3079 0\n",
      "3080 0\n",
      "3081 0\n",
      "3082 0\n",
      "3083 0\n",
      "3084 0\n",
      "3085 0\n",
      "3086 0\n",
      "3087 0\n",
      "3088 0\n",
      "3089 0\n",
      "3090 0\n",
      "3091 0\n",
      "3092 0\n",
      "3094 0\n",
      "3095 0\n",
      "3096 0\n",
      "3097 0\n",
      "3098 0\n",
      "3099 0\n",
      "3100 0\n",
      "3101 0\n",
      "3102 0\n",
      "3103 0\n",
      "3104 0\n",
      "3105 0\n",
      "3106 0\n",
      "3107 0\n",
      "3108 0\n",
      "3109 0\n",
      "3110 0\n",
      "3604 0\n"
     ]
    }
   ],
   "source": [
    "for i, j in s.iteritems():\n",
    "    print(i,j)\n",
    "    if i == 2287:\n",
    "        print('bitch')\n",
    "        s.pop(i)"
   ]
  },
  {
   "cell_type": "code",
   "execution_count": 28,
   "metadata": {
    "collapsed": false
   },
   "outputs": [
    {
     "data": {
      "text/plain": [
       "(251,)"
      ]
     },
     "execution_count": 28,
     "metadata": {},
     "output_type": "execute_result"
    }
   ],
   "source": [
    "s.shape"
   ]
  },
  {
   "cell_type": "code",
   "execution_count": null,
   "metadata": {
    "collapsed": true
   },
   "outputs": [],
   "source": []
  }
 ],
 "metadata": {
  "anaconda-cloud": {},
  "kernelspec": {
   "display_name": "Python [conda root]",
   "language": "python",
   "name": "conda-root-py"
  },
  "language_info": {
   "codemirror_mode": {
    "name": "ipython",
    "version": 3
   },
   "file_extension": ".py",
   "mimetype": "text/x-python",
   "name": "python",
   "nbconvert_exporter": "python",
   "pygments_lexer": "ipython3",
   "version": "3.5.2"
  }
 },
 "nbformat": 4,
 "nbformat_minor": 1
}

{
 "cells": [
  {
   "cell_type": "markdown",
   "metadata": {},
   "source": [
    "# Computing the median"
   ]
  },
  {
   "cell_type": "markdown",
   "metadata": {},
   "source": [
    "Works on things like # of words, # of interventions etc. E.g. what's the median # of interventions in 2016?"
   ]
  },
  {
   "cell_type": "code",
   "execution_count": 1,
   "metadata": {
    "collapsed": true
   },
   "outputs": [],
   "source": [
    "import pandas as pd\n",
    "pd.options.display.max_columns = 100\n",
    "import numpy as np\n",
    "\n",
    "int_year = pd.read_csv('data/int_year.csv').set_index('PersonIdCode')\n",
    "\n",
    "n_int = pd.read_csv('data/n_int.csv').set_index('PersonIdCode')\n",
    "\n",
    "ppl = pd.read_csv('data/people_jonas.csv').set_index('PersonIdCode')"
   ]
  },
  {
   "cell_type": "markdown",
   "metadata": {},
   "source": [
    "When computing the median, we need to ignore people who aren't active yet."
   ]
  },
  {
   "cell_type": "markdown",
   "metadata": {},
   "source": [
    "For the DataFrames with **sessions** as columns:"
   ]
  },
  {
   "cell_type": "code",
   "execution_count": 2,
   "metadata": {
    "collapsed": true
   },
   "outputs": [],
   "source": [
    "def get_median(df, ppl, what):\n",
    "    cols = df.columns.tolist()\n",
    "    median_dict = {'what': what}\n",
    "    for col in cols:\n",
    "        sesh = df[col]\n",
    "        sesh = strip_sesh(col, sesh, ppl)\n",
    "        median = sesh.median()\n",
    "        median_dict[col] = median\n",
    "    return median_dict\n",
    "        \n",
    "def strip_sesh(col, sesh, ppl):\n",
    "    #print(sesh.shape)\n",
    "    for idcode, inter in sesh.iteritems():\n",
    "        first_sesh = ppl.loc[idcode, 'FirstSession']\n",
    "        if int(first_sesh) > int(col):\n",
    "            sesh.pop(idcode)\n",
    "    #print('-->'+str(sesh.shape))\n",
    "    return sesh"
   ]
  },
  {
   "cell_type": "markdown",
   "metadata": {},
   "source": [
    "For the DataFrames with **years** as columns:"
   ]
  },
  {
   "cell_type": "code",
   "execution_count": 3,
   "metadata": {
    "collapsed": true
   },
   "outputs": [],
   "source": [
    "def get_median(df, ppl, what):\n",
    "    cols = df.columns.tolist()\n",
    "    median_dict = {'what': what}\n",
    "    for col in cols:\n",
    "        sesh = df[col]\n",
    "        sesh = strip_year(col, sesh, ppl)\n",
    "        median = sesh.median()\n",
    "        median_dict[col] = median\n",
    "    return median_dict\n",
    "        \n",
    "def strip_year(col, sesh, ppl):\n",
    "    #print(sesh.shape)\n",
    "    for idcode, inter in sesh.iteritems():\n",
    "        first_sesh = int(ppl.loc[idcode, 'FirstSessionDate'][:4])\n",
    "        if int(first_sesh) > int(col):\n",
    "            sesh.pop(idcode)\n",
    "    #print('-->'+str(sesh.shape))\n",
    "    return sesh"
   ]
  },
  {
   "cell_type": "code",
   "execution_count": 4,
   "metadata": {
    "collapsed": false
   },
   "outputs": [],
   "source": [
    "median_dict = get_median(int_year, ppl, 'median_interventions')"
   ]
  },
  {
   "cell_type": "markdown",
   "metadata": {},
   "source": [
    "Creating the medians DataFrame"
   ]
  },
  {
   "cell_type": "code",
   "execution_count": 5,
   "metadata": {
    "collapsed": false
   },
   "outputs": [],
   "source": [
    "cols = int_year.columns.tolist()\n",
    "\n",
    "cols.extend(['what'])\n",
    "\n",
    "medians = pd.DataFrame(columns=cols)\n",
    "\n",
    "medians = medians.append(median_dict, ignore_index=True)\n",
    "\n",
    "medians = medians.set_index('what')"
   ]
  },
  {
   "cell_type": "code",
   "execution_count": 6,
   "metadata": {
    "collapsed": false
   },
   "outputs": [
    {
     "data": {
      "text/html": [
       "<div>\n",
       "<table border=\"1\" class=\"dataframe\">\n",
       "  <thead>\n",
       "    <tr style=\"text-align: right;\">\n",
       "      <th></th>\n",
       "      <th>2000</th>\n",
       "      <th>2001</th>\n",
       "      <th>2002</th>\n",
       "      <th>2003</th>\n",
       "      <th>2004</th>\n",
       "      <th>2005</th>\n",
       "      <th>2006</th>\n",
       "      <th>2007</th>\n",
       "      <th>2008</th>\n",
       "      <th>2009</th>\n",
       "      <th>2010</th>\n",
       "      <th>2011</th>\n",
       "      <th>2012</th>\n",
       "      <th>2013</th>\n",
       "      <th>2014</th>\n",
       "      <th>2015</th>\n",
       "      <th>2016</th>\n",
       "    </tr>\n",
       "    <tr>\n",
       "      <th>what</th>\n",
       "      <th></th>\n",
       "      <th></th>\n",
       "      <th></th>\n",
       "      <th></th>\n",
       "      <th></th>\n",
       "      <th></th>\n",
       "      <th></th>\n",
       "      <th></th>\n",
       "      <th></th>\n",
       "      <th></th>\n",
       "      <th></th>\n",
       "      <th></th>\n",
       "      <th></th>\n",
       "      <th></th>\n",
       "      <th></th>\n",
       "      <th></th>\n",
       "      <th></th>\n",
       "    </tr>\n",
       "  </thead>\n",
       "  <tbody>\n",
       "    <tr>\n",
       "      <th>median_interventions</th>\n",
       "      <td>9.0</td>\n",
       "      <td>13.0</td>\n",
       "      <td>17.0</td>\n",
       "      <td>9.0</td>\n",
       "      <td>15.0</td>\n",
       "      <td>16.5</td>\n",
       "      <td>17.0</td>\n",
       "      <td>14.0</td>\n",
       "      <td>17.0</td>\n",
       "      <td>20.5</td>\n",
       "      <td>20.0</td>\n",
       "      <td>16.0</td>\n",
       "      <td>21.0</td>\n",
       "      <td>23.0</td>\n",
       "      <td>23.0</td>\n",
       "      <td>22.0</td>\n",
       "      <td>19.0</td>\n",
       "    </tr>\n",
       "  </tbody>\n",
       "</table>\n",
       "</div>"
      ],
      "text/plain": [
       "                      2000  2001  2002  2003  2004  2005  2006  2007  2008  \\\n",
       "what                                                                         \n",
       "median_interventions   9.0  13.0  17.0   9.0  15.0  16.5  17.0  14.0  17.0   \n",
       "\n",
       "                      2009  2010  2011  2012  2013  2014  2015  2016  \n",
       "what                                                                  \n",
       "median_interventions  20.5  20.0  16.0  21.0  23.0  23.0  22.0  19.0  "
      ]
     },
     "execution_count": 6,
     "metadata": {},
     "output_type": "execute_result"
    }
   ],
   "source": [
    "medians"
   ]
  },
  {
   "cell_type": "markdown",
   "metadata": {},
   "source": [
    "Saving"
   ]
  },
  {
   "cell_type": "code",
   "execution_count": null,
   "metadata": {
    "collapsed": true
   },
   "outputs": [],
   "source": [
    "medians.to_csv('data/year_medians.csv')"
   ]
  }
 ],
 "metadata": {
  "anaconda-cloud": {},
  "kernelspec": {
   "display_name": "Python [conda root]",
   "language": "python",
   "name": "conda-root-py"
  },
  "language_info": {
   "codemirror_mode": {
    "name": "ipython",
    "version": 3
   },
   "file_extension": ".py",
   "mimetype": "text/x-python",
   "name": "python",
   "nbconvert_exporter": "python",
   "pygments_lexer": "ipython3",
   "version": "3.5.2"
  }
 },
 "nbformat": 4,
 "nbformat_minor": 1
}

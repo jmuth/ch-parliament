{
 "cells": [
  {
   "cell_type": "markdown",
   "metadata": {},
   "source": [
    "# Computing the median"
   ]
  },
  {
   "cell_type": "markdown",
   "metadata": {},
   "source": [
    "Works on things like # of words, # of interventions etc. E.g. what's the median # of interventions in 2016?"
   ]
  },
  {
   "cell_type": "code",
   "execution_count": 67,
   "metadata": {
    "collapsed": true
   },
   "outputs": [],
   "source": [
    "import pandas as pd\n",
    "pd.options.display.max_columns = 100\n",
    "import numpy as np\n",
    "\n",
    "int_year = pd.read_csv('new_data/int_year.csv').set_index('PersonIdCode')\n",
    "\n",
    "n_int = pd.read_csv('new_data/n_int.csv').set_index('PersonIdCode')\n",
    "\n",
    "ppl = pd.read_csv('data/people_jonas.csv').set_index('PersonIdCode')"
   ]
  },
  {
   "cell_type": "markdown",
   "metadata": {},
   "source": [
    "When computing the median, we need to ignore people who aren't active yet."
   ]
  },
  {
   "cell_type": "markdown",
   "metadata": {},
   "source": [
    "For the DataFrames with **sessions** as columns:"
   ]
  },
  {
   "cell_type": "code",
   "execution_count": 2,
   "metadata": {
    "collapsed": true
   },
   "outputs": [],
   "source": [
    "def get_median(df, ppl, what):\n",
    "    cols = df.columns.tolist()\n",
    "    median_dict = {'what': what}\n",
    "    for col in cols:\n",
    "        sesh = df[col]\n",
    "        sesh = strip_sesh(col, sesh, ppl)\n",
    "        median = sesh.median()\n",
    "        median_dict[col] = median\n",
    "    return median_dict\n",
    "        \n",
    "def strip_sesh(col, sesh, ppl):\n",
    "    #print(sesh.shape)\n",
    "    for idcode, inter in sesh.iteritems():\n",
    "        first_sesh = ppl.loc[idcode, 'FirstSession']\n",
    "        if int(first_sesh) > int(col):\n",
    "            sesh.pop(idcode)\n",
    "    #print('-->'+str(sesh.shape))\n",
    "    return sesh"
   ]
  },
  {
   "cell_type": "markdown",
   "metadata": {},
   "source": [
    "For the DataFrames with **years** as columns:"
   ]
  },
  {
   "cell_type": "code",
   "execution_count": 68,
   "metadata": {
    "collapsed": false
   },
   "outputs": [],
   "source": [
    "def get_median(df, ppl, what, council):\n",
    "    cols = df.columns.tolist()\n",
    "    median_dict = {'what': what}\n",
    "    for col in cols:\n",
    "        sesh = df[col]\n",
    "        sesh = strip_year(col, sesh, ppl, council)\n",
    "        median = sesh.median()\n",
    "        median_dict[col] = median\n",
    "    return median_dict\n",
    "        \n",
    "def strip_year(col, sesh, ppl, council):\n",
    "    #print(sesh.shape)\n",
    "    for idcode, inter in sesh.iteritems():\n",
    "        first_sesh = int(ppl.loc[idcode, 'FirstSessionDate'][:4])\n",
    "        this_council = ppl.loc[idcode, 'CouncilAbbreviation']\n",
    "        if (int(first_sesh) > int(col)) or (this_council != council):\n",
    "            sesh.pop(idcode)\n",
    "    #print('-->'+str(sesh.shape))\n",
    "    return sesh"
   ]
  },
  {
   "cell_type": "markdown",
   "metadata": {},
   "source": [
    "Weirdly have to re-import int_year before computing each dict"
   ]
  },
  {
   "cell_type": "code",
   "execution_count": 69,
   "metadata": {
    "collapsed": false
   },
   "outputs": [],
   "source": [
    "#median_dict_CE = get_median(int_year, ppl, 'CE_median_interventions', 'CE')\n",
    "#median_dict_CN = get_median(int_year, ppl, 'CN_median_interventions', 'CN')\n",
    "median_dict_CF = get_median(int_year, ppl, 'CF_median_interventions', 'CF')"
   ]
  },
  {
   "cell_type": "code",
   "execution_count": 71,
   "metadata": {
    "collapsed": false
   },
   "outputs": [
    {
     "data": {
      "text/plain": [
       "{'2000': 22.0,\n",
       " '2001': 12.0,\n",
       " '2002': 31.0,\n",
       " '2003': 19.5,\n",
       " '2004': 24.0,\n",
       " '2005': 27.0,\n",
       " '2006': 33.0,\n",
       " '2007': 20.0,\n",
       " '2008': 26.0,\n",
       " '2009': 94.0,\n",
       " '2010': 96.0,\n",
       " '2011': 230.0,\n",
       " '2012': 210.0,\n",
       " '2013': 172.0,\n",
       " '2014': 208.0,\n",
       " '2015': 190.0,\n",
       " '2016': 243.0,\n",
       " 'what': 'CF_median_interventions'}"
      ]
     },
     "execution_count": 71,
     "metadata": {},
     "output_type": "execute_result"
    }
   ],
   "source": [
    "median_dict_CF"
   ]
  },
  {
   "cell_type": "markdown",
   "metadata": {},
   "source": [
    "Creating the medians DataFrame"
   ]
  },
  {
   "cell_type": "code",
   "execution_count": 72,
   "metadata": {
    "collapsed": false
   },
   "outputs": [],
   "source": [
    "cols = int_year.columns.tolist()\n",
    "\n",
    "cols.extend(['what'])\n",
    "\n",
    "medians = pd.DataFrame(columns=cols)\n",
    "\n",
    "medians = medians.append(median_dict_CE, ignore_index=True)\n",
    "medians = medians.append(median_dict_CN, ignore_index=True)\n",
    "medians = medians.append(median_dict_CF, ignore_index=True)\n",
    "\n",
    "medians = medians.set_index('what')"
   ]
  },
  {
   "cell_type": "code",
   "execution_count": 73,
   "metadata": {
    "collapsed": false,
    "scrolled": true
   },
   "outputs": [
    {
     "data": {
      "text/html": [
       "<div>\n",
       "<table border=\"1\" class=\"dataframe\">\n",
       "  <thead>\n",
       "    <tr style=\"text-align: right;\">\n",
       "      <th></th>\n",
       "      <th>2000</th>\n",
       "      <th>2001</th>\n",
       "      <th>2002</th>\n",
       "      <th>2003</th>\n",
       "      <th>2004</th>\n",
       "      <th>2005</th>\n",
       "      <th>2006</th>\n",
       "      <th>2007</th>\n",
       "      <th>2008</th>\n",
       "      <th>2009</th>\n",
       "      <th>2010</th>\n",
       "      <th>2011</th>\n",
       "      <th>2012</th>\n",
       "      <th>2013</th>\n",
       "      <th>2014</th>\n",
       "      <th>2015</th>\n",
       "      <th>2016</th>\n",
       "    </tr>\n",
       "    <tr>\n",
       "      <th>what</th>\n",
       "      <th></th>\n",
       "      <th></th>\n",
       "      <th></th>\n",
       "      <th></th>\n",
       "      <th></th>\n",
       "      <th></th>\n",
       "      <th></th>\n",
       "      <th></th>\n",
       "      <th></th>\n",
       "      <th></th>\n",
       "      <th></th>\n",
       "      <th></th>\n",
       "      <th></th>\n",
       "      <th></th>\n",
       "      <th></th>\n",
       "      <th></th>\n",
       "      <th></th>\n",
       "    </tr>\n",
       "  </thead>\n",
       "  <tbody>\n",
       "    <tr>\n",
       "      <th>CE_median_interventions</th>\n",
       "      <td>15.5</td>\n",
       "      <td>19.0</td>\n",
       "      <td>13.0</td>\n",
       "      <td>15.0</td>\n",
       "      <td>21.0</td>\n",
       "      <td>16.0</td>\n",
       "      <td>16.0</td>\n",
       "      <td>14.0</td>\n",
       "      <td>16.5</td>\n",
       "      <td>27.0</td>\n",
       "      <td>37.0</td>\n",
       "      <td>25.5</td>\n",
       "      <td>38.0</td>\n",
       "      <td>36.0</td>\n",
       "      <td>43.0</td>\n",
       "      <td>41.0</td>\n",
       "      <td>38.0</td>\n",
       "    </tr>\n",
       "    <tr>\n",
       "      <th>CN_median_interventions</th>\n",
       "      <td>8.0</td>\n",
       "      <td>10.0</td>\n",
       "      <td>16.0</td>\n",
       "      <td>3.5</td>\n",
       "      <td>12.0</td>\n",
       "      <td>17.0</td>\n",
       "      <td>17.0</td>\n",
       "      <td>13.0</td>\n",
       "      <td>17.0</td>\n",
       "      <td>17.0</td>\n",
       "      <td>16.5</td>\n",
       "      <td>14.0</td>\n",
       "      <td>16.0</td>\n",
       "      <td>17.0</td>\n",
       "      <td>19.0</td>\n",
       "      <td>19.0</td>\n",
       "      <td>21.0</td>\n",
       "    </tr>\n",
       "    <tr>\n",
       "      <th>CF_median_interventions</th>\n",
       "      <td>22.0</td>\n",
       "      <td>12.0</td>\n",
       "      <td>31.0</td>\n",
       "      <td>19.5</td>\n",
       "      <td>24.0</td>\n",
       "      <td>27.0</td>\n",
       "      <td>33.0</td>\n",
       "      <td>20.0</td>\n",
       "      <td>26.0</td>\n",
       "      <td>94.0</td>\n",
       "      <td>96.0</td>\n",
       "      <td>230.0</td>\n",
       "      <td>210.0</td>\n",
       "      <td>172.0</td>\n",
       "      <td>208.0</td>\n",
       "      <td>190.0</td>\n",
       "      <td>243.0</td>\n",
       "    </tr>\n",
       "  </tbody>\n",
       "</table>\n",
       "</div>"
      ],
      "text/plain": [
       "                         2000  2001  2002  2003  2004  2005  2006  2007  2008  \\\n",
       "what                                                                            \n",
       "CE_median_interventions  15.5  19.0  13.0  15.0  21.0  16.0  16.0  14.0  16.5   \n",
       "CN_median_interventions   8.0  10.0  16.0   3.5  12.0  17.0  17.0  13.0  17.0   \n",
       "CF_median_interventions  22.0  12.0  31.0  19.5  24.0  27.0  33.0  20.0  26.0   \n",
       "\n",
       "                         2009  2010   2011   2012   2013   2014   2015   2016  \n",
       "what                                                                           \n",
       "CE_median_interventions  27.0  37.0   25.5   38.0   36.0   43.0   41.0   38.0  \n",
       "CN_median_interventions  17.0  16.5   14.0   16.0   17.0   19.0   19.0   21.0  \n",
       "CF_median_interventions  94.0  96.0  230.0  210.0  172.0  208.0  190.0  243.0  "
      ]
     },
     "execution_count": 73,
     "metadata": {},
     "output_type": "execute_result"
    }
   ],
   "source": [
    "medians"
   ]
  },
  {
   "cell_type": "markdown",
   "metadata": {},
   "source": [
    "Saving"
   ]
  },
  {
   "cell_type": "code",
   "execution_count": 74,
   "metadata": {
    "collapsed": true
   },
   "outputs": [],
   "source": [
    "medians.to_csv('new_data/year_medians.csv')"
   ]
  },
  {
   "cell_type": "code",
   "execution_count": null,
   "metadata": {
    "collapsed": true
   },
   "outputs": [],
   "source": []
  }
 ],
 "metadata": {
  "anaconda-cloud": {},
  "kernelspec": {
   "display_name": "Python [conda root]",
   "language": "python",
   "name": "conda-root-py"
  },
  "language_info": {
   "codemirror_mode": {
    "name": "ipython",
    "version": 3
   },
   "file_extension": ".py",
   "mimetype": "text/x-python",
   "name": "python",
   "nbconvert_exporter": "python",
   "pygments_lexer": "ipython3",
   "version": "3.5.2"
  }
 },
 "nbformat": 4,
 "nbformat_minor": 1
}

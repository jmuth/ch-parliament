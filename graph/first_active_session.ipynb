{
 "cells": [
  {
   "cell_type": "code",
   "execution_count": 101,
   "metadata": {
    "collapsed": true
   },
   "outputs": [],
   "source": [
    "import pandas as pd\n",
    "pd.options.display.max_columns = 100\n",
    "import json, itertools\n",
    "import time\n",
    "import numpy as np\n",
    "import matplotlib.pyplot as plt\n",
    "import utils as ut\n",
    "from datetime import datetime, timedelta"
   ]
  },
  {
   "cell_type": "markdown",
   "metadata": {},
   "source": [
    "# Figuring out number of active sessions"
   ]
  },
  {
   "cell_type": "code",
   "execution_count": 89,
   "metadata": {
    "collapsed": true
   },
   "outputs": [],
   "source": [
    "n_words = pd.read_csv('data/n_words_clean.csv').set_index('PersonIdCode')"
   ]
  },
  {
   "cell_type": "markdown",
   "metadata": {},
   "source": [
    "We build a new DataFrame where we'll store our results."
   ]
  },
  {
   "cell_type": "code",
   "execution_count": 90,
   "metadata": {
    "collapsed": false
   },
   "outputs": [
    {
     "data": {
      "text/html": [
       "<div>\n",
       "<table border=\"1\" class=\"dataframe\">\n",
       "  <thead>\n",
       "    <tr style=\"text-align: right;\">\n",
       "      <th></th>\n",
       "      <th>FirstSession</th>\n",
       "    </tr>\n",
       "    <tr>\n",
       "      <th>PersonIdCode</th>\n",
       "      <th></th>\n",
       "    </tr>\n",
       "  </thead>\n",
       "  <tbody>\n",
       "    <tr>\n",
       "      <th>2023</th>\n",
       "      <td>0</td>\n",
       "    </tr>\n",
       "    <tr>\n",
       "      <th>2061</th>\n",
       "      <td>0</td>\n",
       "    </tr>\n",
       "    <tr>\n",
       "      <th>2129</th>\n",
       "      <td>0</td>\n",
       "    </tr>\n",
       "    <tr>\n",
       "      <th>2143</th>\n",
       "      <td>0</td>\n",
       "    </tr>\n",
       "    <tr>\n",
       "      <th>2147</th>\n",
       "      <td>0</td>\n",
       "    </tr>\n",
       "  </tbody>\n",
       "</table>\n",
       "</div>"
      ],
      "text/plain": [
       "              FirstSession\n",
       "PersonIdCode              \n",
       "2023                     0\n",
       "2061                     0\n",
       "2129                     0\n",
       "2143                     0\n",
       "2147                     0"
      ]
     },
     "execution_count": 90,
     "metadata": {},
     "output_type": "execute_result"
    }
   ],
   "source": [
    "df = pd.DataFrame(columns=['PersonIdCode', 'FirstSession'])\n",
    "df.PersonIdCode = n_words.index\n",
    "df.set_index('PersonIdCode', inplace=True)\n",
    "df.fillna(0, inplace=True)\n",
    "df.head()"
   ]
  },
  {
   "cell_type": "markdown",
   "metadata": {},
   "source": [
    "We iterate through rows and for each member we spot his/her first active sessions, i.e. session where he/she spoke."
   ]
  },
  {
   "cell_type": "code",
   "execution_count": 91,
   "metadata": {
    "collapsed": false
   },
   "outputs": [
    {
     "name": "stdout",
     "output_type": "stream",
     "text": [
      "2023 4802\n",
      "2061 4603\n",
      "2129 4601\n",
      "2143 4601\n",
      "2147 4601\n",
      "2287 4601\n",
      "2292 4601\n",
      "2310 4609\n",
      "2323 4601\n",
      "2328 4601\n",
      "2370 4601\n",
      "2372 4602\n",
      "2385 4601\n",
      "2405 4601\n",
      "2417 4901\n",
      "2501 4602\n",
      "2510 4602\n",
      "2525 4603\n",
      "2530 4602\n",
      "2534 4601\n",
      "2536 4602\n",
      "2541 4602\n",
      "2546 4605\n",
      "2561 4602\n",
      "2565 4606\n",
      "2569 4611\n",
      "2573 4614\n",
      "2575 4616\n",
      "2580 4620\n",
      "2583 4701\n",
      "2584 4703\n",
      "2585 4702\n",
      "2588 4705\n",
      "2589 4702\n",
      "2593 4701\n",
      "2594 4702\n",
      "2597 4703\n",
      "2600 4702\n",
      "2601 4702\n",
      "2608 4702\n",
      "2613 4701\n",
      "2614 4703\n",
      "2616 4703\n",
      "2617 4701\n",
      "2618 4707\n",
      "2619 4702\n",
      "2621 4702\n",
      "2623 4703\n",
      "2627 4702\n",
      "2629 4704\n",
      "2630 4702\n",
      "2631 4702\n",
      "2632 4702\n",
      "2638 4703\n",
      "2641 4701\n",
      "2642 4702\n",
      "2646 4709\n",
      "2647 4707\n",
      "2648 4706\n",
      "2652 4711\n",
      "2654 4712\n",
      "2657 4715\n",
      "2660 4716\n",
      "2661 4716\n",
      "2664 4717\n",
      "2666 4717\n",
      "2667 4718\n",
      "2669 4718\n",
      "2670 4802\n",
      "2674 4801\n",
      "2675 4802\n",
      "2678 4802\n",
      "2679 4802\n",
      "2680 4802\n",
      "2681 4801\n",
      "2682 4804\n",
      "2683 4801\n",
      "2685 4801\n",
      "2686 4804\n",
      "2688 4801\n",
      "2689 4804\n",
      "2690 4802\n",
      "2691 4801\n",
      "2693 4801\n",
      "2694 4801\n",
      "2698 4801\n",
      "2700 4801\n",
      "2701 4802\n",
      "2702 4801\n",
      "2704 4801\n",
      "2705 4802\n",
      "2707 4802\n",
      "2708 4802\n",
      "2710 4801\n",
      "2713 4802\n",
      "2715 4801\n",
      "2717 4802\n",
      "2718 4801\n",
      "2719 4801\n",
      "2721 4802\n",
      "2723 4806\n",
      "2724 4801\n",
      "2726 4801\n",
      "2728 4802\n",
      "2735 4807\n",
      "2738 4812\n",
      "2740 4815\n",
      "2741 4814\n",
      "2743 4814\n",
      "2744 4814\n",
      "2745 4814\n",
      "2747 4815\n",
      "2748 4817\n",
      "2750 4820\n",
      "2751 4819\n",
      "2752 4901\n",
      "2754 4901\n",
      "2757 4902\n",
      "2758 4901\n",
      "2759 4902\n",
      "2760 4901\n",
      "2761 4904\n",
      "2762 4902\n",
      "2763 4902\n",
      "2764 4901\n",
      "2765 4901\n",
      "2766 4902\n",
      "2767 4901\n",
      "2768 4901\n",
      "2769 4902\n",
      "2770 4901\n",
      "2771 4902\n",
      "2772 4902\n",
      "2773 4902\n",
      "2774 4901\n",
      "2775 4902\n",
      "2776 4901\n",
      "2777 4902\n",
      "2778 4901\n",
      "2779 4901\n",
      "2780 4902\n",
      "2781 4902\n",
      "2783 4902\n",
      "2784 4905\n",
      "2785 4901\n",
      "2786 4902\n",
      "2787 4902\n",
      "2788 4902\n",
      "2789 4902\n",
      "2790 4902\n",
      "2792 4901\n",
      "2793 4902\n",
      "2795 4901\n",
      "2796 4901\n",
      "2798 4901\n",
      "2799 4901\n",
      "3000 4902\n",
      "3001 4901\n",
      "3002 4902\n",
      "3003 4902\n",
      "3005 4902\n",
      "3007 4902\n",
      "3009 4902\n",
      "3010 4901\n",
      "3012 4902\n",
      "3013 4902\n",
      "3014 4904\n",
      "3016 4902\n",
      "3017 4902\n",
      "3018 4903\n",
      "3019 4901\n",
      "3020 4901\n",
      "3021 4904\n",
      "3023 4902\n",
      "3024 4902\n",
      "3025 4901\n",
      "3026 4904\n",
      "3029 4906\n",
      "3030 4906\n",
      "3033 4907\n",
      "3034 4907\n",
      "3035 4907\n",
      "3036 4911\n",
      "3037 4911\n",
      "3039 4911\n",
      "3040 4912\n",
      "3041 4914\n",
      "3042 4913\n",
      "3043 4914\n",
      "3044 4915\n",
      "3045 4915\n",
      "3046 4914\n",
      "3047 4915\n",
      "3051 4920\n",
      "3052 5002\n",
      "3053 5001\n",
      "3054 5002\n",
      "3055 5001\n",
      "3056 5004\n",
      "3057 5002\n",
      "3058 5002\n",
      "3059 5001\n",
      "3060 5001\n",
      "3061 5001\n",
      "3062 5001\n",
      "3063 5004\n",
      "3064 5005\n",
      "3065 5002\n",
      "3066 5002\n",
      "3067 5003\n",
      "3068 5001\n",
      "3069 5002\n",
      "3070 5002\n",
      "3071 5001\n",
      "3072 5002\n",
      "3073 5002\n",
      "3074 5004\n",
      "3075 5002\n",
      "3076 5002\n",
      "3077 5002\n",
      "3078 5002\n",
      "3080 5001\n",
      "3082 5001\n",
      "3083 5002\n",
      "3084 5002\n",
      "3085 5002\n",
      "3086 5001\n",
      "3087 5001\n",
      "3088 5002\n",
      "3089 5001\n",
      "3090 5001\n",
      "3091 5002\n",
      "3092 5001\n",
      "3094 5001\n",
      "3095 5002\n",
      "3096 5005\n",
      "3097 5002\n",
      "3098 5001\n",
      "3100 5002\n",
      "3101 5003\n",
      "3102 5002\n",
      "3103 5002\n",
      "3104 5001\n",
      "3105 5002\n",
      "3106 5002\n",
      "3107 5001\n",
      "3108 5002\n",
      "3109 5001\n",
      "3110 5001\n",
      "3604 4901\n"
     ]
    }
   ],
   "source": [
    "for row in n_words.iterrows():\n",
    "    mmbr = row[0]\n",
    "    row = row[1]\n",
    "    for i,j in row.iteritems():\n",
    "        if j > 0:\n",
    "            df.loc[mmbr, 'FirstSession'] = i\n",
    "            print(mmbr, i)\n",
    "            break"
   ]
  },
  {
   "cell_type": "code",
   "execution_count": 92,
   "metadata": {
    "collapsed": false
   },
   "outputs": [
    {
     "data": {
      "text/html": [
       "<div>\n",
       "<table border=\"1\" class=\"dataframe\">\n",
       "  <thead>\n",
       "    <tr style=\"text-align: right;\">\n",
       "      <th></th>\n",
       "      <th>FirstSession</th>\n",
       "    </tr>\n",
       "    <tr>\n",
       "      <th>PersonIdCode</th>\n",
       "      <th></th>\n",
       "    </tr>\n",
       "  </thead>\n",
       "  <tbody>\n",
       "    <tr>\n",
       "      <th>2023</th>\n",
       "      <td>4802</td>\n",
       "    </tr>\n",
       "    <tr>\n",
       "      <th>2061</th>\n",
       "      <td>4603</td>\n",
       "    </tr>\n",
       "    <tr>\n",
       "      <th>2129</th>\n",
       "      <td>4601</td>\n",
       "    </tr>\n",
       "    <tr>\n",
       "      <th>2143</th>\n",
       "      <td>4601</td>\n",
       "    </tr>\n",
       "    <tr>\n",
       "      <th>2147</th>\n",
       "      <td>4601</td>\n",
       "    </tr>\n",
       "  </tbody>\n",
       "</table>\n",
       "</div>"
      ],
      "text/plain": [
       "             FirstSession\n",
       "PersonIdCode             \n",
       "2023                 4802\n",
       "2061                 4603\n",
       "2129                 4601\n",
       "2143                 4601\n",
       "2147                 4601"
      ]
     },
     "execution_count": 92,
     "metadata": {},
     "output_type": "execute_result"
    }
   ],
   "source": [
    "df.head()"
   ]
  },
  {
   "cell_type": "markdown",
   "metadata": {},
   "source": [
    "Now we find out the date of these sessions."
   ]
  },
  {
   "cell_type": "code",
   "execution_count": 93,
   "metadata": {
    "collapsed": false
   },
   "outputs": [],
   "source": [
    "df_sesh = pd.read_csv('data/sessions.csv')"
   ]
  },
  {
   "cell_type": "code",
   "execution_count": 94,
   "metadata": {
    "collapsed": true
   },
   "outputs": [],
   "source": [
    "df['FirstSessionDate'] = 0"
   ]
  },
  {
   "cell_type": "code",
   "execution_count": 97,
   "metadata": {
    "collapsed": false
   },
   "outputs": [],
   "source": [
    "for row in df.iterrows():\n",
    "    mmbr = row[0]\n",
    "    row = row[1]\n",
    "    sesh = row['FirstSession']\n",
    "    if int(sesh) > 0:\n",
    "        date = df_sesh.loc[df_sesh.ID == int(sesh)]['StartDate']\n",
    "        date = date.values[0]\n",
    "        date = date[:date.find('T')]\n",
    "        df.loc[mmbr, 'FirstSessionDate'] = date"
   ]
  },
  {
   "cell_type": "code",
   "execution_count": 99,
   "metadata": {
    "collapsed": false
   },
   "outputs": [
    {
     "data": {
      "text/html": [
       "<div>\n",
       "<table border=\"1\" class=\"dataframe\">\n",
       "  <thead>\n",
       "    <tr style=\"text-align: right;\">\n",
       "      <th></th>\n",
       "      <th>FirstSession</th>\n",
       "      <th>FirstSessionDate</th>\n",
       "    </tr>\n",
       "    <tr>\n",
       "      <th>PersonIdCode</th>\n",
       "      <th></th>\n",
       "      <th></th>\n",
       "    </tr>\n",
       "  </thead>\n",
       "  <tbody>\n",
       "    <tr>\n",
       "      <th>3107</th>\n",
       "      <td>5001</td>\n",
       "      <td>2015-11-30</td>\n",
       "    </tr>\n",
       "    <tr>\n",
       "      <th>3108</th>\n",
       "      <td>5002</td>\n",
       "      <td>2016-02-29</td>\n",
       "    </tr>\n",
       "    <tr>\n",
       "      <th>3109</th>\n",
       "      <td>5001</td>\n",
       "      <td>2015-11-30</td>\n",
       "    </tr>\n",
       "    <tr>\n",
       "      <th>3110</th>\n",
       "      <td>5001</td>\n",
       "      <td>2015-11-30</td>\n",
       "    </tr>\n",
       "    <tr>\n",
       "      <th>3604</th>\n",
       "      <td>4901</td>\n",
       "      <td>2011-12-05</td>\n",
       "    </tr>\n",
       "  </tbody>\n",
       "</table>\n",
       "</div>"
      ],
      "text/plain": [
       "             FirstSession FirstSessionDate\n",
       "PersonIdCode                              \n",
       "3107                 5001       2015-11-30\n",
       "3108                 5002       2016-02-29\n",
       "3109                 5001       2015-11-30\n",
       "3110                 5001       2015-11-30\n",
       "3604                 4901       2011-12-05"
      ]
     },
     "execution_count": 99,
     "metadata": {},
     "output_type": "execute_result"
    }
   ],
   "source": [
    "df.tail()"
   ]
  },
  {
   "cell_type": "markdown",
   "metadata": {},
   "source": [
    "Next, we compute members' seniority"
   ]
  },
  {
   "cell_type": "code",
   "execution_count": 102,
   "metadata": {
    "collapsed": false
   },
   "outputs": [],
   "source": [
    "today = datetime.now().date()"
   ]
  },
  {
   "cell_type": "code",
   "execution_count": 147,
   "metadata": {
    "collapsed": false
   },
   "outputs": [],
   "source": [
    "def seniority(row):\n",
    "    then = row['FirstSessionDate']\n",
    "    #print(then)\n",
    "    if then != 0:\n",
    "        then = datetime.strptime(then, '%Y-%m-%d').date()\n",
    "        delta = today - then\n",
    "        return int(delta.days)\n",
    "    else:\n",
    "        pass"
   ]
  },
  {
   "cell_type": "code",
   "execution_count": 148,
   "metadata": {
    "collapsed": false
   },
   "outputs": [],
   "source": [
    "df['Seniority'] = df.apply(seniority, axis=1)"
   ]
  },
  {
   "cell_type": "code",
   "execution_count": 150,
   "metadata": {
    "collapsed": false
   },
   "outputs": [],
   "source": [
    "df.fillna(0, inplace=True)"
   ]
  },
  {
   "cell_type": "code",
   "execution_count": 151,
   "metadata": {
    "collapsed": false
   },
   "outputs": [],
   "source": [
    "df['Seniority'] = df['Seniority'].apply(lambda x: int(x))"
   ]
  },
  {
   "cell_type": "code",
   "execution_count": 176,
   "metadata": {
    "collapsed": false
   },
   "outputs": [
    {
     "data": {
      "text/html": [
       "<div>\n",
       "<table border=\"1\" class=\"dataframe\">\n",
       "  <thead>\n",
       "    <tr style=\"text-align: right;\">\n",
       "      <th></th>\n",
       "      <th>FirstSession</th>\n",
       "      <th>FirstSessionDate</th>\n",
       "      <th>Seniority</th>\n",
       "    </tr>\n",
       "    <tr>\n",
       "      <th>PersonIdCode</th>\n",
       "      <th></th>\n",
       "      <th></th>\n",
       "      <th></th>\n",
       "    </tr>\n",
       "  </thead>\n",
       "  <tbody>\n",
       "    <tr>\n",
       "      <th>3107</th>\n",
       "      <td>5001</td>\n",
       "      <td>2015-11-30</td>\n",
       "      <td>395</td>\n",
       "    </tr>\n",
       "    <tr>\n",
       "      <th>3108</th>\n",
       "      <td>5002</td>\n",
       "      <td>2016-02-29</td>\n",
       "      <td>304</td>\n",
       "    </tr>\n",
       "    <tr>\n",
       "      <th>3109</th>\n",
       "      <td>5001</td>\n",
       "      <td>2015-11-30</td>\n",
       "      <td>395</td>\n",
       "    </tr>\n",
       "    <tr>\n",
       "      <th>3110</th>\n",
       "      <td>5001</td>\n",
       "      <td>2015-11-30</td>\n",
       "      <td>395</td>\n",
       "    </tr>\n",
       "    <tr>\n",
       "      <th>3604</th>\n",
       "      <td>4901</td>\n",
       "      <td>2011-12-05</td>\n",
       "      <td>1851</td>\n",
       "    </tr>\n",
       "  </tbody>\n",
       "</table>\n",
       "</div>"
      ],
      "text/plain": [
       "             FirstSession FirstSessionDate  Seniority\n",
       "PersonIdCode                                         \n",
       "3107                 5001       2015-11-30        395\n",
       "3108                 5002       2016-02-29        304\n",
       "3109                 5001       2015-11-30        395\n",
       "3110                 5001       2015-11-30        395\n",
       "3604                 4901       2011-12-05       1851"
      ]
     },
     "execution_count": 176,
     "metadata": {},
     "output_type": "execute_result"
    }
   ],
   "source": [
    "df.tail()"
   ]
  },
  {
   "cell_type": "markdown",
   "metadata": {},
   "source": [
    "Adding this info to the people DataFrame"
   ]
  },
  {
   "cell_type": "code",
   "execution_count": 161,
   "metadata": {
    "collapsed": false
   },
   "outputs": [],
   "source": [
    "ppl = pd.read_csv('data/people_jonas.csv').drop('Unnamed: 0', axis=1).set_index('PersonIdCode')"
   ]
  },
  {
   "cell_type": "code",
   "execution_count": 167,
   "metadata": {
    "collapsed": false
   },
   "outputs": [],
   "source": [
    "ppl.sort_index(inplace=True)"
   ]
  },
  {
   "cell_type": "code",
   "execution_count": 170,
   "metadata": {
    "collapsed": false
   },
   "outputs": [
    {
     "data": {
      "text/plain": [
       "False"
      ]
     },
     "execution_count": 170,
     "metadata": {},
     "output_type": "execute_result"
    }
   ],
   "source": [
    "False in (ppl.index == df.index)"
   ]
  },
  {
   "cell_type": "code",
   "execution_count": 174,
   "metadata": {
    "collapsed": false
   },
   "outputs": [],
   "source": [
    "ppl['FirstSession'] = df['FirstSession']\n",
    "ppl['FirstSessionDate'] = df['FirstSessionDate']\n",
    "ppl['Seniority'] = df['Seniority']"
   ]
  },
  {
   "cell_type": "code",
   "execution_count": 178,
   "metadata": {
    "collapsed": false
   },
   "outputs": [],
   "source": [
    "ppl.to_csv('data/people_jonas.csv')"
   ]
  },
  {
   "cell_type": "code",
   "execution_count": null,
   "metadata": {
    "collapsed": true
   },
   "outputs": [],
   "source": []
  }
 ],
 "metadata": {
  "anaconda-cloud": {},
  "kernelspec": {
   "display_name": "Python [conda root]",
   "language": "python",
   "name": "conda-root-py"
  },
  "language_info": {
   "codemirror_mode": {
    "name": "ipython",
    "version": 3
   },
   "file_extension": ".py",
   "mimetype": "text/x-python",
   "name": "python",
   "nbconvert_exporter": "python",
   "pygments_lexer": "ipython3",
   "version": "3.5.2"
  }
 },
 "nbformat": 4,
 "nbformat_minor": 1
}

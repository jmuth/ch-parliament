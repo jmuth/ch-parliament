{
 "cells": [
  {
   "cell_type": "code",
   "execution_count": 17,
   "metadata": {
    "collapsed": false
   },
   "outputs": [
    {
     "name": "stdout",
     "output_type": "stream",
     "text": [
      "The autoreload extension is already loaded. To reload it, use:\n",
      "  %reload_ext autoreload\n"
     ]
    }
   ],
   "source": [
    "# Import some useful libraries\n",
    "%matplotlib inline\n",
    "import pandas as pd\n",
    "import urllib\n",
    "import xml.etree.ElementTree as ET\n",
    "import numpy as np\n",
    "import nltk\n",
    "import rake\n",
    "from bs4 import BeautifulSoup as BSoup\n",
    "import nlp_helpers\n",
    "import gensim\n",
    "import cleaner\n",
    "from cleaner import Cleaner\n",
    "from classifier import *\n",
    "%load_ext autoreload\n",
    "%autoreload 2\n",
    "\n",
    "# display all pandas columns\n",
    "pd.set_option('display.max_columns', 100)"
   ]
  },
  {
   "cell_type": "markdown",
   "metadata": {},
   "source": [
    "# NLP content extraction with GENSIM\n",
    "\n",
    "First attempt of transcript content extraction\n",
    "(Tokenization|Parser|Text Segmentation|Word Break rules|Text Analysis)\n",
    "\n",
    "http://gerardnico.com/wiki/natural_language/parser\n",
    "\n",
    "\n",
    "**Tested: **\n",
    "* RAKE: good but basic, needs a lot of by-hand process (stemming, ...) but perfectly controlled so we can control everything\n",
    "* TextRank: in python2... too lazy to change my path ^^\n",
    "* KEA: Do not seem to be still maintained \n",
    "* MAUI: Improvement of KEA, works with supervised learning and controlled vocabulary. Works with java"
   ]
  },
  {
   "cell_type": "markdown",
   "metadata": {},
   "source": [
    "## Gensim\n",
    "\n",
    "https://rstudio-pubs-static.s3.amazonaws.com/79360_850b2a69980c4488b1db95987a24867a.html\n",
    "\n",
    "* NLTK, a natural language toolkit for Python. A useful package for any natural language processing.\n",
    "    * For Mac/Unix with pip: $ sudo pip install -U nltk.\n",
    "    \n",
    "* stop_words, a Python package containing stop words.\n",
    "    * For Mac/Unix with pip: $ sudo pip install stop-words.\n",
    "    \n",
    "* gensim, a topic modeling package containing our LDA model.\n",
    "    * For Mac/Unix with pip: $ sudo pip install gensim.\n",
    "    \n",
    "* clips.pattern for gensim lemmatization\n",
    "    * -_- only python2 !! If really usefull, I'll do some trick to adapt it"
   ]
  },
  {
   "cell_type": "markdown",
   "metadata": {},
   "source": [
    "### CSV load"
   ]
  },
  {
   "cell_type": "code",
   "execution_count": 4,
   "metadata": {
    "collapsed": false,
    "scrolled": false
   },
   "outputs": [
    {
     "name": "stdout",
     "output_type": "stream",
     "text": [
      "(925, 29)\n"
     ]
    },
    {
     "data": {
      "text/html": [
       "<div>\n",
       "<table border=\"1\" class=\"dataframe\">\n",
       "  <thead>\n",
       "    <tr style=\"text-align: right;\">\n",
       "      <th></th>\n",
       "      <th>Unnamed: 0</th>\n",
       "      <th>CantonAbbreviation</th>\n",
       "      <th>CantonId</th>\n",
       "      <th>CantonName</th>\n",
       "      <th>CouncilId</th>\n",
       "      <th>CouncilName</th>\n",
       "      <th>DisplaySpeaker</th>\n",
       "      <th>End</th>\n",
       "      <th>Function</th>\n",
       "      <th>ID</th>\n",
       "      <th>IdSession</th>\n",
       "      <th>IdSubject</th>\n",
       "      <th>Language</th>\n",
       "      <th>LanguageOfText</th>\n",
       "      <th>MeetingCouncilAbbreviation</th>\n",
       "      <th>MeetingDate</th>\n",
       "      <th>MeetingVerbalixOid</th>\n",
       "      <th>Modified</th>\n",
       "      <th>ParlGroupAbbreviation</th>\n",
       "      <th>ParlGroupName</th>\n",
       "      <th>PersonNumber</th>\n",
       "      <th>SortOrder</th>\n",
       "      <th>SpeakerFirstName</th>\n",
       "      <th>SpeakerFullName</th>\n",
       "      <th>SpeakerLastName</th>\n",
       "      <th>Start</th>\n",
       "      <th>Text</th>\n",
       "      <th>Type</th>\n",
       "      <th>VoteId</th>\n",
       "    </tr>\n",
       "  </thead>\n",
       "  <tbody>\n",
       "    <tr>\n",
       "      <th>0</th>\n",
       "      <td>0</td>\n",
       "      <td>VD</td>\n",
       "      <td>22.0</td>\n",
       "      <td>Vaud</td>\n",
       "      <td>1.0</td>\n",
       "      <td>Conseil national</td>\n",
       "      <td>True</td>\n",
       "      <td>1999-12-06T14:50:21.663</td>\n",
       "      <td>NaN</td>\n",
       "      <td>1</td>\n",
       "      <td>4601</td>\n",
       "      <td>1</td>\n",
       "      <td>FR</td>\n",
       "      <td>FR</td>\n",
       "      <td>N</td>\n",
       "      <td>19991206</td>\n",
       "      <td>637</td>\n",
       "      <td>2015-11-09T11:48:16.91</td>\n",
       "      <td>C</td>\n",
       "      <td>Groupe démocrate-chrétien</td>\n",
       "      <td>498.0</td>\n",
       "      <td>3</td>\n",
       "      <td>Jacques</td>\n",
       "      <td>Neirynck Jacques</td>\n",
       "      <td>Neirynck</td>\n",
       "      <td>1999-12-06T14:36:50.007</td>\n",
       "      <td>La séance d'aujourd'hui s'ouvre sous le signe ...</td>\n",
       "      <td>1</td>\n",
       "      <td>NaN</td>\n",
       "    </tr>\n",
       "    <tr>\n",
       "      <th>2</th>\n",
       "      <td>2</td>\n",
       "      <td>VD</td>\n",
       "      <td>22.0</td>\n",
       "      <td>Vaud</td>\n",
       "      <td>1.0</td>\n",
       "      <td>Conseil national</td>\n",
       "      <td>True</td>\n",
       "      <td>1999-12-06T14:33:39.803</td>\n",
       "      <td>NaN</td>\n",
       "      <td>3</td>\n",
       "      <td>4601</td>\n",
       "      <td>1</td>\n",
       "      <td>FR</td>\n",
       "      <td>FR</td>\n",
       "      <td>N</td>\n",
       "      <td>19991206</td>\n",
       "      <td>637</td>\n",
       "      <td>2015-11-09T11:48:16.937</td>\n",
       "      <td>C</td>\n",
       "      <td>Groupe démocrate-chrétien</td>\n",
       "      <td>498.0</td>\n",
       "      <td>1</td>\n",
       "      <td>Jacques</td>\n",
       "      <td>Neirynck Jacques</td>\n",
       "      <td>Neirynck</td>\n",
       "      <td>1999-12-06T14:32:24.303</td>\n",
       "      <td>Madame la Présidente de la Confédération,  Seh...</td>\n",
       "      <td>1</td>\n",
       "      <td>NaN</td>\n",
       "    </tr>\n",
       "  </tbody>\n",
       "</table>\n",
       "</div>"
      ],
      "text/plain": [
       "   Unnamed: 0 CantonAbbreviation  CantonId CantonName  CouncilId  \\\n",
       "0           0                 VD      22.0       Vaud        1.0   \n",
       "2           2                 VD      22.0       Vaud        1.0   \n",
       "\n",
       "        CouncilName DisplaySpeaker                      End Function  ID  \\\n",
       "0  Conseil national           True  1999-12-06T14:50:21.663      NaN   1   \n",
       "2  Conseil national           True  1999-12-06T14:33:39.803      NaN   3   \n",
       "\n",
       "   IdSession  IdSubject Language LanguageOfText MeetingCouncilAbbreviation  \\\n",
       "0       4601          1       FR             FR                          N   \n",
       "2       4601          1       FR             FR                          N   \n",
       "\n",
       "   MeetingDate  MeetingVerbalixOid                 Modified  \\\n",
       "0     19991206                 637   2015-11-09T11:48:16.91   \n",
       "2     19991206                 637  2015-11-09T11:48:16.937   \n",
       "\n",
       "  ParlGroupAbbreviation              ParlGroupName  PersonNumber  SortOrder  \\\n",
       "0                     C  Groupe démocrate-chrétien         498.0          3   \n",
       "2                     C  Groupe démocrate-chrétien         498.0          1   \n",
       "\n",
       "  SpeakerFirstName   SpeakerFullName SpeakerLastName                    Start  \\\n",
       "0          Jacques  Neirynck Jacques        Neirynck  1999-12-06T14:36:50.007   \n",
       "2          Jacques  Neirynck Jacques        Neirynck  1999-12-06T14:32:24.303   \n",
       "\n",
       "                                                Text  Type  VoteId  \n",
       "0  La séance d'aujourd'hui s'ouvre sous le signe ...     1     NaN  \n",
       "2  Madame la Présidente de la Confédération,  Seh...     1     NaN  "
      ]
     },
     "execution_count": 4,
     "metadata": {},
     "output_type": "execute_result"
    }
   ],
   "source": [
    "df_transcripts = pd.read_csv(\"../scraping/data/Transcript.csv\", nrows=5000)\n",
    "df_transcripts = df_transcripts.loc[df_transcripts['LanguageOfText'] == 'FR']\n",
    "df_transcripts['Text'] = df_transcripts['Text'].apply(cleaner.clean_html)\n",
    "print(df_transcripts.shape)\n",
    "df_transcripts.head(2)"
   ]
  },
  {
   "cell_type": "markdown",
   "metadata": {},
   "source": [
    "### Clean Up pipeline\n",
    "\n",
    "* HTML tags\n",
    "* lower cases\n",
    "* tokenization\n",
    "* removing stop words\n",
    "* stemming"
   ]
  },
  {
   "cell_type": "code",
   "execution_count": 9,
   "metadata": {
    "collapsed": false
   },
   "outputs": [
    {
     "data": {
      "text/plain": [
       "0     [séanc, aujourd, hui, ouvr, sign, hasard, dont...\n",
       "2     [madam, président, confédérat, geehrt, frau, b...\n",
       "11    [sembl, acqui, majorité, conseil, nation, élir...\n",
       "12    [ainsi, rotat, immuabl, présidenc, voudrait, a...\n",
       "13    [venez, recevoir, feuill, vert, donn, list, gr...\n",
       "Name: Text, dtype: object"
      ]
     },
     "execution_count": 9,
     "metadata": {},
     "output_type": "execute_result"
    }
   ],
   "source": [
    "cleaner = Cleaner()\n",
    "text = df_transcripts['Text']\n",
    "clean_text = cleaner.cleaning_pipeline_series(text)\n",
    "clean_text.head()"
   ]
  },
  {
   "cell_type": "code",
   "execution_count": 18,
   "metadata": {
    "collapsed": false
   },
   "outputs": [
    {
     "name": "stdout",
     "output_type": "stream",
     "text": [
      "[INFO] Dictionary defined\n"
     ]
    }
   ],
   "source": [
    "classifier = Classifier()\n",
    "classifier.define_dictionary(clean_text)"
   ]
  },
  {
   "cell_type": "code",
   "execution_count": 19,
   "metadata": {
    "collapsed": false,
    "scrolled": false
   },
   "outputs": [
    {
     "name": "stdout",
     "output_type": "stream",
     "text": [
      "[INFO] LDA model defined\n",
      "[INFO] define_model took 13.629 s\n"
     ]
    }
   ],
   "source": [
    "classifier.define_model(clean_text, 4, 1)"
   ]
  },
  {
   "cell_type": "code",
   "execution_count": 20,
   "metadata": {
    "collapsed": false,
    "scrolled": true
   },
   "outputs": [
    {
     "name": "stdout",
     "output_type": "stream",
     "text": [
      "============\n",
      "Cluster  0 :  (0, '0.013*\"fédéral\" + 0.013*\"conseil\" + 0.009*\"commiss\" + 0.009*\"plu\" + 0.008*\"suiss\" + 0.006*\"loi\" + 0.005*\"proposit\" + 0.005*\"projet\" + 0.004*\"politiqu\" + 0.004*\"articl\"')\n",
      "============\n",
      "Cluster  1 :  (1, '0.014*\"conseil\" + 0.011*\"fédéral\" + 0.010*\"commiss\" + 0.009*\"plu\" + 0.006*\"franc\" + 0.006*\"suiss\" + 0.004*\"pay\" + 0.004*\"certain\" + 0.004*\"proposit\" + 0.004*\"assur\"')\n",
      "============\n",
      "Cluster  2 :  (2, '0.011*\"conseil\" + 0.010*\"fédéral\" + 0.009*\"suiss\" + 0.009*\"plu\" + 0.005*\"commiss\" + 0.004*\"politiqu\" + 0.004*\"proposit\" + 0.004*\"projet\" + 0.004*\"franc\" + 0.004*\"assur\"')\n",
      "============\n",
      "Cluster  3 :  (3, '0.010*\"plu\" + 0.009*\"conseil\" + 0.008*\"commiss\" + 0.007*\"suiss\" + 0.006*\"loi\" + 0.006*\"fédéral\" + 0.005*\"pay\" + 0.005*\"proposit\" + 0.005*\"projet\" + 0.004*\"politiqu\"')\n"
     ]
    }
   ],
   "source": [
    "classifier.print_model()"
   ]
  },
  {
   "cell_type": "code",
   "execution_count": 21,
   "metadata": {
    "collapsed": false
   },
   "outputs": [
    {
     "data": {
      "text/plain": [
       "'La séance d\\'aujourd\\'hui s\\'ouvre sous le signe de deux hasards dont la conjonction est tout à fait remarquable. Un pur hasard du calendrier veut que nous nous réunissions sept ans, jour pour jour, après que le peuple suisse ait décidé de ne pas adhérer à l\\'Espace économique européen. Sept ans plus tard, la campagne électorale fut centrée sur le même problème, qui n\\'a manifestement pas reçu une solution acceptable pour tous, tant l\\'opinion semble partagée à cet égard. Un second hasard, d\\'ordre purement biologique, fait que le doyen d\\'âge de cette Assemblée, président provisoire de cette séance, se trouve être un Suisse naturalisé de fraîche date. Par une ironie supplémentaire, il est même natif de Bruxelles. (Applaudissements) Existe-t-il un autre pays que la Suisse où le Parlement est présidé par un travailleur immigré? La coïncidence de ces deux hasards démontre à la fois que la Suisse n\\'est pas xénophobe, comme l\\'ont laissé entendre certains commentaires superficiels, mais qu\\'elle n\\'est pas pour autant disposée à sacrifier sa tradition politique dans un élan irréfléchi. Cependant, deux symboles, deux hasards apparemment contradictoires ne s\\'annulent pas mutuellement. Ils ne deviennent pas insignifiants, mais ils définissent au contraire un paradoxe, c\\'est-à-dire la manifestation d\\'une vérité cachée, tellement contraire à nos préjugés, que nous ne parvenons ni à l\\'admettre ni même à la concevoir. Quelle est cette vérité? La Suisse ne parvient pas à se situer par rapport à l\\'Europe, qu\\'elle ne peut ni épouser ni récuser. L\\'Union européenne constitue-t-elle une menace pour nos libertés, notre fédéralisme, notre neutralité? Ou bien au contraire pourrait-elle nous protéger dans la dure compétition mondiale? Pourquoi avons-nous peur de répondre à ces questions? Jamais la Suisse n\\'a été plus prospère, plus paisible et moins menacée par un ennemi extérieur. Si l\\'on considère des indicateurs objectifs comme le pouvoir d\\'achat, l\\'espérance de vie, le taux de chômage, la qualité de la formation, les réussites de la recherche scientifique, nous serions bien malvenus de nous plaindre. Nous sommes les enfants gâtés de la planète. Néanmoins, cette paix et cette prospérité n\\'empêchent pas que les citoyens suisses soient agités par des inquiétudes aussi imprécises que multiples. La paix et la démocratie ne semblent plus aussi assurées qu\\'on le croyait. Les évènements des Balkans nous rappellent que le combat pour ces valeurs ne doit jamais cesser. Même s\\'il a gardé son emploi, tout travailleur sait désormais que celui-ci peut être supprimé par des décideurs anonymes. \"Fusion\", \"reconversion\", \"délocalisation\", \"rationalisation\", autant de mots savants qui cachent de tristes et sordides réalités. La solidarité sociale s\\'effrite, l\\'assurance-maladie coûte de plus en plus cher au fur et à mesure que les techniques médicales progressent et que l\\'espérance de vie croît. L\\'AVS est menacée par le déséquilibre de générations en voie de diminution, faute de naissances en nombre suffisant. Les familles sont menacées par la dislocation des couples et par le fossé entre les générations. Nous craignons aussi pour l\\'environnement. Nous nous sentons menacés dans notre santé. Toutes ces craintes, un peu disparates, peuvent néanmoins être reliées à une seule cause: nous sommes emportés par [PAGE 2370] un mouvement planétaire d\\'évolution technique qu\\'il est impossible d\\'arrêter ou de contrôler, la mondialisation pour lui donner enfin son nom. Nous entrons dans un monde de compétition où les conflits ne se règlent plus sur les champs de bataille, mais à la bourse et dans les conseils d\\'administration. La puissance dominante de la planète impose ses vues commerciales et sa culture audiovisuelle. Et le pouvoir politique paraît de plus en plus faible et désarmé face au pouvoir économique. Grande est alors la tentation de se refermer sur soi et de cultiver un passé qui paraît toujours plus rassurant après qu\\'il ait été vécu qu\\'avant de le vivre. L\\'introversion politique nie la réalité extérieure tant celle-ci semble menaçante. Comment surmonter cette peur de l\\'avenir, sinon en s\\'écartant du fantasme et en affrontant la réalité? Nous n\\'arrêterons certainement pas la mondialisation en continuant de croire qu\\'elle n\\'existe pas ou qu\\'elle ne nous concerne pas. A titre d\\'exemple, pour résister à la déferlante de la mondialisation, ne faudrait-il pas s\\'unir à nos voisins? Le bon sens semble l\\'indiquer et l\\'actualité le démontrer. L\\'introduction de l\\'euro a vraiment mis un terme à la spéculation sur les monnaies nationales. En revanche, l\\'isolement de la Suisse l\\'a rendue vulnérable à des décisions, des pressions, des chantages dont ses intérêts ont réellement pâti. Défendre l\\'indépendance ne se conçoit pas sans reconnaître l\\'interdépendance avec ses voisins. Tout l\\'art du fédéralisme helvétique consiste à déléguer un minimum de souveraineté afin de mieux préserver une véritable autonomie. Il a bien fallu que les villages et les villes s\\'unissent jadis au sein des cantons et que ceux-ci, à leur tour, se rassemblent en une Confédération pour résister aux dangers extérieurs. Tel est l\\'objet du serment du Grütli, car à vouloir tout garder, on risque de tout perdre. Il ne faut pas agir comme ces avares qui se font voler leur magot parce qu\\'ils l\\'ont caché sous leur matelas, tant ils avaient peur de le déposer à la banque. Le travail de cette législature pourrait consister à rallier le plus grand nombre autour d\\'un projet réaliste et pragmatique d\\'ouverture sur le monde. Tentons de l\\'esquisser. Par la géographie, la culture et l\\'histoire, la Suisse constitue le coeur même d\\'un continent, qui devient un seul pays, mais un pays affecté par une déchirure béante en son sein. Que serait la Suisse sans, par exemple, le canton de Lucerne? L\\'Europe se construit donc en dehors de la Suisse, mais en s\\'inspirant du modèle suisse. Le fédéralisme et le principe de subsidiarité n\\'expriment-ils pas le même souci de ne pas centraliser sans nécessité? Bien loin de nourrir un appétit de conquête, l\\'Union européenne n\\'accepte que des adhésions librement consenties par les deux parties: son projet est pacifique et neutre. La rigueur budgétaire et le réalisme économique visent à assurer la tranquillité et la prospérité des citoyens. Il n\\'est rien dans les valeurs défendues par l\\'Europe qui se distingue des valeurs que, les premiers, nous avons découvertes au fil de sept siècles, mais que nous ne reconnaissons plus depuis sept années. Si l\\'Union européenne vise la construction d\\'une sorte de Confédération helvétique élargie aux dimensions d\\'un continent, ne faudrait-il pas que les inventeurs travaillent à prefectionner leur invention, dès lors que celle-ci réussit au-delà même des plus folles espérances? Nos fonctionnaires, nos politiciens, nos parlementaires ne sont-ils pas les plus qualifiés au monde pour animer  une construction politique où coexistent Germains et Latins? Natürlich werden wir nie einem \"Europa von früher\" beitreten, einem Europa der Kontinentalkriege, der Kolonialmächte und des Wirtschaftsimperialismus oder einem Europa der allmächtigen Staatsapparate und der Unterdrückungsideologien. Wir haben alles getan, um ein Beispiel vom Gegenteil zu geben. Ist es nicht möglich, dass sich die Schweiz nun Europa anschliesst, nachdem sich Europa der Schweiz angeschlossen hat? Wir brauchen nicht weit zu gehen, um denen zu begegnen, die sich auf unserem Weg befinden. Die Schweiz - unersetzlich, inspiriert, ein Prototyp der Geschichte - hat die Zukunft Europas ersonnen. Machen wir uns auf den Weg in diese Zukunft! Gehen wir diesen Weg, ohne zu hasten, aber gehen wir diesen Weg auch, ohne unnötig zu zaudern! Wovor fürchten wir uns, ausser vor unserem Schatten, der wie ein gigantisches, überdimensionales Abbild von uns selbst an der Wand prangt? Vor einer Schweiz mit kontinentalen Ausmassen? Darob schwindelt uns. Doch eine Schweiz, die sich fürchtet, gleicht einem Vater, der seinen Sohn beneidet, weil er so erfolgreich geworden ist. Fragen wir uns nie, was Europa für uns tun kann, aber fragen wir uns stets, was wir für Europa tun können! Im 21. Jahrhundert wird Europa schweizerisch sein oder nicht sein. Non dobbiamo domandarci mai cosa può fare l\\'Europa per noi, ma dobbiamo domandarci cosa possiamo fare noi per l\\'Europa. Nel XXIo secolo l\\'Europa sarà elvetica o non sarà. (Applauso) '"
      ]
     },
     "execution_count": 21,
     "metadata": {},
     "output_type": "execute_result"
    }
   ],
   "source": [
    "test_text = df_transcripts['Text'][0]\n",
    "test_text"
   ]
  },
  {
   "cell_type": "code",
   "execution_count": 22,
   "metadata": {
    "collapsed": false
   },
   "outputs": [
    {
     "data": {
      "text/plain": [
       "[(2, 0.38913372809247826), (3, 0.61002106626090036)]"
      ]
     },
     "execution_count": 22,
     "metadata": {},
     "output_type": "execute_result"
    }
   ],
   "source": [
    "classifier.classify(test_text)"
   ]
  }
 ],
 "metadata": {
  "anaconda-cloud": {},
  "kernelspec": {
   "display_name": "Python [conda root]",
   "language": "python",
   "name": "conda-root-py"
  },
  "language_info": {
   "codemirror_mode": {
    "name": "ipython",
    "version": 3
   },
   "file_extension": ".py",
   "mimetype": "text/x-python",
   "name": "python",
   "nbconvert_exporter": "python",
   "pygments_lexer": "ipython3",
   "version": "3.5.2"
  }
 },
 "nbformat": 4,
 "nbformat_minor": 1
}

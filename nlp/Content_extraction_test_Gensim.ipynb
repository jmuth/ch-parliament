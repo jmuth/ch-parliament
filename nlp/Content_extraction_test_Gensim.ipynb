{
 "cells": [
  {
   "cell_type": "code",
   "execution_count": 1,
   "metadata": {
    "collapsed": false
   },
   "outputs": [],
   "source": [
    "# Import some useful libraries\n",
    "%matplotlib inline\n",
    "import pandas as pd\n",
    "import urllib\n",
    "import xml.etree.ElementTree as ET\n",
    "import numpy as np\n",
    "import nltk\n",
    "import rake\n",
    "from bs4 import BeautifulSoup as BSoup\n",
    "import nlp_helpers\n",
    "%load_ext autoreload\n",
    "%autoreload 2\n",
    "\n",
    "# display all pandas columns\n",
    "pd.set_option('display.max_columns', 100)"
   ]
  },
  {
   "cell_type": "markdown",
   "metadata": {},
   "source": [
    "# NLP content extraction with GENSIM\n",
    "\n",
    "First attempt of transcript content extraction\n",
    "(Tokenization|Parser|Text Segmentation|Word Break rules|Text Analysis)\n",
    "\n",
    "http://gerardnico.com/wiki/natural_language/parser\n",
    "\n",
    "\n",
    "**Tested: **\n",
    "* RAKE: good but basic, needs a lot of by-hand process (stemming, ...) but perfectly controlled so we can control everything\n",
    "* TextRank: in python2... too lazy to change my path ^^\n",
    "* KEA: Do not seem to be still maintained \n",
    "* MAUI: Improvement of KEA, works with supervised learning and controlled vocabulary. Works with java"
   ]
  },
  {
   "cell_type": "markdown",
   "metadata": {},
   "source": [
    "## Gensim\n",
    "\n",
    "https://rstudio-pubs-static.s3.amazonaws.com/79360_850b2a69980c4488b1db95987a24867a.html\n",
    "\n",
    "* NLTK, a natural language toolkit for Python. A useful package for any natural language processing.\n",
    "    * For Mac/Unix with pip: $ sudo pip install -U nltk.\n",
    "    \n",
    "* stop_words, a Python package containing stop words.\n",
    "    * For Mac/Unix with pip: $ sudo pip install stop-words.\n",
    "    \n",
    "* gensim, a topic modeling package containing our LDA model.\n",
    "    * For Mac/Unix with pip: $ sudo pip install gensim.\n",
    "    \n",
    "* clips.pattern for gensim lemmatization\n",
    "    * -_- only python2 !! If really usefull, I'll do some trick to adapt it"
   ]
  },
  {
   "cell_type": "markdown",
   "metadata": {},
   "source": [
    "### CSV load"
   ]
  },
  {
   "cell_type": "code",
   "execution_count": 2,
   "metadata": {
    "collapsed": false,
    "scrolled": true
   },
   "outputs": [
    {
     "data": {
      "text/html": [
       "<div>\n",
       "<table border=\"1\" class=\"dataframe\">\n",
       "  <thead>\n",
       "    <tr style=\"text-align: right;\">\n",
       "      <th></th>\n",
       "      <th>Unnamed: 0</th>\n",
       "      <th>CantonAbbreviation</th>\n",
       "      <th>CantonId</th>\n",
       "      <th>CantonName</th>\n",
       "      <th>CouncilId</th>\n",
       "      <th>CouncilName</th>\n",
       "      <th>DisplaySpeaker</th>\n",
       "      <th>End</th>\n",
       "      <th>Function</th>\n",
       "      <th>ID</th>\n",
       "      <th>IdSession</th>\n",
       "      <th>IdSubject</th>\n",
       "      <th>Language</th>\n",
       "      <th>LanguageOfText</th>\n",
       "      <th>MeetingCouncilAbbreviation</th>\n",
       "      <th>MeetingDate</th>\n",
       "      <th>MeetingVerbalixOid</th>\n",
       "      <th>Modified</th>\n",
       "      <th>ParlGroupAbbreviation</th>\n",
       "      <th>ParlGroupName</th>\n",
       "      <th>PersonNumber</th>\n",
       "      <th>SortOrder</th>\n",
       "      <th>SpeakerFirstName</th>\n",
       "      <th>SpeakerFullName</th>\n",
       "      <th>SpeakerLastName</th>\n",
       "      <th>Start</th>\n",
       "      <th>Text</th>\n",
       "      <th>Type</th>\n",
       "      <th>VoteId</th>\n",
       "    </tr>\n",
       "  </thead>\n",
       "  <tbody>\n",
       "    <tr>\n",
       "      <th>0</th>\n",
       "      <td>0</td>\n",
       "      <td>VD</td>\n",
       "      <td>22.0</td>\n",
       "      <td>Vaud</td>\n",
       "      <td>1.0</td>\n",
       "      <td>Conseil national</td>\n",
       "      <td>True</td>\n",
       "      <td>1999-12-06T14:50:21.663</td>\n",
       "      <td>NaN</td>\n",
       "      <td>1</td>\n",
       "      <td>4601</td>\n",
       "      <td>1</td>\n",
       "      <td>FR</td>\n",
       "      <td>FR</td>\n",
       "      <td>N</td>\n",
       "      <td>19991206</td>\n",
       "      <td>637</td>\n",
       "      <td>2015-11-09T11:48:16.91</td>\n",
       "      <td>C</td>\n",
       "      <td>Groupe démocrate-chrétien</td>\n",
       "      <td>498.0</td>\n",
       "      <td>3</td>\n",
       "      <td>Jacques</td>\n",
       "      <td>Neirynck Jacques</td>\n",
       "      <td>Neirynck</td>\n",
       "      <td>1999-12-06T14:36:50.007</td>\n",
       "      <td>&lt;pd_text&gt;&lt;p&gt;La séance d'aujourd'hui s'ouvre so...</td>\n",
       "      <td>1</td>\n",
       "      <td>NaN</td>\n",
       "    </tr>\n",
       "    <tr>\n",
       "      <th>2</th>\n",
       "      <td>2</td>\n",
       "      <td>VD</td>\n",
       "      <td>22.0</td>\n",
       "      <td>Vaud</td>\n",
       "      <td>1.0</td>\n",
       "      <td>Conseil national</td>\n",
       "      <td>True</td>\n",
       "      <td>1999-12-06T14:33:39.803</td>\n",
       "      <td>NaN</td>\n",
       "      <td>3</td>\n",
       "      <td>4601</td>\n",
       "      <td>1</td>\n",
       "      <td>FR</td>\n",
       "      <td>FR</td>\n",
       "      <td>N</td>\n",
       "      <td>19991206</td>\n",
       "      <td>637</td>\n",
       "      <td>2015-11-09T11:48:16.937</td>\n",
       "      <td>C</td>\n",
       "      <td>Groupe démocrate-chrétien</td>\n",
       "      <td>498.0</td>\n",
       "      <td>1</td>\n",
       "      <td>Jacques</td>\n",
       "      <td>Neirynck Jacques</td>\n",
       "      <td>Neirynck</td>\n",
       "      <td>1999-12-06T14:32:24.303</td>\n",
       "      <td>&lt;pd_text&gt;&lt;p&gt;Madame la Présidente de la Confédé...</td>\n",
       "      <td>1</td>\n",
       "      <td>NaN</td>\n",
       "    </tr>\n",
       "  </tbody>\n",
       "</table>\n",
       "</div>"
      ],
      "text/plain": [
       "   Unnamed: 0 CantonAbbreviation  CantonId CantonName  CouncilId  \\\n",
       "0           0                 VD      22.0       Vaud        1.0   \n",
       "2           2                 VD      22.0       Vaud        1.0   \n",
       "\n",
       "        CouncilName DisplaySpeaker                      End Function  ID  \\\n",
       "0  Conseil national           True  1999-12-06T14:50:21.663      NaN   1   \n",
       "2  Conseil national           True  1999-12-06T14:33:39.803      NaN   3   \n",
       "\n",
       "   IdSession  IdSubject Language LanguageOfText MeetingCouncilAbbreviation  \\\n",
       "0       4601          1       FR             FR                          N   \n",
       "2       4601          1       FR             FR                          N   \n",
       "\n",
       "   MeetingDate  MeetingVerbalixOid                 Modified  \\\n",
       "0     19991206                 637   2015-11-09T11:48:16.91   \n",
       "2     19991206                 637  2015-11-09T11:48:16.937   \n",
       "\n",
       "  ParlGroupAbbreviation              ParlGroupName  PersonNumber  SortOrder  \\\n",
       "0                     C  Groupe démocrate-chrétien         498.0          3   \n",
       "2                     C  Groupe démocrate-chrétien         498.0          1   \n",
       "\n",
       "  SpeakerFirstName   SpeakerFullName SpeakerLastName                    Start  \\\n",
       "0          Jacques  Neirynck Jacques        Neirynck  1999-12-06T14:36:50.007   \n",
       "2          Jacques  Neirynck Jacques        Neirynck  1999-12-06T14:32:24.303   \n",
       "\n",
       "                                                Text  Type  VoteId  \n",
       "0  <pd_text><p>La séance d'aujourd'hui s'ouvre so...     1     NaN  \n",
       "2  <pd_text><p>Madame la Présidente de la Confédé...     1     NaN  "
      ]
     },
     "execution_count": 2,
     "metadata": {},
     "output_type": "execute_result"
    }
   ],
   "source": [
    "df_transcripts = pd.read_csv(\"../scraping/data/Transcript.csv\", nrows=50000)\n",
    "df_transcripts = df_transcripts.loc[df_transcripts['LanguageOfText'] == 'FR']\n",
    "df_transcripts.head(2)"
   ]
  },
  {
   "cell_type": "code",
   "execution_count": 23,
   "metadata": {
    "collapsed": false
   },
   "outputs": [
    {
     "data": {
      "text/plain": [
       "(10597, 29)"
      ]
     },
     "execution_count": 23,
     "metadata": {},
     "output_type": "execute_result"
    }
   ],
   "source": [
    "df_transcripts.shape"
   ]
  },
  {
   "cell_type": "markdown",
   "metadata": {},
   "source": [
    "### Clean Up pipeline\n",
    "\n",
    "* HTML tags\n",
    "* lower cases\n",
    "* tokenization\n",
    "* removing stop words\n",
    "* stemming"
   ]
  },
  {
   "cell_type": "code",
   "execution_count": 18,
   "metadata": {
    "collapsed": false
   },
   "outputs": [
    {
     "data": {
      "text/plain": [
       "0     [séanc, aujourd, ouvr, sign, hasard, dont, con...\n",
       "2     [madam, président, confédérat, sehr, geehrt, f...\n",
       "11    [sembl, acqui, majorité, conseil, nation, élir...\n",
       "12    [ainsi, rotat, immuabl, présidenc, voudrait, a...\n",
       "13    [venez, recevoir, feuill, vert, donn, list, gr...\n",
       "21    [malheureus, sort, certain, interpel, lesquel,...\n",
       "27    [essentiel, conseil, fédéral, rallié, décision...\n",
       "33    [pens, bien, commenc, législatur, thème, voir,...\n",
       "38    [group, libéral, acceptera, arrêté, fédéral, c...\n",
       "39    [aprè, démonstrat, spectaculair, cultur, popul...\n",
       "Name: Text, dtype: object"
      ]
     },
     "execution_count": 18,
     "metadata": {},
     "output_type": "execute_result"
    }
   ],
   "source": [
    "text = df_transcripts['Text']\n",
    "clean_text = nlp_helpers.cleaning_pipeline(text)\n",
    "clean_text.head(10)"
   ]
  },
  {
   "cell_type": "code",
   "execution_count": 19,
   "metadata": {
    "collapsed": false
   },
   "outputs": [],
   "source": [
    "from gensim import corpora, models\n",
    "\n",
    "# construct a document-term matrix\n",
    "dictionary = corpora.Dictionary(clean_text)"
   ]
  },
  {
   "cell_type": "code",
   "execution_count": 20,
   "metadata": {
    "collapsed": false
   },
   "outputs": [],
   "source": [
    "# converted into a bag-of-words:\n",
    "corpus = [dictionary.doc2bow(text) for text in clean_text]"
   ]
  },
  {
   "cell_type": "code",
   "execution_count": 27,
   "metadata": {
    "collapsed": false
   },
   "outputs": [
    {
     "data": {
      "text/plain": [
       "'inventeur'"
      ]
     },
     "execution_count": 27,
     "metadata": {},
     "output_type": "execute_result"
    }
   ],
   "source": [
    "dictionary[0]"
   ]
  },
  {
   "cell_type": "code",
   "execution_count": 21,
   "metadata": {
    "collapsed": false
   },
   "outputs": [],
   "source": [
    "import gensim\n",
    "ldamodel = gensim.models.ldamodel.LdaModel(corpus, num_topics=10, id2word = dictionary, passes=5)"
   ]
  },
  {
   "cell_type": "code",
   "execution_count": 22,
   "metadata": {
    "collapsed": false
   },
   "outputs": [
    {
     "name": "stdout",
     "output_type": "stream",
     "text": [
      "============\n",
      "Cluster  0 :  (0, '0.019*\"accord\" + 0.015*\"schengen\" + 0.014*\"nicht\" + 0.014*\"union\" + 0.014*\"européenn\" + 0.012*\"dass\" + 0.009*\"ein\" + 0.008*\"auch\"')\n",
      "============\n",
      "Cluster  1 :  (1, '0.015*\"canton\" + 0.012*\"travail\" + 0.012*\"plu\" + 0.011*\"assur\" + 0.006*\"prestat\" + 0.006*\"systèm\" + 0.006*\"mesur\" + 0.006*\"caiss\"')\n",
      "============\n",
      "Cluster  2 :  (2, '0.018*\"articl\" + 0.017*\"commiss\" + 0.013*\"conseil\" + 0.012*\"droit\" + 0.009*\"alinéa\" + 0.008*\"fédéral\" + 0.007*\"plu\" + 0.006*\"etat\"')\n",
      "============\n",
      "Cluster  3 :  (3, '0.035*\"proposit\" + 0.028*\"antrag\" + 0.015*\"commiss\" + 0.015*\"conseil\" + 0.014*\"stimmen\" + 0.012*\"président\" + 0.012*\"adopté\" + 0.011*\"minorité\"')\n",
      "============\n",
      "Cluster  4 :  (4, '0.059*\"initi\" + 0.046*\"group\" + 0.020*\"proposit\" + 0.018*\"majorité\" + 0.016*\"libéral\" + 0.016*\"projet\" + 0.014*\"canton\" + 0.014*\"populair\"')\n",
      "============\n",
      "Cluster  5 :  (5, '0.028*\"conseil\" + 0.023*\"commiss\" + 0.020*\"proposit\" + 0.014*\"fédéral\" + 0.012*\"minorité\" + 0.011*\"majorité\" + 0.008*\"plu\" + 0.008*\"articl\"')\n",
      "============\n",
      "Cluster  6 :  (6, '0.020*\"franc\" + 0.014*\"million\" + 0.010*\"fédéral\" + 0.009*\"plu\" + 0.009*\"suiss\" + 0.007*\"conseil\" + 0.007*\"anné\" + 0.006*\"crédit\"')\n",
      "============\n",
      "Cluster  7 :  (7, '0.018*\"plu\" + 0.011*\"bien\" + 0.010*\"dire\" + 0.009*\"faut\" + 0.008*\"certain\" + 0.008*\"chose\" + 0.007*\"croi\" + 0.007*\"monsieur\"')\n",
      "============\n",
      "Cluster  8 :  (8, '0.025*\"suiss\" + 0.016*\"conseil\" + 0.015*\"pay\" + 0.014*\"politiqu\" + 0.012*\"fédéral\" + 0.008*\"européenn\" + 0.007*\"plu\" + 0.007*\"droit\"')\n",
      "============\n",
      "Cluster  9 :  (9, '0.011*\"fédéral\" + 0.011*\"recherch\" + 0.009*\"domain\" + 0.009*\"conseil\" + 0.009*\"armé\" + 0.008*\"école\" + 0.008*\"servic\" + 0.006*\"question\"')\n"
     ]
    }
   ],
   "source": [
    "for i, bag in enumerate(ldamodel.print_topics(num_topics=20, num_words=8)):\n",
    "    print(\"============\")\n",
    "    print(\"Cluster \", i, \": \", bag)"
   ]
  },
  {
   "cell_type": "code",
   "execution_count": null,
   "metadata": {
    "collapsed": true
   },
   "outputs": [],
   "source": []
  }
 ],
 "metadata": {
  "anaconda-cloud": {},
  "kernelspec": {
   "display_name": "Python [conda root]",
   "language": "python",
   "name": "conda-root-py"
  },
  "language_info": {
   "codemirror_mode": {
    "name": "ipython",
    "version": 3
   },
   "file_extension": ".py",
   "mimetype": "text/x-python",
   "name": "python",
   "nbconvert_exporter": "python",
   "pygments_lexer": "ipython3",
   "version": "3.5.2"
  }
 },
 "nbformat": 4,
 "nbformat_minor": 1
}

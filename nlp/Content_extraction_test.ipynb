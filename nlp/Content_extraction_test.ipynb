{
 "cells": [
  {
   "cell_type": "code",
   "execution_count": 1,
   "metadata": {
    "collapsed": false
   },
   "outputs": [],
   "source": [
    "# Import some useful libraries\n",
    "%matplotlib inline\n",
    "import pandas as pd\n",
    "import urllib\n",
    "import xml.etree.ElementTree as ET\n",
    "import numpy as np\n",
    "import nltk\n",
    "import rake\n",
    "from bs4 import BeautifulSoup as BSoup\n",
    "import nlp_helpers\n",
    "%load_ext autoreload\n",
    "%autoreload 2\n",
    "\n",
    "# display all pandas columns\n",
    "pd.set_option('display.max_columns', 100)"
   ]
  },
  {
   "cell_type": "markdown",
   "metadata": {},
   "source": [
    "# NLP content extraction\n",
    "\n",
    "First attempt of transcript content extraction\n",
    "(Tokenization|Parser|Text Segmentation|Word Break rules|Text Analysis)\n",
    "\n",
    "http://gerardnico.com/wiki/natural_language/parser\n",
    "\n",
    "\n",
    "**Tested: **\n",
    "* RAKE: good but basic, needs a lot of by-hand process (stemming, ...) but perfectly controlled so we can control everything\n",
    "* TextRank: in python2... too lazy to change my path ^^\n",
    "* KEA: Do not seem to be still maintained \n",
    "* MAUI: Improvement of KEA, works with supervised learning and controlled vocabulary. Works with java"
   ]
  },
  {
   "cell_type": "markdown",
   "metadata": {},
   "source": [
    "### CSV load"
   ]
  },
  {
   "cell_type": "code",
   "execution_count": 2,
   "metadata": {
    "collapsed": false
   },
   "outputs": [
    {
     "data": {
      "text/html": [
       "<div>\n",
       "<table border=\"1\" class=\"dataframe\">\n",
       "  <thead>\n",
       "    <tr style=\"text-align: right;\">\n",
       "      <th></th>\n",
       "      <th>Unnamed: 0</th>\n",
       "      <th>CantonAbbreviation</th>\n",
       "      <th>CantonId</th>\n",
       "      <th>CantonName</th>\n",
       "      <th>CouncilId</th>\n",
       "      <th>CouncilName</th>\n",
       "      <th>DisplaySpeaker</th>\n",
       "      <th>End</th>\n",
       "      <th>Function</th>\n",
       "      <th>ID</th>\n",
       "      <th>IdSession</th>\n",
       "      <th>IdSubject</th>\n",
       "      <th>Language</th>\n",
       "      <th>LanguageOfText</th>\n",
       "      <th>MeetingCouncilAbbreviation</th>\n",
       "      <th>MeetingDate</th>\n",
       "      <th>MeetingVerbalixOid</th>\n",
       "      <th>Modified</th>\n",
       "      <th>ParlGroupAbbreviation</th>\n",
       "      <th>ParlGroupName</th>\n",
       "      <th>PersonNumber</th>\n",
       "      <th>SortOrder</th>\n",
       "      <th>SpeakerFirstName</th>\n",
       "      <th>SpeakerFullName</th>\n",
       "      <th>SpeakerLastName</th>\n",
       "      <th>Start</th>\n",
       "      <th>Text</th>\n",
       "      <th>Type</th>\n",
       "      <th>VoteId</th>\n",
       "    </tr>\n",
       "  </thead>\n",
       "  <tbody>\n",
       "    <tr>\n",
       "      <th>0</th>\n",
       "      <td>0</td>\n",
       "      <td>VD</td>\n",
       "      <td>22.0</td>\n",
       "      <td>Vaud</td>\n",
       "      <td>1.0</td>\n",
       "      <td>Conseil national</td>\n",
       "      <td>True</td>\n",
       "      <td>1999-12-06T14:50:21.663</td>\n",
       "      <td>NaN</td>\n",
       "      <td>1</td>\n",
       "      <td>4601</td>\n",
       "      <td>1</td>\n",
       "      <td>FR</td>\n",
       "      <td>FR</td>\n",
       "      <td>N</td>\n",
       "      <td>19991206</td>\n",
       "      <td>637</td>\n",
       "      <td>2015-11-09T11:48:16.91</td>\n",
       "      <td>C</td>\n",
       "      <td>Groupe démocrate-chrétien</td>\n",
       "      <td>498.0</td>\n",
       "      <td>3</td>\n",
       "      <td>Jacques</td>\n",
       "      <td>Neirynck Jacques</td>\n",
       "      <td>Neirynck</td>\n",
       "      <td>1999-12-06T14:36:50.007</td>\n",
       "      <td>&lt;pd_text&gt;&lt;p&gt;La séance d'aujourd'hui s'ouvre so...</td>\n",
       "      <td>1</td>\n",
       "      <td>NaN</td>\n",
       "    </tr>\n",
       "    <tr>\n",
       "      <th>2</th>\n",
       "      <td>2</td>\n",
       "      <td>VD</td>\n",
       "      <td>22.0</td>\n",
       "      <td>Vaud</td>\n",
       "      <td>1.0</td>\n",
       "      <td>Conseil national</td>\n",
       "      <td>True</td>\n",
       "      <td>1999-12-06T14:33:39.803</td>\n",
       "      <td>NaN</td>\n",
       "      <td>3</td>\n",
       "      <td>4601</td>\n",
       "      <td>1</td>\n",
       "      <td>FR</td>\n",
       "      <td>FR</td>\n",
       "      <td>N</td>\n",
       "      <td>19991206</td>\n",
       "      <td>637</td>\n",
       "      <td>2015-11-09T11:48:16.937</td>\n",
       "      <td>C</td>\n",
       "      <td>Groupe démocrate-chrétien</td>\n",
       "      <td>498.0</td>\n",
       "      <td>1</td>\n",
       "      <td>Jacques</td>\n",
       "      <td>Neirynck Jacques</td>\n",
       "      <td>Neirynck</td>\n",
       "      <td>1999-12-06T14:32:24.303</td>\n",
       "      <td>&lt;pd_text&gt;&lt;p&gt;Madame la Présidente de la Confédé...</td>\n",
       "      <td>1</td>\n",
       "      <td>NaN</td>\n",
       "    </tr>\n",
       "  </tbody>\n",
       "</table>\n",
       "</div>"
      ],
      "text/plain": [
       "   Unnamed: 0 CantonAbbreviation  CantonId CantonName  CouncilId  \\\n",
       "0           0                 VD      22.0       Vaud        1.0   \n",
       "2           2                 VD      22.0       Vaud        1.0   \n",
       "\n",
       "        CouncilName DisplaySpeaker                      End Function  ID  \\\n",
       "0  Conseil national           True  1999-12-06T14:50:21.663      NaN   1   \n",
       "2  Conseil national           True  1999-12-06T14:33:39.803      NaN   3   \n",
       "\n",
       "   IdSession  IdSubject Language LanguageOfText MeetingCouncilAbbreviation  \\\n",
       "0       4601          1       FR             FR                          N   \n",
       "2       4601          1       FR             FR                          N   \n",
       "\n",
       "   MeetingDate  MeetingVerbalixOid                 Modified  \\\n",
       "0     19991206                 637   2015-11-09T11:48:16.91   \n",
       "2     19991206                 637  2015-11-09T11:48:16.937   \n",
       "\n",
       "  ParlGroupAbbreviation              ParlGroupName  PersonNumber  SortOrder  \\\n",
       "0                     C  Groupe démocrate-chrétien         498.0          3   \n",
       "2                     C  Groupe démocrate-chrétien         498.0          1   \n",
       "\n",
       "  SpeakerFirstName   SpeakerFullName SpeakerLastName                    Start  \\\n",
       "0          Jacques  Neirynck Jacques        Neirynck  1999-12-06T14:36:50.007   \n",
       "2          Jacques  Neirynck Jacques        Neirynck  1999-12-06T14:32:24.303   \n",
       "\n",
       "                                                Text  Type  VoteId  \n",
       "0  <pd_text><p>La séance d'aujourd'hui s'ouvre so...     1     NaN  \n",
       "2  <pd_text><p>Madame la Présidente de la Confédé...     1     NaN  "
      ]
     },
     "execution_count": 2,
     "metadata": {},
     "output_type": "execute_result"
    }
   ],
   "source": [
    "df_transcripts = pd.read_csv(\"../scraping/data/Transcript.csv\", nrows=50)\n",
    "df_transcripts = df_transcripts.loc[df_transcripts['LanguageOfText'] == 'FR']\n",
    "df_transcripts.head(2)"
   ]
  },
  {
   "cell_type": "markdown",
   "metadata": {},
   "source": [
    "### HTML tag clean up"
   ]
  },
  {
   "cell_type": "code",
   "execution_count": 7,
   "metadata": {
    "collapsed": false
   },
   "outputs": [
    {
     "name": "stdout",
     "output_type": "stream",
     "text": [
      "Il semble acquis qu'une majorité du Conseil national élira comme président de notre Conseil M. Hanspeter Seiler, membre de l'UDC. (Applaudissements) Il semble également acquis que le 15 décembre 1999, à moins que l'annonce de la candidature de M. Blocher ne bouscule les choses, un autre UDC, M. Adolf Ogi, deviendra président de la Confédération. Je ne connais pas M. Seiler, et je sais que M. Ogi n'est ni xénophobe ni raciste. Il n'en demeure pas moins que ces deux hommes représentent un parti qui utilise la xénophobie comme arme politique. Le symbole sera puissant et perçu en particulier à l'étranger comme l'écho de la réalité helvétique, alors que nous soutenons une Suisse ouverte au monde et solidaire. Lorsque j'entends des représentants de la droite, et non des moindres, déclarer aujourd'hui qu'il faut aller encore plus dans le sens de l'UDC, je me dis avec une inquiétude profonde que cette élection de deux présidents UDC, si elle se fait, reflétera bel et bien l'état d'esprit politique et moral d'une proportion importante des élus de ce pays. Mais rien n'est encore fait et, aujourd'hui, une majorité d'entre nous peut décider que la Suisse mérite mieux que d'avoir à la tête de son Parlement et de son Gouvernement deux représentants d'un parti xénophobe. En tous les cas, les Verts ne soutiendront pas un représentant de l'UDC. [PAGE 2374]  \n"
     ]
    }
   ],
   "source": [
    "text_html = df_transcripts['Text'][11]\n",
    "text = nlp_helpers.clean_html(text_html)\n",
    "print(text)"
   ]
  },
  {
   "cell_type": "markdown",
   "metadata": {},
   "source": [
    "### Extract all word, stemmize them, delete stopword, ...\n",
    "(example with french)"
   ]
  },
  {
   "cell_type": "code",
   "execution_count": 8,
   "metadata": {
    "collapsed": false
   },
   "outputs": [
    {
     "name": "stdout",
     "output_type": "stream",
     "text": [
      "==================================\n",
      "From text to list of word:\n",
      "==================================\n",
      "['Il', 'semble', 'acquis', 'qu', 'une', 'majorité', 'du', 'Conseil', 'national', 'élira', 'comme', 'président', 'de', 'notre', 'Conseil', 'M', 'Hanspeter', 'Seiler', 'membre', 'de', 'l', 'UDC', 'Applaudissements', 'Il', 'semble', 'également', 'acquis', 'que', 'le', '15', 'décembre', '1999', 'à', 'moins', 'que', 'l', 'annonce', 'de', 'la', 'candidature', 'de', 'M', 'Blocher', 'ne', 'bouscule', 'les', 'choses', 'un', 'autre', 'UDC', 'M', 'Adolf', 'Ogi', 'deviendra', 'président', 'de', 'la', 'Confédération', 'Je', 'ne', 'connais', 'pas', 'M', 'Seiler', 'et', 'je', 'sais', 'que', 'M', 'Ogi', 'n', 'est', 'ni', 'xénophobe', 'ni', 'raciste', 'Il', 'n', 'en', 'demeure', 'pas', 'moins', 'que', 'ces', 'deux', 'hommes', 'représentent', 'un', 'parti', 'qui', 'utilise', 'la', 'xénophobie', 'comme', 'arme', 'politique', 'Le', 'symbole', 'sera', 'puissant', 'et', 'perçu', 'en', 'particulier', 'à', 'l', 'étranger', 'comme', 'l', 'écho', 'de', 'la', 'réalité', 'helvétique', 'alors', 'que', 'nous', 'soutenons', 'une', 'Suisse', 'ouverte', 'au', 'monde', 'et', 'solidaire', 'Lorsque', 'j', 'entends', 'des', 'représentants', 'de', 'la', 'droite', 'et', 'non', 'des', 'moindres', 'déclarer', 'aujourd', 'hui', 'qu', 'il', 'faut', 'aller', 'encore', 'plus', 'dans', 'le', 'sens', 'de', 'l', 'UDC', 'je', 'me', 'dis', 'avec', 'une', 'inquiétude', 'profonde', 'que', 'cette', 'élection', 'de', 'deux', 'présidents', 'UDC', 'si', 'elle', 'se', 'fait', 'reflétera', 'bel', 'et', 'bien', 'l', 'état', 'd', 'esprit', 'politique', 'et', 'moral', 'd', 'une', 'proportion', 'importante', 'des', 'élus', 'de', 'ce', 'pays', 'Mais', 'rien', 'n', 'est', 'encore', 'fait', 'et', 'aujourd', 'hui', 'une', 'majorité', 'd', 'entre', 'nous', 'peut', 'décider', 'que', 'la', 'Suisse', 'mérite', 'mieux', 'que', 'd', 'avoir', 'à', 'la', 'tête', 'de', 'son', 'Parlement', 'et', 'de', 'son', 'Gouvernement', 'deux', 'représentants', 'd', 'un', 'parti', 'xénophobe', 'En', 'tous', 'les', 'cas', 'les', 'Verts', 'ne', 'soutiendront', 'pas', 'un', 'représentant', 'de', 'l', 'UDC', 'PAGE', '2374']\n",
      "===================================\n",
      "Stemming\n",
      "==================================\n",
      "['il', 'sembl', 'acquis', 'qu', 'une', 'major', 'du', 'conseil', 'national', 'élir', 'comm', 'président', 'de', 'notr', 'conseil', 'm', 'hanspet', 'seil', 'membr', 'de', 'l', 'udc', 'applaud', 'il', 'sembl', 'égal', 'acquis', 'que', 'le', '15', 'décembr', '1999', 'à', 'moin', 'que', 'l', 'annonc', 'de', 'la', 'candidatur', 'de', 'm', 'bloch', 'ne', 'bouscul', 'le', 'chos', 'un', 'autr', 'udc', 'm', 'adolf', 'ogi', 'deviendr', 'président', 'de', 'la', 'conféder', 'je', 'ne', 'con', 'pas', 'm', 'seil', 'et', 'je', 'sais', 'que', 'm', 'ogi', 'n', 'est', 'ni', 'xénophob', 'ni', 'racist', 'il', 'n', 'en', 'demeur', 'pas', 'moin', 'que', 'ce', 'deux', 'homm', 'représentent', 'un', 'part', 'qui', 'utilis', 'la', 'xénophob', 'comm', 'arme', 'polit', 'le', 'symbol', 'ser', 'puiss', 'et', 'perçu', 'en', 'particuli', 'à', 'l', 'étrang', 'comm', 'l', 'écho', 'de', 'la', 'réalit', 'helvet', 'alor', 'que', 'nous', 'soutenon', 'une', 'suiss', 'ouvert', 'au', 'mond', 'et', 'solidair', 'lorsqu', 'j', 'entend', 'de', 'représent', 'de', 'la', 'droit', 'et', 'non', 'de', 'moindr', 'déclar', 'aujourd', 'hui', 'qu', 'il', 'faut', 'aller', 'encor', 'plus', 'dan', 'le', 'sen', 'de', 'l', 'udc', 'je', 'me', 'dis', 'avec', 'une', 'inquiétud', 'profond', 'que', 'cet', 'élect', 'de', 'deux', 'président', 'udc', 'si', 'elle', 'se', 'fait', 'reflet', 'bel', 'et', 'bien', 'l', 'état', 'd', 'esprit', 'polit', 'et', 'moral', 'd', 'une', 'proport', 'import', 'de', 'élus', 'de', 'ce', 'pay', 'mais', 'rien', 'n', 'est', 'encor', 'fait', 'et', 'aujourd', 'hui', 'une', 'major', 'd', 'entre', 'nous', 'peut', 'décid', 'que', 'la', 'suiss', 'mérit', 'mieux', 'que', 'd', 'avoir', 'à', 'la', 'têt', 'de', 'son', 'parl', 'et', 'de', 'son', 'gouvern', 'deux', 'représent', 'd', 'un', 'part', 'xénophob', 'en', 'tous', 'le', 'cas', 'le', 'vert', 'ne', 'soutiendront', 'pas', 'un', 'représent', 'de', 'l', 'udc', 'pag', '2374']\n",
      "===================================\n",
      "New text\n",
      "==================================\n",
      "il sembl acquis qu une major du conseil national élir comm président de notr conseil m hanspet seil membr de l udc applaud il sembl égal acquis que le 15 décembr 1999 à moin que l annonc de la candidatur de m bloch ne bouscul le chos un autr udc m adolf ogi deviendr président de la conféder je ne con pas m seil et je sais que m ogi n est ni xénophob ni racist il n en demeur pas moin que ce deux homm représentent un part qui utilis la xénophob comm arme polit le symbol ser puiss et perçu en particuli à l étrang comm l écho de la réalit helvet alor que nous soutenon une suiss ouvert au mond et solidair lorsqu j entend de représent de la droit et non de moindr déclar aujourd hui qu il faut aller encor plus dan le sen de l udc je me dis avec une inquiétud profond que cet élect de deux président udc si elle se fait reflet bel et bien l état d esprit polit et moral d une proport import de élus de ce pay mais rien n est encor fait et aujourd hui une major d entre nous peut décid que la suiss mérit mieux que d avoir à la têt de son parl et de son gouvern deux représent d un part xénophob en tous le cas le vert ne soutiendront pas un représent de l udc pag 2374\n"
     ]
    }
   ],
   "source": [
    "import re\n",
    "def getWords(text):\n",
    "    text = text.replace(\"'\", \" \")\n",
    "    list_words = re.compile('\\w+').findall(text)\n",
    "    return list_words\n",
    "\n",
    "print(\"==================================\")\n",
    "print(\"From text to list of word:\")\n",
    "print(\"==================================\")\n",
    "list_words = getWords(text)\n",
    "print(list_words)\n",
    "\n",
    "print(\"===================================\")\n",
    "print(\"Stemming\")\n",
    "print(\"==================================\")\n",
    "stemmer = nltk.stem.snowball.FrenchStemmer()\n",
    "\n",
    "list_stems = list(map(stemmer.stem, list_words))\n",
    "print(list_stems)\n",
    "\n",
    "print(\"===================================\")\n",
    "print(\"New text\")\n",
    "print(\"==================================\")\n",
    "stemmed_text = \" \".join(list_stems)\n",
    "print(stemmed_text)"
   ]
  },
  {
   "cell_type": "markdown",
   "metadata": {},
   "source": [
    "## Rake\n",
    "\n",
    "`rake_object = rake.Rake(\"SmartStoplist.txt\", 5, 3, 4)`\n",
    "Now, we have a RAKE object that extracts keywords where:\n",
    "* Each word has at least 5 characters\n",
    "* Each phrase has at most 3 words\n",
    "* Each keyword appears in the text at least 4 times"
   ]
  },
  {
   "cell_type": "code",
   "execution_count": 9,
   "metadata": {
    "collapsed": false
   },
   "outputs": [
    {
     "name": "stdout",
     "output_type": "stream",
     "text": [
      "Keywords:\n",
      "('représent', 4.666666666666666)\n"
     ]
    }
   ],
   "source": [
    "rake_object = rake.Rake(\"FrenchStoplist.txt\", 2, 3, 2)\n",
    "#keywords = rake_object.run(text)\n",
    "keywords = rake_object.run(stemmed_text)\n",
    "\n",
    "print(\"Keywords:\")\n",
    "for k in keywords:\n",
    "    print(k)"
   ]
  },
  {
   "cell_type": "markdown",
   "metadata": {},
   "source": [
    "## Maui\n",
    "\n",
    "**Maui** seems to be a strong improvement of **KEA** and show better scores as far as I could test it. \n",
    "\n",
    "(Test done on RAKE-tutorial https://github.com/zelandiya/RAKE-tutorial\n",
    "following this explanations: https://www.airpair.com/nlp/keyword-extraction-tutorial)\n",
    "\n",
    "Maui works with supervised and/or unsupervised learning, so we need to create a corpus with Transcripts.\n",
    "\n",
    "**Advantage:** Maui can work with a controlled vocabulary to be more consitant! Idea of pipeline:\n",
    "* Create a Transcript corpus (with clean text but without any other processing (no stemming, ...)\n",
    "* Train Maui and then test the obtained result agains my classification\n",
    "* Define a bench of topic in which classified the texts (and expand them with synonyme from, for example, Wordnet)\n",
    "* Train Maui again with this controlled vocabulary\n",
    "* Pray to obtain some results... "
   ]
  },
  {
   "cell_type": "code",
   "execution_count": 6,
   "metadata": {
    "collapsed": false
   },
   "outputs": [
    {
     "name": "stdout",
     "output_type": "stream",
     "text": [
      "(1851, 29)\n"
     ]
    },
    {
     "data": {
      "text/html": [
       "<div>\n",
       "<table border=\"1\" class=\"dataframe\">\n",
       "  <thead>\n",
       "    <tr style=\"text-align: right;\">\n",
       "      <th></th>\n",
       "      <th>Unnamed: 0</th>\n",
       "      <th>CantonAbbreviation</th>\n",
       "      <th>CantonId</th>\n",
       "      <th>CantonName</th>\n",
       "      <th>CouncilId</th>\n",
       "      <th>CouncilName</th>\n",
       "      <th>DisplaySpeaker</th>\n",
       "      <th>End</th>\n",
       "      <th>Function</th>\n",
       "      <th>ID</th>\n",
       "      <th>IdSession</th>\n",
       "      <th>IdSubject</th>\n",
       "      <th>Language</th>\n",
       "      <th>LanguageOfText</th>\n",
       "      <th>MeetingCouncilAbbreviation</th>\n",
       "      <th>MeetingDate</th>\n",
       "      <th>MeetingVerbalixOid</th>\n",
       "      <th>Modified</th>\n",
       "      <th>ParlGroupAbbreviation</th>\n",
       "      <th>ParlGroupName</th>\n",
       "      <th>PersonNumber</th>\n",
       "      <th>SortOrder</th>\n",
       "      <th>SpeakerFirstName</th>\n",
       "      <th>SpeakerFullName</th>\n",
       "      <th>SpeakerLastName</th>\n",
       "      <th>Start</th>\n",
       "      <th>Text</th>\n",
       "      <th>Type</th>\n",
       "      <th>VoteId</th>\n",
       "    </tr>\n",
       "  </thead>\n",
       "  <tbody>\n",
       "    <tr>\n",
       "      <th>0</th>\n",
       "      <td>0</td>\n",
       "      <td>VD</td>\n",
       "      <td>22.0</td>\n",
       "      <td>Vaud</td>\n",
       "      <td>1.0</td>\n",
       "      <td>Conseil national</td>\n",
       "      <td>True</td>\n",
       "      <td>1999-12-06T14:50:21.663</td>\n",
       "      <td>NaN</td>\n",
       "      <td>1</td>\n",
       "      <td>4601</td>\n",
       "      <td>1</td>\n",
       "      <td>FR</td>\n",
       "      <td>FR</td>\n",
       "      <td>N</td>\n",
       "      <td>19991206</td>\n",
       "      <td>637</td>\n",
       "      <td>2015-11-09T11:48:16.91</td>\n",
       "      <td>C</td>\n",
       "      <td>Groupe démocrate-chrétien</td>\n",
       "      <td>498.0</td>\n",
       "      <td>3</td>\n",
       "      <td>Jacques</td>\n",
       "      <td>Neirynck Jacques</td>\n",
       "      <td>Neirynck</td>\n",
       "      <td>1999-12-06T14:36:50.007</td>\n",
       "      <td>&lt;pd_text&gt;&lt;p&gt;La séance d'aujourd'hui s'ouvre so...</td>\n",
       "      <td>1</td>\n",
       "      <td>NaN</td>\n",
       "    </tr>\n",
       "    <tr>\n",
       "      <th>2</th>\n",
       "      <td>2</td>\n",
       "      <td>VD</td>\n",
       "      <td>22.0</td>\n",
       "      <td>Vaud</td>\n",
       "      <td>1.0</td>\n",
       "      <td>Conseil national</td>\n",
       "      <td>True</td>\n",
       "      <td>1999-12-06T14:33:39.803</td>\n",
       "      <td>NaN</td>\n",
       "      <td>3</td>\n",
       "      <td>4601</td>\n",
       "      <td>1</td>\n",
       "      <td>FR</td>\n",
       "      <td>FR</td>\n",
       "      <td>N</td>\n",
       "      <td>19991206</td>\n",
       "      <td>637</td>\n",
       "      <td>2015-11-09T11:48:16.937</td>\n",
       "      <td>C</td>\n",
       "      <td>Groupe démocrate-chrétien</td>\n",
       "      <td>498.0</td>\n",
       "      <td>1</td>\n",
       "      <td>Jacques</td>\n",
       "      <td>Neirynck Jacques</td>\n",
       "      <td>Neirynck</td>\n",
       "      <td>1999-12-06T14:32:24.303</td>\n",
       "      <td>&lt;pd_text&gt;&lt;p&gt;Madame la Présidente de la Confédé...</td>\n",
       "      <td>1</td>\n",
       "      <td>NaN</td>\n",
       "    </tr>\n",
       "  </tbody>\n",
       "</table>\n",
       "</div>"
      ],
      "text/plain": [
       "   Unnamed: 0 CantonAbbreviation  CantonId CantonName  CouncilId  \\\n",
       "0           0                 VD      22.0       Vaud        1.0   \n",
       "2           2                 VD      22.0       Vaud        1.0   \n",
       "\n",
       "        CouncilName DisplaySpeaker                      End Function  ID  \\\n",
       "0  Conseil national           True  1999-12-06T14:50:21.663      NaN   1   \n",
       "2  Conseil national           True  1999-12-06T14:33:39.803      NaN   3   \n",
       "\n",
       "   IdSession  IdSubject Language LanguageOfText MeetingCouncilAbbreviation  \\\n",
       "0       4601          1       FR             FR                          N   \n",
       "2       4601          1       FR             FR                          N   \n",
       "\n",
       "   MeetingDate  MeetingVerbalixOid                 Modified  \\\n",
       "0     19991206                 637   2015-11-09T11:48:16.91   \n",
       "2     19991206                 637  2015-11-09T11:48:16.937   \n",
       "\n",
       "  ParlGroupAbbreviation              ParlGroupName  PersonNumber  SortOrder  \\\n",
       "0                     C  Groupe démocrate-chrétien         498.0          3   \n",
       "2                     C  Groupe démocrate-chrétien         498.0          1   \n",
       "\n",
       "  SpeakerFirstName   SpeakerFullName SpeakerLastName                    Start  \\\n",
       "0          Jacques  Neirynck Jacques        Neirynck  1999-12-06T14:36:50.007   \n",
       "2          Jacques  Neirynck Jacques        Neirynck  1999-12-06T14:32:24.303   \n",
       "\n",
       "                                                Text  Type  VoteId  \n",
       "0  <pd_text><p>La séance d'aujourd'hui s'ouvre so...     1     NaN  \n",
       "2  <pd_text><p>Madame la Présidente de la Confédé...     1     NaN  "
      ]
     },
     "execution_count": 6,
     "metadata": {},
     "output_type": "execute_result"
    }
   ],
   "source": [
    "# Create a .txt corpus (in french for the moment)\n",
    "df_transcripts = pd.read_csv(\"../scraping/data/Transcript.csv\", nrows=10000)\n",
    "df_transcripts = df_transcripts.loc[df_transcripts['LanguageOfText'] == 'FR']\n",
    "print(df_transcripts.shape)\n",
    "df_transcripts.head(2)\n",
    "    "
   ]
  },
  {
   "cell_type": "code",
   "execution_count": 11,
   "metadata": {
    "collapsed": false
   },
   "outputs": [
    {
     "name": "stdout",
     "output_type": "stream",
     "text": [
      "[INFO] Start creating corpus\n",
      "[INFO] Finished. Files created in folder ' data ' of size ~ 5.44 mb\n"
     ]
    }
   ],
   "source": [
    "# let's begin with a thousand text\n",
    "nlp_helpers.create_corpus(df_transcripts)"
   ]
  },
  {
   "cell_type": "code",
   "execution_count": null,
   "metadata": {
    "collapsed": true
   },
   "outputs": [],
   "source": []
  }
 ],
 "metadata": {
  "anaconda-cloud": {},
  "kernelspec": {
   "display_name": "Python [conda root]",
   "language": "python",
   "name": "conda-root-py"
  },
  "language_info": {
   "codemirror_mode": {
    "name": "ipython",
    "version": 3
   },
   "file_extension": ".py",
   "mimetype": "text/x-python",
   "name": "python",
   "nbconvert_exporter": "python",
   "pygments_lexer": "ipython3",
   "version": "3.5.2"
  }
 },
 "nbformat": 4,
 "nbformat_minor": 1
}
